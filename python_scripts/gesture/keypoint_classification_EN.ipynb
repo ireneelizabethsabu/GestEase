{
  "cells": [
    {
      "cell_type": "code",
      "execution_count": 13,
      "metadata": {
        "id": "igMyGnjE9hEp"
      },
      "outputs": [],
      "source": [
        "import csv\n",
        "\n",
        "import numpy as np\n",
        "import tensorflow as tf\n",
        "from sklearn.model_selection import train_test_split\n",
        "\n",
        "RANDOM_SEED = 42"
      ]
    },
    {
      "cell_type": "markdown",
      "metadata": {
        "id": "t2HDvhIu9hEr"
      },
      "source": [
        "# Specify each path"
      ]
    },
    {
      "cell_type": "code",
      "execution_count": 14,
      "metadata": {
        "id": "9NvZP2Zn9hEy"
      },
      "outputs": [],
      "source": [
        "dataset = 'model/keypoint_classifier/keypoint.csv'\n",
        "model_save_path = 'model/keypoint_classifier/keypoint_classifier.hdf5'\n",
        "tflite_save_path = 'model/keypoint_classifier/keypoint_classifier.tflite'"
      ]
    },
    {
      "cell_type": "markdown",
      "metadata": {
        "id": "s5oMH7x19hEz"
      },
      "source": [
        "# Set number of classes"
      ]
    },
    {
      "cell_type": "code",
      "execution_count": 15,
      "metadata": {
        "id": "du4kodXL9hEz"
      },
      "outputs": [],
      "source": [
        "NUM_CLASSES = 8 #increment when adding the gestures"
      ]
    },
    {
      "cell_type": "markdown",
      "metadata": {
        "id": "XjnL0uso9hEz"
      },
      "source": [
        "# Dataset reading"
      ]
    },
    {
      "cell_type": "code",
      "execution_count": 16,
      "metadata": {
        "id": "QT5ZqtEz9hE0"
      },
      "outputs": [],
      "source": [
        "X_dataset = np.loadtxt(dataset, delimiter=',', dtype='float32', usecols=list(range(1, (21 * 2) + 1)))"
      ]
    },
    {
      "cell_type": "code",
      "execution_count": 17,
      "metadata": {
        "id": "QmoKFsp49hE0"
      },
      "outputs": [],
      "source": [
        "y_dataset = np.loadtxt(dataset, delimiter=',', dtype='int32', usecols=(0))"
      ]
    },
    {
      "cell_type": "code",
      "execution_count": 18,
      "metadata": {
        "id": "xQU7JTZ_9hE0"
      },
      "outputs": [],
      "source": [
        "X_train, X_test, y_train, y_test = train_test_split(X_dataset, y_dataset, train_size=0.75, random_state=RANDOM_SEED)"
      ]
    },
    {
      "cell_type": "markdown",
      "metadata": {
        "id": "mxK_lETT9hE0"
      },
      "source": [
        "# Model building"
      ]
    },
    {
      "cell_type": "code",
      "execution_count": 19,
      "metadata": {
        "id": "vHBmUf1t9hE1"
      },
      "outputs": [],
      "source": [
        "model = tf.keras.models.Sequential([\n",
        "    tf.keras.layers.Input((21 * 2, )),\n",
        "    tf.keras.layers.Dropout(0.2),\n",
        "    tf.keras.layers.Dense(20, activation='relu'),\n",
        "    tf.keras.layers.Dropout(0.4),\n",
        "    tf.keras.layers.Dense(10, activation='relu'),\n",
        "    tf.keras.layers.Dense(NUM_CLASSES, activation='softmax')\n",
        "])"
      ]
    },
    {
      "cell_type": "code",
      "execution_count": 20,
      "metadata": {
        "colab": {
          "base_uri": "https://localhost:8080/"
        },
        "id": "ypqky9tc9hE1",
        "outputId": "5db082bb-30e3-4110-bf63-a1ee777ecd46"
      },
      "outputs": [
        {
          "name": "stdout",
          "output_type": "stream",
          "text": [
            "Model: \"sequential_1\"\n",
            "_________________________________________________________________\n",
            " Layer (type)                Output Shape              Param #   \n",
            "=================================================================\n",
            " dropout_2 (Dropout)         (None, 42)                0         \n",
            "                                                                 \n",
            " dense_3 (Dense)             (None, 20)                860       \n",
            "                                                                 \n",
            " dropout_3 (Dropout)         (None, 20)                0         \n",
            "                                                                 \n",
            " dense_4 (Dense)             (None, 10)                210       \n",
            "                                                                 \n",
            " dense_5 (Dense)             (None, 8)                 88        \n",
            "                                                                 \n",
            "=================================================================\n",
            "Total params: 1,158\n",
            "Trainable params: 1,158\n",
            "Non-trainable params: 0\n",
            "_________________________________________________________________\n"
          ]
        }
      ],
      "source": [
        "model.summary()  # tf.keras.utils.plot_model(model, show_shapes=True)"
      ]
    },
    {
      "cell_type": "code",
      "execution_count": 21,
      "metadata": {
        "id": "MbMjOflQ9hE1"
      },
      "outputs": [],
      "source": [
        "# Model checkpoint callback\n",
        "cp_callback = tf.keras.callbacks.ModelCheckpoint(\n",
        "    model_save_path, verbose=1, save_weights_only=False)\n",
        "# Callback for early stopping\n",
        "es_callback = tf.keras.callbacks.EarlyStopping(patience=20, verbose=1)"
      ]
    },
    {
      "cell_type": "code",
      "execution_count": 22,
      "metadata": {
        "id": "c3Dac0M_9hE2"
      },
      "outputs": [],
      "source": [
        "# Model compilation\n",
        "model.compile(\n",
        "    optimizer='adam',\n",
        "    loss='sparse_categorical_crossentropy',\n",
        "    metrics=['accuracy']\n",
        ")"
      ]
    },
    {
      "cell_type": "markdown",
      "metadata": {
        "id": "7XI0j1Iu9hE2"
      },
      "source": [
        "# Model training"
      ]
    },
    {
      "cell_type": "code",
      "execution_count": 23,
      "metadata": {
        "colab": {
          "base_uri": "https://localhost:8080/"
        },
        "id": "WirBl-JE9hE3",
        "outputId": "71b30ca2-8294-4d9d-8aa2-800d90d399de",
        "scrolled": true
      },
      "outputs": [
        {
          "name": "stdout",
          "output_type": "stream",
          "text": [
            "Epoch 1/1000\n",
            "28/31 [==========================>...] - ETA: 0s - loss: 2.0131 - accuracy: 0.1830\n",
            "Epoch 1: saving model to model/keypoint_classifier\\keypoint_classifier.hdf5\n",
            "31/31 [==============================] - 5s 64ms/step - loss: 2.0051 - accuracy: 0.1867 - val_loss: 1.8106 - val_accuracy: 0.3029\n",
            "Epoch 2/1000\n",
            "26/31 [========================>.....] - ETA: 0s - loss: 1.7366 - accuracy: 0.3125\n",
            "Epoch 2: saving model to model/keypoint_classifier\\keypoint_classifier.hdf5\n",
            "31/31 [==============================] - 1s 20ms/step - loss: 1.7313 - accuracy: 0.3146 - val_loss: 1.5836 - val_accuracy: 0.3501\n",
            "Epoch 3/1000\n",
            "29/31 [===========================>..] - ETA: 0s - loss: 1.6188 - accuracy: 0.3456\n",
            "Epoch 3: saving model to model/keypoint_classifier\\keypoint_classifier.hdf5\n",
            "31/31 [==============================] - 1s 19ms/step - loss: 1.6146 - accuracy: 0.3463 - val_loss: 1.4931 - val_accuracy: 0.3741\n",
            "Epoch 4/1000\n",
            "29/31 [===========================>..] - ETA: 0s - loss: 1.5365 - accuracy: 0.3626\n",
            "Epoch 4: saving model to model/keypoint_classifier\\keypoint_classifier.hdf5\n",
            "31/31 [==============================] - 1s 17ms/step - loss: 1.5399 - accuracy: 0.3616 - val_loss: 1.4271 - val_accuracy: 0.4136\n",
            "Epoch 5/1000\n",
            "29/31 [===========================>..] - ETA: 0s - loss: 1.4900 - accuracy: 0.3739\n",
            "Epoch 5: saving model to model/keypoint_classifier\\keypoint_classifier.hdf5\n",
            "31/31 [==============================] - 1s 23ms/step - loss: 1.4869 - accuracy: 0.3735 - val_loss: 1.3751 - val_accuracy: 0.4105\n",
            "Epoch 6/1000\n",
            "30/31 [============================>.] - ETA: 0s - loss: 1.4408 - accuracy: 0.3990\n",
            "Epoch 6: saving model to model/keypoint_classifier\\keypoint_classifier.hdf5\n",
            "31/31 [==============================] - 1s 18ms/step - loss: 1.4397 - accuracy: 0.4001 - val_loss: 1.3307 - val_accuracy: 0.4508\n",
            "Epoch 7/1000\n",
            "28/31 [==========================>...] - ETA: 0s - loss: 1.4146 - accuracy: 0.4135\n",
            "Epoch 7: saving model to model/keypoint_classifier\\keypoint_classifier.hdf5\n",
            "31/31 [==============================] - 1s 20ms/step - loss: 1.4128 - accuracy: 0.4127 - val_loss: 1.2921 - val_accuracy: 0.4802\n",
            "Epoch 8/1000\n",
            "31/31 [==============================] - ETA: 0s - loss: 1.3703 - accuracy: 0.4267\n",
            "Epoch 8: saving model to model/keypoint_classifier\\keypoint_classifier.hdf5\n",
            "31/31 [==============================] - 1s 24ms/step - loss: 1.3703 - accuracy: 0.4267 - val_loss: 1.2482 - val_accuracy: 0.5058\n",
            "Epoch 9/1000\n",
            "27/31 [=========================>....] - ETA: 0s - loss: 1.3488 - accuracy: 0.4502\n",
            "Epoch 9: saving model to model/keypoint_classifier\\keypoint_classifier.hdf5\n",
            "31/31 [==============================] - 1s 19ms/step - loss: 1.3463 - accuracy: 0.4533 - val_loss: 1.2072 - val_accuracy: 0.5368\n",
            "Epoch 10/1000\n",
            "24/31 [======================>.......] - ETA: 0s - loss: 1.3160 - accuracy: 0.4684\n",
            "Epoch 10: saving model to model/keypoint_classifier\\keypoint_classifier.hdf5\n",
            "31/31 [==============================] - 1s 19ms/step - loss: 1.3114 - accuracy: 0.4724 - val_loss: 1.1555 - val_accuracy: 0.5709\n",
            "Epoch 11/1000\n",
            "27/31 [=========================>....] - ETA: 0s - loss: 1.2762 - accuracy: 0.4922\n",
            "Epoch 11: saving model to model/keypoint_classifier\\keypoint_classifier.hdf5\n",
            "31/31 [==============================] - 1s 26ms/step - loss: 1.2725 - accuracy: 0.4910 - val_loss: 1.1020 - val_accuracy: 0.6809\n",
            "Epoch 12/1000\n",
            "27/31 [=========================>....] - ETA: 0s - loss: 1.2503 - accuracy: 0.5075\n",
            "Epoch 12: saving model to model/keypoint_classifier\\keypoint_classifier.hdf5\n",
            "31/31 [==============================] - 1s 27ms/step - loss: 1.2475 - accuracy: 0.5111 - val_loss: 1.0535 - val_accuracy: 0.7273\n",
            "Epoch 13/1000\n",
            "26/31 [========================>.....] - ETA: 0s - loss: 1.2133 - accuracy: 0.5207\n",
            "Epoch 13: saving model to model/keypoint_classifier\\keypoint_classifier.hdf5\n",
            "31/31 [==============================] - 0s 15ms/step - loss: 1.2091 - accuracy: 0.5225 - val_loss: 0.9973 - val_accuracy: 0.7831\n",
            "Epoch 14/1000\n",
            "31/31 [==============================] - ETA: 0s - loss: 1.1804 - accuracy: 0.5509\n",
            "Epoch 14: saving model to model/keypoint_classifier\\keypoint_classifier.hdf5\n",
            "31/31 [==============================] - 1s 20ms/step - loss: 1.1804 - accuracy: 0.5509 - val_loss: 0.9509 - val_accuracy: 0.7971\n",
            "Epoch 15/1000\n",
            "26/31 [========================>.....] - ETA: 0s - loss: 1.1378 - accuracy: 0.5679\n",
            "Epoch 15: saving model to model/keypoint_classifier\\keypoint_classifier.hdf5\n",
            "31/31 [==============================] - 1s 20ms/step - loss: 1.1388 - accuracy: 0.5700 - val_loss: 0.8976 - val_accuracy: 0.7978\n",
            "Epoch 16/1000\n",
            "31/31 [==============================] - ETA: 0s - loss: 1.1240 - accuracy: 0.5617\n",
            "Epoch 16: saving model to model/keypoint_classifier\\keypoint_classifier.hdf5\n",
            "31/31 [==============================] - 2s 53ms/step - loss: 1.1240 - accuracy: 0.5617 - val_loss: 0.8591 - val_accuracy: 0.8164\n",
            "Epoch 17/1000\n",
            "25/31 [=======================>......] - ETA: 0s - loss: 1.0886 - accuracy: 0.5825\n",
            "Epoch 17: saving model to model/keypoint_classifier\\keypoint_classifier.hdf5\n",
            "31/31 [==============================] - 0s 16ms/step - loss: 1.0882 - accuracy: 0.5868 - val_loss: 0.8194 - val_accuracy: 0.8249\n",
            "Epoch 18/1000\n",
            "26/31 [========================>.....] - ETA: 0s - loss: 1.0714 - accuracy: 0.5953\n",
            "Epoch 18: saving model to model/keypoint_classifier\\keypoint_classifier.hdf5\n",
            "31/31 [==============================] - 1s 16ms/step - loss: 1.0718 - accuracy: 0.5963 - val_loss: 0.7818 - val_accuracy: 0.8296\n",
            "Epoch 19/1000\n",
            "25/31 [=======================>......] - ETA: 0s - loss: 1.0335 - accuracy: 0.6141\n",
            "Epoch 19: saving model to model/keypoint_classifier\\keypoint_classifier.hdf5\n",
            "31/31 [==============================] - 1s 27ms/step - loss: 1.0327 - accuracy: 0.6183 - val_loss: 0.7499 - val_accuracy: 0.8304\n",
            "Epoch 20/1000\n",
            "30/31 [============================>.] - ETA: 0s - loss: 1.0188 - accuracy: 0.6234\n",
            "Epoch 20: saving model to model/keypoint_classifier\\keypoint_classifier.hdf5\n",
            "31/31 [==============================] - 1s 19ms/step - loss: 1.0169 - accuracy: 0.6247 - val_loss: 0.7142 - val_accuracy: 0.8505\n",
            "Epoch 21/1000\n",
            "30/31 [============================>.] - ETA: 0s - loss: 1.0057 - accuracy: 0.6185\n",
            "Epoch 21: saving model to model/keypoint_classifier\\keypoint_classifier.hdf5\n",
            "31/31 [==============================] - 1s 17ms/step - loss: 1.0050 - accuracy: 0.6185 - val_loss: 0.6877 - val_accuracy: 0.8567\n",
            "Epoch 22/1000\n",
            "26/31 [========================>.....] - ETA: 0s - loss: 0.9890 - accuracy: 0.6376\n",
            "Epoch 22: saving model to model/keypoint_classifier\\keypoint_classifier.hdf5\n",
            "31/31 [==============================] - 1s 24ms/step - loss: 0.9730 - accuracy: 0.6446 - val_loss: 0.6643 - val_accuracy: 0.8644\n",
            "Epoch 23/1000\n",
            "26/31 [========================>.....] - ETA: 0s - loss: 0.9631 - accuracy: 0.6376\n",
            "Epoch 23: saving model to model/keypoint_classifier\\keypoint_classifier.hdf5\n",
            "31/31 [==============================] - 1s 21ms/step - loss: 0.9658 - accuracy: 0.6379 - val_loss: 0.6437 - val_accuracy: 0.8776\n",
            "Epoch 24/1000\n",
            "31/31 [==============================] - ETA: 0s - loss: 0.9537 - accuracy: 0.6482\n",
            "Epoch 24: saving model to model/keypoint_classifier\\keypoint_classifier.hdf5\n",
            "31/31 [==============================] - 1s 22ms/step - loss: 0.9537 - accuracy: 0.6482 - val_loss: 0.6275 - val_accuracy: 0.8675\n",
            "Epoch 25/1000\n",
            "25/31 [=======================>......] - ETA: 0s - loss: 0.9505 - accuracy: 0.6541\n",
            "Epoch 25: saving model to model/keypoint_classifier\\keypoint_classifier.hdf5\n",
            "31/31 [==============================] - 1s 21ms/step - loss: 0.9576 - accuracy: 0.6557 - val_loss: 0.6113 - val_accuracy: 0.8815\n",
            "Epoch 26/1000\n",
            "25/31 [=======================>......] - ETA: 0s - loss: 0.9521 - accuracy: 0.6419\n",
            "Epoch 26: saving model to model/keypoint_classifier\\keypoint_classifier.hdf5\n",
            "31/31 [==============================] - 1s 17ms/step - loss: 0.9461 - accuracy: 0.6449 - val_loss: 0.6037 - val_accuracy: 0.8815\n",
            "Epoch 27/1000\n",
            "27/31 [=========================>....] - ETA: 0s - loss: 0.9148 - accuracy: 0.6635\n",
            "Epoch 27: saving model to model/keypoint_classifier\\keypoint_classifier.hdf5\n",
            "31/31 [==============================] - 1s 19ms/step - loss: 0.9166 - accuracy: 0.6619 - val_loss: 0.5862 - val_accuracy: 0.8792\n",
            "Epoch 28/1000\n",
            "29/31 [===========================>..] - ETA: 0s - loss: 0.9105 - accuracy: 0.6624\n",
            "Epoch 28: saving model to model/keypoint_classifier\\keypoint_classifier.hdf5\n",
            "31/31 [==============================] - 1s 19ms/step - loss: 0.9072 - accuracy: 0.6655 - val_loss: 0.5680 - val_accuracy: 0.8799\n",
            "Epoch 29/1000\n",
            "24/31 [======================>.......] - ETA: 0s - loss: 0.9080 - accuracy: 0.6663\n",
            "Epoch 29: saving model to model/keypoint_classifier\\keypoint_classifier.hdf5\n",
            "31/31 [==============================] - 1s 18ms/step - loss: 0.9128 - accuracy: 0.6601 - val_loss: 0.5599 - val_accuracy: 0.8823\n",
            "Epoch 30/1000\n",
            "24/31 [======================>.......] - ETA: 0s - loss: 0.8942 - accuracy: 0.6738\n",
            "Epoch 30: saving model to model/keypoint_classifier\\keypoint_classifier.hdf5\n",
            "31/31 [==============================] - 1s 17ms/step - loss: 0.8893 - accuracy: 0.6746 - val_loss: 0.5515 - val_accuracy: 0.8823\n",
            "Epoch 31/1000\n",
            "30/31 [============================>.] - ETA: 0s - loss: 0.8901 - accuracy: 0.6729\n",
            "Epoch 31: saving model to model/keypoint_classifier\\keypoint_classifier.hdf5\n",
            "31/31 [==============================] - 1s 18ms/step - loss: 0.8896 - accuracy: 0.6725 - val_loss: 0.5415 - val_accuracy: 0.8807\n",
            "Epoch 32/1000\n",
            "29/31 [===========================>..] - ETA: 0s - loss: 0.8789 - accuracy: 0.6827\n",
            "Epoch 32: saving model to model/keypoint_classifier\\keypoint_classifier.hdf5\n",
            "31/31 [==============================] - 1s 19ms/step - loss: 0.8824 - accuracy: 0.6800 - val_loss: 0.5313 - val_accuracy: 0.8830\n",
            "Epoch 33/1000\n",
            "28/31 [==========================>...] - ETA: 0s - loss: 0.8855 - accuracy: 0.6674\n",
            "Epoch 33: saving model to model/keypoint_classifier\\keypoint_classifier.hdf5\n",
            "31/31 [==============================] - 1s 18ms/step - loss: 0.8816 - accuracy: 0.6715 - val_loss: 0.5201 - val_accuracy: 0.8830\n",
            "Epoch 34/1000\n",
            "27/31 [=========================>....] - ETA: 0s - loss: 0.8687 - accuracy: 0.6826\n",
            "Epoch 34: saving model to model/keypoint_classifier\\keypoint_classifier.hdf5\n",
            "31/31 [==============================] - 1s 17ms/step - loss: 0.8660 - accuracy: 0.6834 - val_loss: 0.5114 - val_accuracy: 0.8830\n",
            "Epoch 35/1000\n",
            "24/31 [======================>.......] - ETA: 0s - loss: 0.8730 - accuracy: 0.6729\n",
            "Epoch 35: saving model to model/keypoint_classifier\\keypoint_classifier.hdf5\n",
            "31/31 [==============================] - 0s 15ms/step - loss: 0.8687 - accuracy: 0.6779 - val_loss: 0.5022 - val_accuracy: 0.8838\n",
            "Epoch 36/1000\n",
            "31/31 [==============================] - ETA: 0s - loss: 0.8726 - accuracy: 0.6847\n",
            "Epoch 36: saving model to model/keypoint_classifier\\keypoint_classifier.hdf5\n",
            "31/31 [==============================] - 1s 33ms/step - loss: 0.8726 - accuracy: 0.6847 - val_loss: 0.4979 - val_accuracy: 0.8823\n",
            "Epoch 37/1000\n",
            "30/31 [============================>.] - ETA: 0s - loss: 0.8549 - accuracy: 0.6891\n",
            "Epoch 37: saving model to model/keypoint_classifier\\keypoint_classifier.hdf5\n",
            "31/31 [==============================] - 1s 28ms/step - loss: 0.8556 - accuracy: 0.6885 - val_loss: 0.4910 - val_accuracy: 0.8807\n",
            "Epoch 38/1000\n",
            "27/31 [=========================>....] - ETA: 0s - loss: 0.8715 - accuracy: 0.6716\n",
            "Epoch 38: saving model to model/keypoint_classifier\\keypoint_classifier.hdf5\n",
            "31/31 [==============================] - 1s 27ms/step - loss: 0.8647 - accuracy: 0.6754 - val_loss: 0.4935 - val_accuracy: 0.8830\n",
            "Epoch 39/1000\n",
            "29/31 [===========================>..] - ETA: 0s - loss: 0.8394 - accuracy: 0.7069\n",
            "Epoch 39: saving model to model/keypoint_classifier\\keypoint_classifier.hdf5\n",
            "31/31 [==============================] - 1s 21ms/step - loss: 0.8417 - accuracy: 0.7043 - val_loss: 0.4812 - val_accuracy: 0.8823\n",
            "Epoch 40/1000\n",
            "26/31 [========================>.....] - ETA: 0s - loss: 0.8377 - accuracy: 0.6995\n",
            "Epoch 40: saving model to model/keypoint_classifier\\keypoint_classifier.hdf5\n",
            "31/31 [==============================] - 1s 30ms/step - loss: 0.8326 - accuracy: 0.7051 - val_loss: 0.4691 - val_accuracy: 0.8869\n",
            "Epoch 41/1000\n",
            "26/31 [========================>.....] - ETA: 0s - loss: 0.8431 - accuracy: 0.6866\n",
            "Epoch 41: saving model to model/keypoint_classifier\\keypoint_classifier.hdf5\n",
            "31/31 [==============================] - 1s 29ms/step - loss: 0.8331 - accuracy: 0.6906 - val_loss: 0.4637 - val_accuracy: 0.8838\n",
            "Epoch 42/1000\n",
            "31/31 [==============================] - ETA: 0s - loss: 0.8121 - accuracy: 0.7133\n",
            "Epoch 42: saving model to model/keypoint_classifier\\keypoint_classifier.hdf5\n",
            "31/31 [==============================] - 1s 31ms/step - loss: 0.8121 - accuracy: 0.7133 - val_loss: 0.4596 - val_accuracy: 0.8823\n",
            "Epoch 43/1000\n",
            "28/31 [==========================>...] - ETA: 0s - loss: 0.8268 - accuracy: 0.6981\n",
            "Epoch 43: saving model to model/keypoint_classifier\\keypoint_classifier.hdf5\n",
            "31/31 [==============================] - 1s 33ms/step - loss: 0.8233 - accuracy: 0.6983 - val_loss: 0.4536 - val_accuracy: 0.8823\n",
            "Epoch 44/1000\n",
            "27/31 [=========================>....] - ETA: 0s - loss: 0.8292 - accuracy: 0.7046\n",
            "Epoch 44: saving model to model/keypoint_classifier\\keypoint_classifier.hdf5\n",
            "31/31 [==============================] - 2s 69ms/step - loss: 0.8222 - accuracy: 0.7056 - val_loss: 0.4476 - val_accuracy: 0.8923\n",
            "Epoch 45/1000\n",
            "26/31 [========================>.....] - ETA: 0s - loss: 0.8017 - accuracy: 0.7046\n",
            "Epoch 45: saving model to model/keypoint_classifier\\keypoint_classifier.hdf5\n",
            "31/31 [==============================] - 1s 34ms/step - loss: 0.8094 - accuracy: 0.7012 - val_loss: 0.4404 - val_accuracy: 0.8892\n",
            "Epoch 46/1000\n",
            "26/31 [========================>.....] - ETA: 0s - loss: 0.8267 - accuracy: 0.7070\n",
            "Epoch 46: saving model to model/keypoint_classifier\\keypoint_classifier.hdf5\n",
            "31/31 [==============================] - 1s 25ms/step - loss: 0.8141 - accuracy: 0.7110 - val_loss: 0.4436 - val_accuracy: 0.8900\n",
            "Epoch 47/1000\n",
            "28/31 [==========================>...] - ETA: 0s - loss: 0.8140 - accuracy: 0.7104\n",
            "Epoch 47: saving model to model/keypoint_classifier\\keypoint_classifier.hdf5\n",
            "31/31 [==============================] - 1s 21ms/step - loss: 0.8139 - accuracy: 0.7107 - val_loss: 0.4345 - val_accuracy: 0.8900\n",
            "Epoch 48/1000\n",
            "28/31 [==========================>...] - ETA: 0s - loss: 0.8145 - accuracy: 0.7042\n",
            "Epoch 48: saving model to model/keypoint_classifier\\keypoint_classifier.hdf5\n",
            "31/31 [==============================] - 1s 22ms/step - loss: 0.8187 - accuracy: 0.7035 - val_loss: 0.4317 - val_accuracy: 0.8931\n",
            "Epoch 49/1000\n",
            "28/31 [==========================>...] - ETA: 0s - loss: 0.8141 - accuracy: 0.7059\n",
            "Epoch 49: saving model to model/keypoint_classifier\\keypoint_classifier.hdf5\n",
            "31/31 [==============================] - 1s 24ms/step - loss: 0.8108 - accuracy: 0.7076 - val_loss: 0.4271 - val_accuracy: 0.9032\n",
            "Epoch 50/1000\n",
            "31/31 [==============================] - ETA: 0s - loss: 0.7997 - accuracy: 0.7133\n",
            "Epoch 50: saving model to model/keypoint_classifier\\keypoint_classifier.hdf5\n",
            "31/31 [==============================] - 1s 28ms/step - loss: 0.7997 - accuracy: 0.7133 - val_loss: 0.4223 - val_accuracy: 0.9055\n",
            "Epoch 51/1000\n",
            "31/31 [==============================] - ETA: 0s - loss: 0.7916 - accuracy: 0.7154\n",
            "Epoch 51: saving model to model/keypoint_classifier\\keypoint_classifier.hdf5\n",
            "31/31 [==============================] - 1s 31ms/step - loss: 0.7916 - accuracy: 0.7154 - val_loss: 0.4204 - val_accuracy: 0.9117\n",
            "Epoch 52/1000\n",
            "31/31 [==============================] - ETA: 0s - loss: 0.7805 - accuracy: 0.7224\n",
            "Epoch 52: saving model to model/keypoint_classifier\\keypoint_classifier.hdf5\n",
            "31/31 [==============================] - 1s 24ms/step - loss: 0.7805 - accuracy: 0.7224 - val_loss: 0.4132 - val_accuracy: 0.8985\n",
            "Epoch 53/1000\n",
            "26/31 [========================>.....] - ETA: 0s - loss: 0.8160 - accuracy: 0.7049\n",
            "Epoch 53: saving model to model/keypoint_classifier\\keypoint_classifier.hdf5\n",
            "31/31 [==============================] - 1s 26ms/step - loss: 0.8060 - accuracy: 0.7110 - val_loss: 0.4187 - val_accuracy: 0.9047\n",
            "Epoch 54/1000\n",
            "31/31 [==============================] - ETA: 0s - loss: 0.7761 - accuracy: 0.7211\n",
            "Epoch 54: saving model to model/keypoint_classifier\\keypoint_classifier.hdf5\n",
            "31/31 [==============================] - 1s 21ms/step - loss: 0.7761 - accuracy: 0.7211 - val_loss: 0.4147 - val_accuracy: 0.8892\n",
            "Epoch 55/1000\n",
            "29/31 [===========================>..] - ETA: 0s - loss: 0.7981 - accuracy: 0.7228\n",
            "Epoch 55: saving model to model/keypoint_classifier\\keypoint_classifier.hdf5\n",
            "31/31 [==============================] - 1s 22ms/step - loss: 0.7976 - accuracy: 0.7221 - val_loss: 0.4090 - val_accuracy: 0.9040\n",
            "Epoch 56/1000\n",
            "26/31 [========================>.....] - ETA: 0s - loss: 0.7679 - accuracy: 0.7251\n",
            "Epoch 56: saving model to model/keypoint_classifier\\keypoint_classifier.hdf5\n",
            "31/31 [==============================] - 1s 23ms/step - loss: 0.7670 - accuracy: 0.7249 - val_loss: 0.4069 - val_accuracy: 0.8985\n",
            "Epoch 57/1000\n",
            "26/31 [========================>.....] - ETA: 0s - loss: 0.7708 - accuracy: 0.7257\n",
            "Epoch 57: saving model to model/keypoint_classifier\\keypoint_classifier.hdf5\n",
            "31/31 [==============================] - 1s 32ms/step - loss: 0.7723 - accuracy: 0.7299 - val_loss: 0.4018 - val_accuracy: 0.8993\n",
            "Epoch 58/1000\n",
            "28/31 [==========================>...] - ETA: 0s - loss: 0.7809 - accuracy: 0.7288\n",
            "Epoch 58: saving model to model/keypoint_classifier\\keypoint_classifier.hdf5\n",
            "31/31 [==============================] - 1s 31ms/step - loss: 0.7809 - accuracy: 0.7252 - val_loss: 0.3988 - val_accuracy: 0.9032\n",
            "Epoch 59/1000\n",
            "25/31 [=======================>......] - ETA: 0s - loss: 0.7760 - accuracy: 0.7181\n",
            "Epoch 59: saving model to model/keypoint_classifier\\keypoint_classifier.hdf5\n",
            "31/31 [==============================] - 1s 19ms/step - loss: 0.7720 - accuracy: 0.7208 - val_loss: 0.4005 - val_accuracy: 0.8985\n",
            "Epoch 60/1000\n",
            "26/31 [========================>.....] - ETA: 0s - loss: 0.7856 - accuracy: 0.7224\n",
            "Epoch 60: saving model to model/keypoint_classifier\\keypoint_classifier.hdf5\n",
            "31/31 [==============================] - 1s 19ms/step - loss: 0.7868 - accuracy: 0.7244 - val_loss: 0.3993 - val_accuracy: 0.9101\n",
            "Epoch 61/1000\n",
            "30/31 [============================>.] - ETA: 0s - loss: 0.7661 - accuracy: 0.7276\n",
            "Epoch 61: saving model to model/keypoint_classifier\\keypoint_classifier.hdf5\n",
            "31/31 [==============================] - 1s 23ms/step - loss: 0.7664 - accuracy: 0.7278 - val_loss: 0.3944 - val_accuracy: 0.9125\n",
            "Epoch 62/1000\n",
            "31/31 [==============================] - ETA: 0s - loss: 0.7521 - accuracy: 0.7296\n",
            "Epoch 62: saving model to model/keypoint_classifier\\keypoint_classifier.hdf5\n",
            "31/31 [==============================] - 1s 22ms/step - loss: 0.7521 - accuracy: 0.7296 - val_loss: 0.3911 - val_accuracy: 0.9117\n",
            "Epoch 63/1000\n",
            "29/31 [===========================>..] - ETA: 0s - loss: 0.7769 - accuracy: 0.7282\n",
            "Epoch 63: saving model to model/keypoint_classifier\\keypoint_classifier.hdf5\n",
            "31/31 [==============================] - 1s 23ms/step - loss: 0.7743 - accuracy: 0.7286 - val_loss: 0.3861 - val_accuracy: 0.9249\n",
            "Epoch 64/1000\n",
            "27/31 [=========================>....] - ETA: 0s - loss: 0.7641 - accuracy: 0.7271\n",
            "Epoch 64: saving model to model/keypoint_classifier\\keypoint_classifier.hdf5\n",
            "31/31 [==============================] - 1s 24ms/step - loss: 0.7621 - accuracy: 0.7273 - val_loss: 0.3808 - val_accuracy: 0.9140\n",
            "Epoch 65/1000\n",
            "27/31 [=========================>....] - ETA: 0s - loss: 0.7480 - accuracy: 0.7399\n",
            "Epoch 65: saving model to model/keypoint_classifier\\keypoint_classifier.hdf5\n",
            "31/31 [==============================] - 1s 22ms/step - loss: 0.7466 - accuracy: 0.7376 - val_loss: 0.3818 - val_accuracy: 0.9187\n",
            "Epoch 66/1000\n",
            "26/31 [========================>.....] - ETA: 0s - loss: 0.7727 - accuracy: 0.7305\n",
            "Epoch 66: saving model to model/keypoint_classifier\\keypoint_classifier.hdf5\n",
            "31/31 [==============================] - 1s 23ms/step - loss: 0.7677 - accuracy: 0.7322 - val_loss: 0.3786 - val_accuracy: 0.9171\n",
            "Epoch 67/1000\n",
            "28/31 [==========================>...] - ETA: 0s - loss: 0.7413 - accuracy: 0.7238\n",
            "Epoch 67: saving model to model/keypoint_classifier\\keypoint_classifier.hdf5\n",
            "31/31 [==============================] - 1s 26ms/step - loss: 0.7374 - accuracy: 0.7262 - val_loss: 0.3758 - val_accuracy: 0.9132\n",
            "Epoch 68/1000\n",
            "28/31 [==========================>...] - ETA: 0s - loss: 0.7446 - accuracy: 0.7458\n",
            "Epoch 68: saving model to model/keypoint_classifier\\keypoint_classifier.hdf5\n",
            "31/31 [==============================] - 1s 29ms/step - loss: 0.7480 - accuracy: 0.7435 - val_loss: 0.3730 - val_accuracy: 0.9233\n",
            "Epoch 69/1000\n",
            "27/31 [=========================>....] - ETA: 0s - loss: 0.7416 - accuracy: 0.7347\n",
            "Epoch 69: saving model to model/keypoint_classifier\\keypoint_classifier.hdf5\n",
            "31/31 [==============================] - 1s 33ms/step - loss: 0.7415 - accuracy: 0.7373 - val_loss: 0.3676 - val_accuracy: 0.9156\n",
            "Epoch 70/1000\n",
            "31/31 [==============================] - ETA: 0s - loss: 0.7400 - accuracy: 0.7430\n",
            "Epoch 70: saving model to model/keypoint_classifier\\keypoint_classifier.hdf5\n",
            "31/31 [==============================] - 1s 22ms/step - loss: 0.7400 - accuracy: 0.7430 - val_loss: 0.3686 - val_accuracy: 0.9109\n",
            "Epoch 71/1000\n",
            "31/31 [==============================] - ETA: 0s - loss: 0.7322 - accuracy: 0.7443\n",
            "Epoch 71: saving model to model/keypoint_classifier\\keypoint_classifier.hdf5\n",
            "31/31 [==============================] - 1s 26ms/step - loss: 0.7322 - accuracy: 0.7443 - val_loss: 0.3668 - val_accuracy: 0.9148\n",
            "Epoch 72/1000\n",
            "30/31 [============================>.] - ETA: 0s - loss: 0.7375 - accuracy: 0.7406\n",
            "Epoch 72: saving model to model/keypoint_classifier\\keypoint_classifier.hdf5\n",
            "31/31 [==============================] - 1s 24ms/step - loss: 0.7374 - accuracy: 0.7402 - val_loss: 0.3652 - val_accuracy: 0.9117\n",
            "Epoch 73/1000\n",
            "26/31 [========================>.....] - ETA: 0s - loss: 0.7470 - accuracy: 0.7317\n",
            "Epoch 73: saving model to model/keypoint_classifier\\keypoint_classifier.hdf5\n",
            "31/31 [==============================] - 1s 25ms/step - loss: 0.7435 - accuracy: 0.7335 - val_loss: 0.3568 - val_accuracy: 0.9287\n",
            "Epoch 74/1000\n",
            "28/31 [==========================>...] - ETA: 0s - loss: 0.7270 - accuracy: 0.7419\n",
            "Epoch 74: saving model to model/keypoint_classifier\\keypoint_classifier.hdf5\n",
            "31/31 [==============================] - 1s 24ms/step - loss: 0.7349 - accuracy: 0.7404 - val_loss: 0.3532 - val_accuracy: 0.9256\n",
            "Epoch 75/1000\n",
            "29/31 [===========================>..] - ETA: 0s - loss: 0.7425 - accuracy: 0.7476\n",
            "Epoch 75: saving model to model/keypoint_classifier\\keypoint_classifier.hdf5\n",
            "31/31 [==============================] - 1s 47ms/step - loss: 0.7399 - accuracy: 0.7466 - val_loss: 0.3562 - val_accuracy: 0.9233\n",
            "Epoch 76/1000\n",
            "30/31 [============================>.] - ETA: 0s - loss: 0.7305 - accuracy: 0.7424\n",
            "Epoch 76: saving model to model/keypoint_classifier\\keypoint_classifier.hdf5\n",
            "31/31 [==============================] - 1s 22ms/step - loss: 0.7319 - accuracy: 0.7420 - val_loss: 0.3534 - val_accuracy: 0.9256\n",
            "Epoch 77/1000\n",
            "31/31 [==============================] - ETA: 0s - loss: 0.7388 - accuracy: 0.7451\n",
            "Epoch 77: saving model to model/keypoint_classifier\\keypoint_classifier.hdf5\n",
            "31/31 [==============================] - 1s 23ms/step - loss: 0.7388 - accuracy: 0.7451 - val_loss: 0.3612 - val_accuracy: 0.9125\n",
            "Epoch 78/1000\n",
            "30/31 [============================>.] - ETA: 0s - loss: 0.7266 - accuracy: 0.7474\n",
            "Epoch 78: saving model to model/keypoint_classifier\\keypoint_classifier.hdf5\n",
            "31/31 [==============================] - 1s 25ms/step - loss: 0.7255 - accuracy: 0.7485 - val_loss: 0.3572 - val_accuracy: 0.9210\n",
            "Epoch 79/1000\n",
            "28/31 [==========================>...] - ETA: 0s - loss: 0.7198 - accuracy: 0.7430\n",
            "Epoch 79: saving model to model/keypoint_classifier\\keypoint_classifier.hdf5\n",
            "31/31 [==============================] - 1s 23ms/step - loss: 0.7215 - accuracy: 0.7433 - val_loss: 0.3453 - val_accuracy: 0.9218\n",
            "Epoch 80/1000\n",
            "27/31 [=========================>....] - ETA: 0s - loss: 0.7418 - accuracy: 0.7431\n",
            "Epoch 80: saving model to model/keypoint_classifier\\keypoint_classifier.hdf5\n",
            "31/31 [==============================] - 1s 24ms/step - loss: 0.7448 - accuracy: 0.7415 - val_loss: 0.3534 - val_accuracy: 0.9156\n",
            "Epoch 81/1000\n",
            "29/31 [===========================>..] - ETA: 0s - loss: 0.7276 - accuracy: 0.7476\n",
            "Epoch 81: saving model to model/keypoint_classifier\\keypoint_classifier.hdf5\n",
            "31/31 [==============================] - 1s 22ms/step - loss: 0.7224 - accuracy: 0.7487 - val_loss: 0.3491 - val_accuracy: 0.9225\n",
            "Epoch 82/1000\n",
            "29/31 [===========================>..] - ETA: 0s - loss: 0.7337 - accuracy: 0.7384\n",
            "Epoch 82: saving model to model/keypoint_classifier\\keypoint_classifier.hdf5\n",
            "31/31 [==============================] - 1s 21ms/step - loss: 0.7315 - accuracy: 0.7394 - val_loss: 0.3470 - val_accuracy: 0.9202\n",
            "Epoch 83/1000\n",
            "28/31 [==========================>...] - ETA: 0s - loss: 0.7035 - accuracy: 0.7550\n",
            "Epoch 83: saving model to model/keypoint_classifier\\keypoint_classifier.hdf5\n",
            "31/31 [==============================] - 1s 25ms/step - loss: 0.7090 - accuracy: 0.7521 - val_loss: 0.3473 - val_accuracy: 0.9210\n",
            "Epoch 84/1000\n",
            "31/31 [==============================] - ETA: 0s - loss: 0.7143 - accuracy: 0.7477\n",
            "Epoch 84: saving model to model/keypoint_classifier\\keypoint_classifier.hdf5\n",
            "31/31 [==============================] - 1s 29ms/step - loss: 0.7143 - accuracy: 0.7477 - val_loss: 0.3484 - val_accuracy: 0.9194\n",
            "Epoch 85/1000\n",
            "28/31 [==========================>...] - ETA: 0s - loss: 0.7058 - accuracy: 0.7506\n",
            "Epoch 85: saving model to model/keypoint_classifier\\keypoint_classifier.hdf5\n",
            "31/31 [==============================] - 1s 26ms/step - loss: 0.7035 - accuracy: 0.7510 - val_loss: 0.3494 - val_accuracy: 0.9125\n",
            "Epoch 86/1000\n",
            "28/31 [==========================>...] - ETA: 0s - loss: 0.7303 - accuracy: 0.7450\n",
            "Epoch 86: saving model to model/keypoint_classifier\\keypoint_classifier.hdf5\n",
            "31/31 [==============================] - 1s 22ms/step - loss: 0.7256 - accuracy: 0.7477 - val_loss: 0.3419 - val_accuracy: 0.9187\n",
            "Epoch 87/1000\n",
            "26/31 [========================>.....] - ETA: 0s - loss: 0.7232 - accuracy: 0.7467\n",
            "Epoch 87: saving model to model/keypoint_classifier\\keypoint_classifier.hdf5\n",
            "31/31 [==============================] - 1s 28ms/step - loss: 0.7269 - accuracy: 0.7469 - val_loss: 0.3399 - val_accuracy: 0.9249\n",
            "Epoch 88/1000\n",
            "28/31 [==========================>...] - ETA: 0s - loss: 0.7158 - accuracy: 0.7489\n",
            "Epoch 88: saving model to model/keypoint_classifier\\keypoint_classifier.hdf5\n",
            "31/31 [==============================] - 1s 21ms/step - loss: 0.7155 - accuracy: 0.7485 - val_loss: 0.3426 - val_accuracy: 0.9194\n",
            "Epoch 89/1000\n",
            "25/31 [=======================>......] - ETA: 0s - loss: 0.7225 - accuracy: 0.7559\n",
            "Epoch 89: saving model to model/keypoint_classifier\\keypoint_classifier.hdf5\n",
            "31/31 [==============================] - 1s 21ms/step - loss: 0.7116 - accuracy: 0.7596 - val_loss: 0.3395 - val_accuracy: 0.9233\n",
            "Epoch 90/1000\n",
            "27/31 [=========================>....] - ETA: 0s - loss: 0.7011 - accuracy: 0.7546\n",
            "Epoch 90: saving model to model/keypoint_classifier\\keypoint_classifier.hdf5\n",
            "31/31 [==============================] - 1s 19ms/step - loss: 0.7005 - accuracy: 0.7549 - val_loss: 0.3411 - val_accuracy: 0.9210\n",
            "Epoch 91/1000\n",
            "29/31 [===========================>..] - ETA: 0s - loss: 0.7004 - accuracy: 0.7513\n",
            "Epoch 91: saving model to model/keypoint_classifier\\keypoint_classifier.hdf5\n",
            "31/31 [==============================] - 1s 20ms/step - loss: 0.7023 - accuracy: 0.7515 - val_loss: 0.3403 - val_accuracy: 0.9187\n",
            "Epoch 92/1000\n",
            "26/31 [========================>.....] - ETA: 0s - loss: 0.7223 - accuracy: 0.7476\n",
            "Epoch 92: saving model to model/keypoint_classifier\\keypoint_classifier.hdf5\n",
            "31/31 [==============================] - 1s 20ms/step - loss: 0.7249 - accuracy: 0.7477 - val_loss: 0.3297 - val_accuracy: 0.9326\n",
            "Epoch 93/1000\n",
            "25/31 [=======================>......] - ETA: 0s - loss: 0.6903 - accuracy: 0.7581\n",
            "Epoch 93: saving model to model/keypoint_classifier\\keypoint_classifier.hdf5\n",
            "31/31 [==============================] - 1s 18ms/step - loss: 0.7060 - accuracy: 0.7567 - val_loss: 0.3358 - val_accuracy: 0.9194\n",
            "Epoch 94/1000\n",
            "27/31 [=========================>....] - ETA: 0s - loss: 0.6760 - accuracy: 0.7619\n",
            "Epoch 94: saving model to model/keypoint_classifier\\keypoint_classifier.hdf5\n",
            "31/31 [==============================] - 1s 19ms/step - loss: 0.6779 - accuracy: 0.7593 - val_loss: 0.3330 - val_accuracy: 0.9272\n",
            "Epoch 95/1000\n",
            "26/31 [========================>.....] - ETA: 0s - loss: 0.7250 - accuracy: 0.7464\n",
            "Epoch 95: saving model to model/keypoint_classifier\\keypoint_classifier.hdf5\n",
            "31/31 [==============================] - 1s 20ms/step - loss: 0.7191 - accuracy: 0.7495 - val_loss: 0.3362 - val_accuracy: 0.9233\n",
            "Epoch 96/1000\n",
            "31/31 [==============================] - ETA: 0s - loss: 0.7025 - accuracy: 0.7544\n",
            "Epoch 96: saving model to model/keypoint_classifier\\keypoint_classifier.hdf5\n",
            "31/31 [==============================] - 1s 24ms/step - loss: 0.7025 - accuracy: 0.7544 - val_loss: 0.3299 - val_accuracy: 0.9233\n",
            "Epoch 97/1000\n",
            "25/31 [=======================>......] - ETA: 0s - loss: 0.6985 - accuracy: 0.7550\n",
            "Epoch 97: saving model to model/keypoint_classifier\\keypoint_classifier.hdf5\n",
            "31/31 [==============================] - 1s 22ms/step - loss: 0.6861 - accuracy: 0.7611 - val_loss: 0.3302 - val_accuracy: 0.9303\n",
            "Epoch 98/1000\n",
            "29/31 [===========================>..] - ETA: 0s - loss: 0.7110 - accuracy: 0.7487\n",
            "Epoch 98: saving model to model/keypoint_classifier\\keypoint_classifier.hdf5\n",
            "31/31 [==============================] - 1s 24ms/step - loss: 0.7079 - accuracy: 0.7503 - val_loss: 0.3349 - val_accuracy: 0.9264\n",
            "Epoch 99/1000\n",
            "24/31 [======================>.......] - ETA: 0s - loss: 0.7328 - accuracy: 0.7441\n",
            "Epoch 99: saving model to model/keypoint_classifier\\keypoint_classifier.hdf5\n",
            "31/31 [==============================] - 1s 19ms/step - loss: 0.7188 - accuracy: 0.7466 - val_loss: 0.3436 - val_accuracy: 0.9194\n",
            "Epoch 100/1000\n",
            "31/31 [==============================] - ETA: 0s - loss: 0.7093 - accuracy: 0.7531\n",
            "Epoch 100: saving model to model/keypoint_classifier\\keypoint_classifier.hdf5\n",
            "31/31 [==============================] - 1s 21ms/step - loss: 0.7093 - accuracy: 0.7531 - val_loss: 0.3331 - val_accuracy: 0.9272\n",
            "Epoch 101/1000\n",
            "29/31 [===========================>..] - ETA: 0s - loss: 0.7000 - accuracy: 0.7562\n",
            "Epoch 101: saving model to model/keypoint_classifier\\keypoint_classifier.hdf5\n",
            "31/31 [==============================] - 1s 22ms/step - loss: 0.6954 - accuracy: 0.7570 - val_loss: 0.3312 - val_accuracy: 0.9326\n",
            "Epoch 102/1000\n",
            "30/31 [============================>.] - ETA: 0s - loss: 0.6899 - accuracy: 0.7646\n",
            "Epoch 102: saving model to model/keypoint_classifier\\keypoint_classifier.hdf5\n",
            "31/31 [==============================] - 1s 24ms/step - loss: 0.6901 - accuracy: 0.7637 - val_loss: 0.3248 - val_accuracy: 0.9287\n",
            "Epoch 103/1000\n",
            "27/31 [=========================>....] - ETA: 0s - loss: 0.6827 - accuracy: 0.7512\n",
            "Epoch 103: saving model to model/keypoint_classifier\\keypoint_classifier.hdf5\n",
            "31/31 [==============================] - 1s 23ms/step - loss: 0.6832 - accuracy: 0.7531 - val_loss: 0.3241 - val_accuracy: 0.9233\n",
            "Epoch 104/1000\n",
            "28/31 [==========================>...] - ETA: 0s - loss: 0.6900 - accuracy: 0.7642\n",
            "Epoch 104: saving model to model/keypoint_classifier\\keypoint_classifier.hdf5\n",
            "31/31 [==============================] - 1s 17ms/step - loss: 0.6856 - accuracy: 0.7655 - val_loss: 0.3260 - val_accuracy: 0.9380\n",
            "Epoch 105/1000\n",
            "26/31 [========================>.....] - ETA: 0s - loss: 0.6913 - accuracy: 0.7620\n",
            "Epoch 105: saving model to model/keypoint_classifier\\keypoint_classifier.hdf5\n",
            "31/31 [==============================] - 1s 17ms/step - loss: 0.6904 - accuracy: 0.7616 - val_loss: 0.3282 - val_accuracy: 0.9272\n",
            "Epoch 106/1000\n",
            "25/31 [=======================>......] - ETA: 0s - loss: 0.6664 - accuracy: 0.7656\n",
            "Epoch 106: saving model to model/keypoint_classifier\\keypoint_classifier.hdf5\n",
            "31/31 [==============================] - 0s 14ms/step - loss: 0.6803 - accuracy: 0.7614 - val_loss: 0.3267 - val_accuracy: 0.9303\n",
            "Epoch 107/1000\n",
            "26/31 [========================>.....] - ETA: 0s - loss: 0.6779 - accuracy: 0.7632\n",
            "Epoch 107: saving model to model/keypoint_classifier\\keypoint_classifier.hdf5\n",
            "31/31 [==============================] - 0s 14ms/step - loss: 0.6797 - accuracy: 0.7647 - val_loss: 0.3250 - val_accuracy: 0.9334\n",
            "Epoch 108/1000\n",
            "29/31 [===========================>..] - ETA: 0s - loss: 0.7023 - accuracy: 0.7608\n",
            "Epoch 108: saving model to model/keypoint_classifier\\keypoint_classifier.hdf5\n",
            "31/31 [==============================] - 0s 13ms/step - loss: 0.6965 - accuracy: 0.7627 - val_loss: 0.3243 - val_accuracy: 0.9318\n",
            "Epoch 109/1000\n",
            "27/31 [=========================>....] - ETA: 0s - loss: 0.6799 - accuracy: 0.7616\n",
            "Epoch 109: saving model to model/keypoint_classifier\\keypoint_classifier.hdf5\n",
            "31/31 [==============================] - 0s 14ms/step - loss: 0.6903 - accuracy: 0.7608 - val_loss: 0.3275 - val_accuracy: 0.9264\n",
            "Epoch 110/1000\n",
            "25/31 [=======================>......] - ETA: 0s - loss: 0.6777 - accuracy: 0.7619\n",
            "Epoch 110: saving model to model/keypoint_classifier\\keypoint_classifier.hdf5\n",
            "31/31 [==============================] - 0s 14ms/step - loss: 0.6780 - accuracy: 0.7632 - val_loss: 0.3256 - val_accuracy: 0.9318\n",
            "Epoch 111/1000\n",
            "25/31 [=======================>......] - ETA: 0s - loss: 0.6967 - accuracy: 0.7522\n",
            "Epoch 111: saving model to model/keypoint_classifier\\keypoint_classifier.hdf5\n",
            "31/31 [==============================] - 0s 15ms/step - loss: 0.6886 - accuracy: 0.7559 - val_loss: 0.3284 - val_accuracy: 0.9287\n",
            "Epoch 112/1000\n",
            "25/31 [=======================>......] - ETA: 0s - loss: 0.6685 - accuracy: 0.7656\n",
            "Epoch 112: saving model to model/keypoint_classifier\\keypoint_classifier.hdf5\n",
            "31/31 [==============================] - 0s 14ms/step - loss: 0.6685 - accuracy: 0.7670 - val_loss: 0.3116 - val_accuracy: 0.9373\n",
            "Epoch 113/1000\n",
            "26/31 [========================>.....] - ETA: 0s - loss: 0.6802 - accuracy: 0.7659\n",
            "Epoch 113: saving model to model/keypoint_classifier\\keypoint_classifier.hdf5\n",
            "31/31 [==============================] - 0s 14ms/step - loss: 0.6836 - accuracy: 0.7634 - val_loss: 0.3172 - val_accuracy: 0.9342\n",
            "Epoch 114/1000\n",
            "25/31 [=======================>......] - ETA: 0s - loss: 0.6842 - accuracy: 0.7597\n",
            "Epoch 114: saving model to model/keypoint_classifier\\keypoint_classifier.hdf5\n",
            "31/31 [==============================] - 0s 15ms/step - loss: 0.6661 - accuracy: 0.7660 - val_loss: 0.3114 - val_accuracy: 0.9342\n",
            "Epoch 115/1000\n",
            "24/31 [======================>.......] - ETA: 0s - loss: 0.6836 - accuracy: 0.7598\n",
            "Epoch 115: saving model to model/keypoint_classifier\\keypoint_classifier.hdf5\n",
            "31/31 [==============================] - 1s 19ms/step - loss: 0.6857 - accuracy: 0.7598 - val_loss: 0.3106 - val_accuracy: 0.9318\n",
            "Epoch 116/1000\n",
            "27/31 [=========================>....] - ETA: 0s - loss: 0.6721 - accuracy: 0.7636\n",
            "Epoch 116: saving model to model/keypoint_classifier\\keypoint_classifier.hdf5\n",
            "31/31 [==============================] - 0s 13ms/step - loss: 0.6722 - accuracy: 0.7611 - val_loss: 0.3139 - val_accuracy: 0.9295\n",
            "Epoch 117/1000\n",
            "30/31 [============================>.] - ETA: 0s - loss: 0.6617 - accuracy: 0.7721\n",
            "Epoch 117: saving model to model/keypoint_classifier\\keypoint_classifier.hdf5\n",
            "31/31 [==============================] - 0s 13ms/step - loss: 0.6621 - accuracy: 0.7722 - val_loss: 0.3193 - val_accuracy: 0.9287\n",
            "Epoch 118/1000\n",
            "27/31 [=========================>....] - ETA: 0s - loss: 0.6776 - accuracy: 0.7587\n",
            "Epoch 118: saving model to model/keypoint_classifier\\keypoint_classifier.hdf5\n",
            "31/31 [==============================] - 4s 123ms/step - loss: 0.6788 - accuracy: 0.7580 - val_loss: 0.3103 - val_accuracy: 0.9326\n",
            "Epoch 119/1000\n",
            "28/31 [==========================>...] - ETA: 0s - loss: 0.6856 - accuracy: 0.7656\n",
            "Epoch 119: saving model to model/keypoint_classifier\\keypoint_classifier.hdf5\n",
            "31/31 [==============================] - 1s 17ms/step - loss: 0.6839 - accuracy: 0.7650 - val_loss: 0.3117 - val_accuracy: 0.9295\n",
            "Epoch 120/1000\n",
            "25/31 [=======================>......] - ETA: 0s - loss: 0.6828 - accuracy: 0.7606\n",
            "Epoch 120: saving model to model/keypoint_classifier\\keypoint_classifier.hdf5\n",
            "31/31 [==============================] - 0s 14ms/step - loss: 0.6906 - accuracy: 0.7588 - val_loss: 0.3124 - val_accuracy: 0.9303\n",
            "Epoch 121/1000\n",
            "25/31 [=======================>......] - ETA: 0s - loss: 0.6809 - accuracy: 0.7625\n",
            "Epoch 121: saving model to model/keypoint_classifier\\keypoint_classifier.hdf5\n",
            "31/31 [==============================] - 0s 13ms/step - loss: 0.6746 - accuracy: 0.7632 - val_loss: 0.3148 - val_accuracy: 0.9295\n",
            "Epoch 122/1000\n",
            "28/31 [==========================>...] - ETA: 0s - loss: 0.6831 - accuracy: 0.7617\n",
            "Epoch 122: saving model to model/keypoint_classifier\\keypoint_classifier.hdf5\n",
            "31/31 [==============================] - 0s 14ms/step - loss: 0.6744 - accuracy: 0.7660 - val_loss: 0.3178 - val_accuracy: 0.9334\n",
            "Epoch 123/1000\n",
            "29/31 [===========================>..] - ETA: 0s - loss: 0.6608 - accuracy: 0.7742\n",
            "Epoch 123: saving model to model/keypoint_classifier\\keypoint_classifier.hdf5\n",
            "31/31 [==============================] - 0s 13ms/step - loss: 0.6583 - accuracy: 0.7758 - val_loss: 0.3169 - val_accuracy: 0.9287\n",
            "Epoch 124/1000\n",
            "26/31 [========================>.....] - ETA: 0s - loss: 0.6713 - accuracy: 0.7593\n",
            "Epoch 124: saving model to model/keypoint_classifier\\keypoint_classifier.hdf5\n",
            "31/31 [==============================] - 0s 14ms/step - loss: 0.6657 - accuracy: 0.7639 - val_loss: 0.3120 - val_accuracy: 0.9326\n",
            "Epoch 125/1000\n",
            "24/31 [======================>.......] - ETA: 0s - loss: 0.6378 - accuracy: 0.7747\n",
            "Epoch 125: saving model to model/keypoint_classifier\\keypoint_classifier.hdf5\n",
            "31/31 [==============================] - 0s 14ms/step - loss: 0.6506 - accuracy: 0.7696 - val_loss: 0.3055 - val_accuracy: 0.9287\n",
            "Epoch 126/1000\n",
            "28/31 [==========================>...] - ETA: 0s - loss: 0.6679 - accuracy: 0.7718\n",
            "Epoch 126: saving model to model/keypoint_classifier\\keypoint_classifier.hdf5\n",
            "31/31 [==============================] - 0s 13ms/step - loss: 0.6695 - accuracy: 0.7707 - val_loss: 0.3047 - val_accuracy: 0.9365\n",
            "Epoch 127/1000\n",
            "24/31 [======================>.......] - ETA: 0s - loss: 0.6604 - accuracy: 0.7708\n",
            "Epoch 127: saving model to model/keypoint_classifier\\keypoint_classifier.hdf5\n",
            "31/31 [==============================] - 0s 14ms/step - loss: 0.6546 - accuracy: 0.7753 - val_loss: 0.3075 - val_accuracy: 0.9326\n",
            "Epoch 128/1000\n",
            "26/31 [========================>.....] - ETA: 0s - loss: 0.6707 - accuracy: 0.7728\n",
            "Epoch 128: saving model to model/keypoint_classifier\\keypoint_classifier.hdf5\n",
            "31/31 [==============================] - 0s 13ms/step - loss: 0.6658 - accuracy: 0.7745 - val_loss: 0.3073 - val_accuracy: 0.9326\n",
            "Epoch 129/1000\n",
            "29/31 [===========================>..] - ETA: 0s - loss: 0.6677 - accuracy: 0.7667\n",
            "Epoch 129: saving model to model/keypoint_classifier\\keypoint_classifier.hdf5\n",
            "31/31 [==============================] - 0s 14ms/step - loss: 0.6669 - accuracy: 0.7678 - val_loss: 0.3078 - val_accuracy: 0.9342\n",
            "Epoch 130/1000\n",
            "22/31 [====================>.........] - ETA: 0s - loss: 0.6635 - accuracy: 0.7724\n",
            "Epoch 130: saving model to model/keypoint_classifier\\keypoint_classifier.hdf5\n",
            "31/31 [==============================] - 0s 15ms/step - loss: 0.6660 - accuracy: 0.7704 - val_loss: 0.3045 - val_accuracy: 0.9318\n",
            "Epoch 131/1000\n",
            "27/31 [=========================>....] - ETA: 0s - loss: 0.6536 - accuracy: 0.7723\n",
            "Epoch 131: saving model to model/keypoint_classifier\\keypoint_classifier.hdf5\n",
            "31/31 [==============================] - 0s 16ms/step - loss: 0.6576 - accuracy: 0.7699 - val_loss: 0.3036 - val_accuracy: 0.9349\n",
            "Epoch 132/1000\n",
            "29/31 [===========================>..] - ETA: 0s - loss: 0.6741 - accuracy: 0.7656\n",
            "Epoch 132: saving model to model/keypoint_classifier\\keypoint_classifier.hdf5\n",
            "31/31 [==============================] - 0s 13ms/step - loss: 0.6730 - accuracy: 0.7658 - val_loss: 0.3164 - val_accuracy: 0.9303\n",
            "Epoch 133/1000\n",
            "28/31 [==========================>...] - ETA: 0s - loss: 0.6486 - accuracy: 0.7723\n",
            "Epoch 133: saving model to model/keypoint_classifier\\keypoint_classifier.hdf5\n",
            "31/31 [==============================] - 0s 12ms/step - loss: 0.6471 - accuracy: 0.7720 - val_loss: 0.3103 - val_accuracy: 0.9349\n",
            "Epoch 134/1000\n",
            "22/31 [====================>.........] - ETA: 0s - loss: 0.6597 - accuracy: 0.7731\n",
            "Epoch 134: saving model to model/keypoint_classifier\\keypoint_classifier.hdf5\n",
            "31/31 [==============================] - 0s 14ms/step - loss: 0.6606 - accuracy: 0.7730 - val_loss: 0.3036 - val_accuracy: 0.9365\n",
            "Epoch 135/1000\n",
            "26/31 [========================>.....] - ETA: 0s - loss: 0.6655 - accuracy: 0.7680\n",
            "Epoch 135: saving model to model/keypoint_classifier\\keypoint_classifier.hdf5\n",
            "31/31 [==============================] - 0s 13ms/step - loss: 0.6565 - accuracy: 0.7694 - val_loss: 0.3045 - val_accuracy: 0.9396\n",
            "Epoch 136/1000\n",
            "27/31 [=========================>....] - ETA: 0s - loss: 0.6639 - accuracy: 0.7613\n",
            "Epoch 136: saving model to model/keypoint_classifier\\keypoint_classifier.hdf5\n",
            "31/31 [==============================] - 0s 15ms/step - loss: 0.6634 - accuracy: 0.7642 - val_loss: 0.3032 - val_accuracy: 0.9287\n",
            "Epoch 137/1000\n",
            "28/31 [==========================>...] - ETA: 0s - loss: 0.6611 - accuracy: 0.7746\n",
            "Epoch 137: saving model to model/keypoint_classifier\\keypoint_classifier.hdf5\n",
            "31/31 [==============================] - 0s 13ms/step - loss: 0.6565 - accuracy: 0.7758 - val_loss: 0.2965 - val_accuracy: 0.9396\n",
            "Epoch 138/1000\n",
            "28/31 [==========================>...] - ETA: 0s - loss: 0.6333 - accuracy: 0.7751\n",
            "Epoch 138: saving model to model/keypoint_classifier\\keypoint_classifier.hdf5\n",
            "31/31 [==============================] - 0s 15ms/step - loss: 0.6348 - accuracy: 0.7730 - val_loss: 0.3052 - val_accuracy: 0.9295\n",
            "Epoch 139/1000\n",
            "28/31 [==========================>...] - ETA: 0s - loss: 0.6321 - accuracy: 0.7787\n",
            "Epoch 139: saving model to model/keypoint_classifier\\keypoint_classifier.hdf5\n",
            "31/31 [==============================] - 0s 13ms/step - loss: 0.6367 - accuracy: 0.7774 - val_loss: 0.2970 - val_accuracy: 0.9373\n",
            "Epoch 140/1000\n",
            "25/31 [=======================>......] - ETA: 0s - loss: 0.6446 - accuracy: 0.7728\n",
            "Epoch 140: saving model to model/keypoint_classifier\\keypoint_classifier.hdf5\n",
            "31/31 [==============================] - 0s 13ms/step - loss: 0.6551 - accuracy: 0.7689 - val_loss: 0.3020 - val_accuracy: 0.9326\n",
            "Epoch 141/1000\n",
            "24/31 [======================>.......] - ETA: 0s - loss: 0.6767 - accuracy: 0.7650\n",
            "Epoch 141: saving model to model/keypoint_classifier\\keypoint_classifier.hdf5\n",
            "31/31 [==============================] - 0s 15ms/step - loss: 0.6788 - accuracy: 0.7668 - val_loss: 0.3038 - val_accuracy: 0.9349\n",
            "Epoch 142/1000\n",
            "29/31 [===========================>..] - ETA: 0s - loss: 0.6561 - accuracy: 0.7686\n",
            "Epoch 142: saving model to model/keypoint_classifier\\keypoint_classifier.hdf5\n",
            "31/31 [==============================] - 0s 12ms/step - loss: 0.6565 - accuracy: 0.7681 - val_loss: 0.3020 - val_accuracy: 0.9380\n",
            "Epoch 143/1000\n",
            "26/31 [========================>.....] - ETA: 0s - loss: 0.6390 - accuracy: 0.7803\n",
            "Epoch 143: saving model to model/keypoint_classifier\\keypoint_classifier.hdf5\n",
            "31/31 [==============================] - 1s 17ms/step - loss: 0.6425 - accuracy: 0.7758 - val_loss: 0.2999 - val_accuracy: 0.9334\n",
            "Epoch 144/1000\n",
            "29/31 [===========================>..] - ETA: 0s - loss: 0.6648 - accuracy: 0.7686\n",
            "Epoch 144: saving model to model/keypoint_classifier\\keypoint_classifier.hdf5\n",
            "31/31 [==============================] - 0s 13ms/step - loss: 0.6687 - accuracy: 0.7676 - val_loss: 0.2979 - val_accuracy: 0.9357\n",
            "Epoch 145/1000\n",
            "28/31 [==========================>...] - ETA: 0s - loss: 0.6378 - accuracy: 0.7723\n",
            "Epoch 145: saving model to model/keypoint_classifier\\keypoint_classifier.hdf5\n",
            "31/31 [==============================] - 0s 16ms/step - loss: 0.6402 - accuracy: 0.7725 - val_loss: 0.3024 - val_accuracy: 0.9342\n",
            "Epoch 146/1000\n",
            "26/31 [========================>.....] - ETA: 0s - loss: 0.6435 - accuracy: 0.7752\n",
            "Epoch 146: saving model to model/keypoint_classifier\\keypoint_classifier.hdf5\n",
            "31/31 [==============================] - 0s 14ms/step - loss: 0.6507 - accuracy: 0.7743 - val_loss: 0.3000 - val_accuracy: 0.9373\n",
            "Epoch 147/1000\n",
            "26/31 [========================>.....] - ETA: 0s - loss: 0.6518 - accuracy: 0.7701\n",
            "Epoch 147: saving model to model/keypoint_classifier\\keypoint_classifier.hdf5\n",
            "31/31 [==============================] - 0s 14ms/step - loss: 0.6508 - accuracy: 0.7696 - val_loss: 0.2980 - val_accuracy: 0.9380\n",
            "Epoch 148/1000\n",
            "28/31 [==========================>...] - ETA: 0s - loss: 0.6324 - accuracy: 0.7723\n",
            "Epoch 148: saving model to model/keypoint_classifier\\keypoint_classifier.hdf5\n",
            "31/31 [==============================] - 0s 13ms/step - loss: 0.6373 - accuracy: 0.7725 - val_loss: 0.2948 - val_accuracy: 0.9396\n",
            "Epoch 149/1000\n",
            "24/31 [======================>.......] - ETA: 0s - loss: 0.6692 - accuracy: 0.7633\n",
            "Epoch 149: saving model to model/keypoint_classifier\\keypoint_classifier.hdf5\n",
            "31/31 [==============================] - 0s 13ms/step - loss: 0.6614 - accuracy: 0.7681 - val_loss: 0.2956 - val_accuracy: 0.9388\n",
            "Epoch 150/1000\n",
            "23/31 [=====================>........] - ETA: 0s - loss: 0.6527 - accuracy: 0.7734\n",
            "Epoch 150: saving model to model/keypoint_classifier\\keypoint_classifier.hdf5\n",
            "31/31 [==============================] - 0s 14ms/step - loss: 0.6387 - accuracy: 0.7782 - val_loss: 0.2953 - val_accuracy: 0.9272\n",
            "Epoch 151/1000\n",
            "28/31 [==========================>...] - ETA: 0s - loss: 0.6472 - accuracy: 0.7759\n",
            "Epoch 151: saving model to model/keypoint_classifier\\keypoint_classifier.hdf5\n",
            "31/31 [==============================] - 0s 14ms/step - loss: 0.6518 - accuracy: 0.7735 - val_loss: 0.3017 - val_accuracy: 0.9326\n",
            "Epoch 152/1000\n",
            "24/31 [======================>.......] - ETA: 0s - loss: 0.6359 - accuracy: 0.7793\n",
            "Epoch 152: saving model to model/keypoint_classifier\\keypoint_classifier.hdf5\n",
            "31/31 [==============================] - 0s 15ms/step - loss: 0.6382 - accuracy: 0.7794 - val_loss: 0.2869 - val_accuracy: 0.9504\n",
            "Epoch 153/1000\n",
            "26/31 [========================>.....] - ETA: 0s - loss: 0.6487 - accuracy: 0.7728\n",
            "Epoch 153: saving model to model/keypoint_classifier\\keypoint_classifier.hdf5\n",
            "31/31 [==============================] - 0s 14ms/step - loss: 0.6462 - accuracy: 0.7732 - val_loss: 0.2971 - val_accuracy: 0.9334\n",
            "Epoch 154/1000\n",
            "27/31 [=========================>....] - ETA: 0s - loss: 0.6163 - accuracy: 0.7839\n",
            "Epoch 154: saving model to model/keypoint_classifier\\keypoint_classifier.hdf5\n",
            "31/31 [==============================] - 0s 15ms/step - loss: 0.6239 - accuracy: 0.7818 - val_loss: 0.2933 - val_accuracy: 0.9396\n",
            "Epoch 155/1000\n",
            "25/31 [=======================>......] - ETA: 0s - loss: 0.6618 - accuracy: 0.7659\n",
            "Epoch 155: saving model to model/keypoint_classifier\\keypoint_classifier.hdf5\n",
            "31/31 [==============================] - 0s 16ms/step - loss: 0.6578 - accuracy: 0.7678 - val_loss: 0.2945 - val_accuracy: 0.9442\n",
            "Epoch 156/1000\n",
            "25/31 [=======================>......] - ETA: 0s - loss: 0.6353 - accuracy: 0.7822\n",
            "Epoch 156: saving model to model/keypoint_classifier\\keypoint_classifier.hdf5\n",
            "31/31 [==============================] - 0s 15ms/step - loss: 0.6325 - accuracy: 0.7825 - val_loss: 0.2972 - val_accuracy: 0.9427\n",
            "Epoch 157/1000\n",
            "29/31 [===========================>..] - ETA: 0s - loss: 0.6662 - accuracy: 0.7608\n",
            "Epoch 157: saving model to model/keypoint_classifier\\keypoint_classifier.hdf5\n",
            "31/31 [==============================] - 0s 13ms/step - loss: 0.6694 - accuracy: 0.7593 - val_loss: 0.2989 - val_accuracy: 0.9396\n",
            "Epoch 158/1000\n",
            "27/31 [=========================>....] - ETA: 0s - loss: 0.6506 - accuracy: 0.7749\n",
            "Epoch 158: saving model to model/keypoint_classifier\\keypoint_classifier.hdf5\n",
            "31/31 [==============================] - 0s 13ms/step - loss: 0.6508 - accuracy: 0.7745 - val_loss: 0.2924 - val_accuracy: 0.9396\n",
            "Epoch 159/1000\n",
            "31/31 [==============================] - ETA: 0s - loss: 0.6430 - accuracy: 0.7758\n",
            "Epoch 159: saving model to model/keypoint_classifier\\keypoint_classifier.hdf5\n",
            "31/31 [==============================] - 0s 15ms/step - loss: 0.6430 - accuracy: 0.7758 - val_loss: 0.2968 - val_accuracy: 0.9419\n",
            "Epoch 160/1000\n",
            "26/31 [========================>.....] - ETA: 0s - loss: 0.6525 - accuracy: 0.7740\n",
            "Epoch 160: saving model to model/keypoint_classifier\\keypoint_classifier.hdf5\n",
            "31/31 [==============================] - 0s 14ms/step - loss: 0.6470 - accuracy: 0.7769 - val_loss: 0.2990 - val_accuracy: 0.9373\n",
            "Epoch 161/1000\n",
            "27/31 [=========================>....] - ETA: 0s - loss: 0.6474 - accuracy: 0.7714\n",
            "Epoch 161: saving model to model/keypoint_classifier\\keypoint_classifier.hdf5\n",
            "31/31 [==============================] - 0s 14ms/step - loss: 0.6450 - accuracy: 0.7714 - val_loss: 0.2961 - val_accuracy: 0.9404\n",
            "Epoch 162/1000\n",
            "27/31 [=========================>....] - ETA: 0s - loss: 0.6411 - accuracy: 0.7743\n",
            "Epoch 162: saving model to model/keypoint_classifier\\keypoint_classifier.hdf5\n",
            "31/31 [==============================] - 0s 14ms/step - loss: 0.6441 - accuracy: 0.7743 - val_loss: 0.2929 - val_accuracy: 0.9427\n",
            "Epoch 163/1000\n",
            "27/31 [=========================>....] - ETA: 0s - loss: 0.6397 - accuracy: 0.7705\n",
            "Epoch 163: saving model to model/keypoint_classifier\\keypoint_classifier.hdf5\n",
            "31/31 [==============================] - 0s 14ms/step - loss: 0.6404 - accuracy: 0.7717 - val_loss: 0.2945 - val_accuracy: 0.9411\n",
            "Epoch 164/1000\n",
            "31/31 [==============================] - ETA: 0s - loss: 0.6429 - accuracy: 0.7709\n",
            "Epoch 164: saving model to model/keypoint_classifier\\keypoint_classifier.hdf5\n",
            "31/31 [==============================] - 1s 18ms/step - loss: 0.6429 - accuracy: 0.7709 - val_loss: 0.2918 - val_accuracy: 0.9442\n",
            "Epoch 165/1000\n",
            "31/31 [==============================] - ETA: 0s - loss: 0.6358 - accuracy: 0.7753\n",
            "Epoch 165: saving model to model/keypoint_classifier\\keypoint_classifier.hdf5\n",
            "31/31 [==============================] - 0s 16ms/step - loss: 0.6358 - accuracy: 0.7753 - val_loss: 0.2957 - val_accuracy: 0.9404\n",
            "Epoch 166/1000\n",
            "26/31 [========================>.....] - ETA: 0s - loss: 0.6235 - accuracy: 0.7819\n",
            "Epoch 166: saving model to model/keypoint_classifier\\keypoint_classifier.hdf5\n",
            "31/31 [==============================] - 1s 17ms/step - loss: 0.6161 - accuracy: 0.7833 - val_loss: 0.3010 - val_accuracy: 0.9303\n",
            "Epoch 167/1000\n",
            "27/31 [=========================>....] - ETA: 0s - loss: 0.6375 - accuracy: 0.7786\n",
            "Epoch 167: saving model to model/keypoint_classifier\\keypoint_classifier.hdf5\n",
            "31/31 [==============================] - 0s 14ms/step - loss: 0.6398 - accuracy: 0.7782 - val_loss: 0.2939 - val_accuracy: 0.9388\n",
            "Epoch 168/1000\n",
            "26/31 [========================>.....] - ETA: 0s - loss: 0.6455 - accuracy: 0.7644\n",
            "Epoch 168: saving model to model/keypoint_classifier\\keypoint_classifier.hdf5\n",
            "31/31 [==============================] - 0s 14ms/step - loss: 0.6447 - accuracy: 0.7645 - val_loss: 0.3010 - val_accuracy: 0.9373\n",
            "Epoch 169/1000\n",
            "25/31 [=======================>......] - ETA: 0s - loss: 0.6418 - accuracy: 0.7753\n",
            "Epoch 169: saving model to model/keypoint_classifier\\keypoint_classifier.hdf5\n",
            "31/31 [==============================] - 0s 15ms/step - loss: 0.6280 - accuracy: 0.7797 - val_loss: 0.2890 - val_accuracy: 0.9435\n",
            "Epoch 170/1000\n",
            "27/31 [=========================>....] - ETA: 0s - loss: 0.6308 - accuracy: 0.7792\n",
            "Epoch 170: saving model to model/keypoint_classifier\\keypoint_classifier.hdf5\n",
            "31/31 [==============================] - 0s 14ms/step - loss: 0.6238 - accuracy: 0.7823 - val_loss: 0.2850 - val_accuracy: 0.9411\n",
            "Epoch 171/1000\n",
            "27/31 [=========================>....] - ETA: 0s - loss: 0.6244 - accuracy: 0.7833\n",
            "Epoch 171: saving model to model/keypoint_classifier\\keypoint_classifier.hdf5\n",
            "31/31 [==============================] - 0s 13ms/step - loss: 0.6243 - accuracy: 0.7843 - val_loss: 0.2837 - val_accuracy: 0.9435\n",
            "Epoch 172/1000\n",
            "25/31 [=======================>......] - ETA: 0s - loss: 0.6358 - accuracy: 0.7853\n",
            "Epoch 172: saving model to model/keypoint_classifier\\keypoint_classifier.hdf5\n",
            "31/31 [==============================] - 0s 14ms/step - loss: 0.6395 - accuracy: 0.7812 - val_loss: 0.2802 - val_accuracy: 0.9512\n",
            "Epoch 173/1000\n",
            "28/31 [==========================>...] - ETA: 0s - loss: 0.6434 - accuracy: 0.7765\n",
            "Epoch 173: saving model to model/keypoint_classifier\\keypoint_classifier.hdf5\n",
            "31/31 [==============================] - 1s 19ms/step - loss: 0.6396 - accuracy: 0.7761 - val_loss: 0.2924 - val_accuracy: 0.9419\n",
            "Epoch 174/1000\n",
            "31/31 [==============================] - ETA: 0s - loss: 0.6551 - accuracy: 0.7668\n",
            "Epoch 174: saving model to model/keypoint_classifier\\keypoint_classifier.hdf5\n",
            "31/31 [==============================] - 0s 14ms/step - loss: 0.6551 - accuracy: 0.7668 - val_loss: 0.3011 - val_accuracy: 0.9411\n",
            "Epoch 175/1000\n",
            "23/31 [=====================>........] - ETA: 0s - loss: 0.6452 - accuracy: 0.7717\n",
            "Epoch 175: saving model to model/keypoint_classifier\\keypoint_classifier.hdf5\n",
            "31/31 [==============================] - 0s 14ms/step - loss: 0.6291 - accuracy: 0.7779 - val_loss: 0.2910 - val_accuracy: 0.9396\n",
            "Epoch 176/1000\n",
            "28/31 [==========================>...] - ETA: 0s - loss: 0.6187 - accuracy: 0.7860\n",
            "Epoch 176: saving model to model/keypoint_classifier\\keypoint_classifier.hdf5\n",
            "31/31 [==============================] - 0s 15ms/step - loss: 0.6114 - accuracy: 0.7890 - val_loss: 0.2887 - val_accuracy: 0.9435\n",
            "Epoch 177/1000\n",
            "26/31 [========================>.....] - ETA: 0s - loss: 0.6205 - accuracy: 0.7782\n",
            "Epoch 177: saving model to model/keypoint_classifier\\keypoint_classifier.hdf5\n",
            "31/31 [==============================] - 0s 16ms/step - loss: 0.6181 - accuracy: 0.7797 - val_loss: 0.2843 - val_accuracy: 0.9481\n",
            "Epoch 178/1000\n",
            "28/31 [==========================>...] - ETA: 0s - loss: 0.6192 - accuracy: 0.7799\n",
            "Epoch 178: saving model to model/keypoint_classifier\\keypoint_classifier.hdf5\n",
            "31/31 [==============================] - 0s 14ms/step - loss: 0.6215 - accuracy: 0.7797 - val_loss: 0.2784 - val_accuracy: 0.9481\n",
            "Epoch 179/1000\n",
            "27/31 [=========================>....] - ETA: 0s - loss: 0.6077 - accuracy: 0.7862\n",
            "Epoch 179: saving model to model/keypoint_classifier\\keypoint_classifier.hdf5\n",
            "31/31 [==============================] - 0s 14ms/step - loss: 0.6162 - accuracy: 0.7831 - val_loss: 0.2895 - val_accuracy: 0.9373\n",
            "Epoch 180/1000\n",
            "25/31 [=======================>......] - ETA: 0s - loss: 0.6221 - accuracy: 0.7819\n",
            "Epoch 180: saving model to model/keypoint_classifier\\keypoint_classifier.hdf5\n",
            "31/31 [==============================] - 0s 14ms/step - loss: 0.6178 - accuracy: 0.7833 - val_loss: 0.2786 - val_accuracy: 0.9473\n",
            "Epoch 181/1000\n",
            "27/31 [=========================>....] - ETA: 0s - loss: 0.6226 - accuracy: 0.7775\n",
            "Epoch 181: saving model to model/keypoint_classifier\\keypoint_classifier.hdf5\n",
            "31/31 [==============================] - 1s 18ms/step - loss: 0.6260 - accuracy: 0.7751 - val_loss: 0.2857 - val_accuracy: 0.9442\n",
            "Epoch 182/1000\n",
            "26/31 [========================>.....] - ETA: 0s - loss: 0.6324 - accuracy: 0.7719\n",
            "Epoch 182: saving model to model/keypoint_classifier\\keypoint_classifier.hdf5\n",
            "31/31 [==============================] - 0s 14ms/step - loss: 0.6419 - accuracy: 0.7691 - val_loss: 0.2902 - val_accuracy: 0.9435\n",
            "Epoch 183/1000\n",
            "27/31 [=========================>....] - ETA: 0s - loss: 0.6338 - accuracy: 0.7746\n",
            "Epoch 183: saving model to model/keypoint_classifier\\keypoint_classifier.hdf5\n",
            "31/31 [==============================] - 0s 13ms/step - loss: 0.6270 - accuracy: 0.7753 - val_loss: 0.2807 - val_accuracy: 0.9497\n",
            "Epoch 184/1000\n",
            "25/31 [=======================>......] - ETA: 0s - loss: 0.6349 - accuracy: 0.7822\n",
            "Epoch 184: saving model to model/keypoint_classifier\\keypoint_classifier.hdf5\n",
            "31/31 [==============================] - 0s 13ms/step - loss: 0.6352 - accuracy: 0.7794 - val_loss: 0.2820 - val_accuracy: 0.9466\n",
            "Epoch 185/1000\n",
            "24/31 [======================>.......] - ETA: 0s - loss: 0.6132 - accuracy: 0.7845\n",
            "Epoch 185: saving model to model/keypoint_classifier\\keypoint_classifier.hdf5\n",
            "31/31 [==============================] - 0s 14ms/step - loss: 0.6174 - accuracy: 0.7841 - val_loss: 0.2801 - val_accuracy: 0.9427\n",
            "Epoch 186/1000\n",
            "26/31 [========================>.....] - ETA: 0s - loss: 0.6292 - accuracy: 0.7731\n",
            "Epoch 186: saving model to model/keypoint_classifier\\keypoint_classifier.hdf5\n",
            "31/31 [==============================] - 0s 13ms/step - loss: 0.6288 - accuracy: 0.7738 - val_loss: 0.2766 - val_accuracy: 0.9450\n",
            "Epoch 187/1000\n",
            "28/31 [==========================>...] - ETA: 0s - loss: 0.6068 - accuracy: 0.7907\n",
            "Epoch 187: saving model to model/keypoint_classifier\\keypoint_classifier.hdf5\n",
            "31/31 [==============================] - 0s 16ms/step - loss: 0.6019 - accuracy: 0.7934 - val_loss: 0.2797 - val_accuracy: 0.9411\n",
            "Epoch 188/1000\n",
            "27/31 [=========================>....] - ETA: 0s - loss: 0.6380 - accuracy: 0.7772\n",
            "Epoch 188: saving model to model/keypoint_classifier\\keypoint_classifier.hdf5\n",
            "31/31 [==============================] - 0s 16ms/step - loss: 0.6254 - accuracy: 0.7807 - val_loss: 0.2796 - val_accuracy: 0.9419\n",
            "Epoch 189/1000\n",
            "28/31 [==========================>...] - ETA: 0s - loss: 0.6373 - accuracy: 0.7754\n",
            "Epoch 189: saving model to model/keypoint_classifier\\keypoint_classifier.hdf5\n",
            "31/31 [==============================] - 1s 17ms/step - loss: 0.6338 - accuracy: 0.7763 - val_loss: 0.2924 - val_accuracy: 0.9365\n",
            "Epoch 190/1000\n",
            "26/31 [========================>.....] - ETA: 0s - loss: 0.6293 - accuracy: 0.7794\n",
            "Epoch 190: saving model to model/keypoint_classifier\\keypoint_classifier.hdf5\n",
            "31/31 [==============================] - 2s 58ms/step - loss: 0.6359 - accuracy: 0.7756 - val_loss: 0.2812 - val_accuracy: 0.9458\n",
            "Epoch 191/1000\n",
            "30/31 [============================>.] - ETA: 0s - loss: 0.6165 - accuracy: 0.7768\n",
            "Epoch 191: saving model to model/keypoint_classifier\\keypoint_classifier.hdf5\n",
            "31/31 [==============================] - 0s 15ms/step - loss: 0.6174 - accuracy: 0.7771 - val_loss: 0.2807 - val_accuracy: 0.9473\n",
            "Epoch 192/1000\n",
            "27/31 [=========================>....] - ETA: 0s - loss: 0.6356 - accuracy: 0.7815\n",
            "Epoch 192: saving model to model/keypoint_classifier\\keypoint_classifier.hdf5\n",
            "31/31 [==============================] - 0s 13ms/step - loss: 0.6377 - accuracy: 0.7810 - val_loss: 0.2916 - val_accuracy: 0.9427\n",
            "Epoch 193/1000\n",
            "25/31 [=======================>......] - ETA: 0s - loss: 0.6306 - accuracy: 0.7781\n",
            "Epoch 193: saving model to model/keypoint_classifier\\keypoint_classifier.hdf5\n",
            "31/31 [==============================] - 0s 14ms/step - loss: 0.6365 - accuracy: 0.7748 - val_loss: 0.2889 - val_accuracy: 0.9419\n",
            "Epoch 194/1000\n",
            "25/31 [=======================>......] - ETA: 0s - loss: 0.6162 - accuracy: 0.7775\n",
            "Epoch 194: saving model to model/keypoint_classifier\\keypoint_classifier.hdf5\n",
            "31/31 [==============================] - 0s 14ms/step - loss: 0.6077 - accuracy: 0.7802 - val_loss: 0.2858 - val_accuracy: 0.9435\n",
            "Epoch 195/1000\n",
            "29/31 [===========================>..] - ETA: 0s - loss: 0.6353 - accuracy: 0.7691\n",
            "Epoch 195: saving model to model/keypoint_classifier\\keypoint_classifier.hdf5\n",
            "31/31 [==============================] - 0s 13ms/step - loss: 0.6370 - accuracy: 0.7689 - val_loss: 0.2840 - val_accuracy: 0.9458\n",
            "Epoch 196/1000\n",
            "28/31 [==========================>...] - ETA: 0s - loss: 0.6419 - accuracy: 0.7718\n",
            "Epoch 196: saving model to model/keypoint_classifier\\keypoint_classifier.hdf5\n",
            "31/31 [==============================] - 1s 17ms/step - loss: 0.6363 - accuracy: 0.7738 - val_loss: 0.2818 - val_accuracy: 0.9442\n",
            "Epoch 197/1000\n",
            "23/31 [=====================>........] - ETA: 0s - loss: 0.6189 - accuracy: 0.7809\n",
            "Epoch 197: saving model to model/keypoint_classifier\\keypoint_classifier.hdf5\n",
            "31/31 [==============================] - 0s 15ms/step - loss: 0.6138 - accuracy: 0.7818 - val_loss: 0.2766 - val_accuracy: 0.9497\n",
            "Epoch 198/1000\n",
            "30/31 [============================>.] - ETA: 0s - loss: 0.6111 - accuracy: 0.7865\n",
            "Epoch 198: saving model to model/keypoint_classifier\\keypoint_classifier.hdf5\n",
            "31/31 [==============================] - 0s 14ms/step - loss: 0.6134 - accuracy: 0.7854 - val_loss: 0.2791 - val_accuracy: 0.9520\n",
            "Epoch 199/1000\n",
            "28/31 [==========================>...] - ETA: 0s - loss: 0.6333 - accuracy: 0.7782\n",
            "Epoch 199: saving model to model/keypoint_classifier\\keypoint_classifier.hdf5\n",
            "31/31 [==============================] - 0s 13ms/step - loss: 0.6311 - accuracy: 0.7794 - val_loss: 0.2785 - val_accuracy: 0.9481\n",
            "Epoch 200/1000\n",
            "26/31 [========================>.....] - ETA: 0s - loss: 0.6131 - accuracy: 0.7846\n",
            "Epoch 200: saving model to model/keypoint_classifier\\keypoint_classifier.hdf5\n",
            "31/31 [==============================] - 0s 14ms/step - loss: 0.6090 - accuracy: 0.7867 - val_loss: 0.2769 - val_accuracy: 0.9489\n",
            "Epoch 201/1000\n",
            "25/31 [=======================>......] - ETA: 0s - loss: 0.6256 - accuracy: 0.7719\n",
            "Epoch 201: saving model to model/keypoint_classifier\\keypoint_classifier.hdf5\n",
            "31/31 [==============================] - 0s 14ms/step - loss: 0.6221 - accuracy: 0.7720 - val_loss: 0.2767 - val_accuracy: 0.9527\n",
            "Epoch 202/1000\n",
            "30/31 [============================>.] - ETA: 0s - loss: 0.6290 - accuracy: 0.7771\n",
            "Epoch 202: saving model to model/keypoint_classifier\\keypoint_classifier.hdf5\n",
            "31/31 [==============================] - 0s 16ms/step - loss: 0.6297 - accuracy: 0.7763 - val_loss: 0.2796 - val_accuracy: 0.9543\n",
            "Epoch 203/1000\n",
            "26/31 [========================>.....] - ETA: 0s - loss: 0.6275 - accuracy: 0.7767\n",
            "Epoch 203: saving model to model/keypoint_classifier\\keypoint_classifier.hdf5\n",
            "31/31 [==============================] - 0s 13ms/step - loss: 0.6327 - accuracy: 0.7745 - val_loss: 0.2826 - val_accuracy: 0.9450\n",
            "Epoch 204/1000\n",
            "27/31 [=========================>....] - ETA: 0s - loss: 0.6110 - accuracy: 0.7841\n",
            "Epoch 204: saving model to model/keypoint_classifier\\keypoint_classifier.hdf5\n",
            "31/31 [==============================] - 0s 15ms/step - loss: 0.6208 - accuracy: 0.7820 - val_loss: 0.2889 - val_accuracy: 0.9466\n",
            "Epoch 205/1000\n",
            "31/31 [==============================] - ETA: 0s - loss: 0.6102 - accuracy: 0.7843\n",
            "Epoch 205: saving model to model/keypoint_classifier\\keypoint_classifier.hdf5\n",
            "31/31 [==============================] - 1s 18ms/step - loss: 0.6102 - accuracy: 0.7843 - val_loss: 0.2878 - val_accuracy: 0.9458\n",
            "Epoch 206/1000\n",
            "31/31 [==============================] - ETA: 0s - loss: 0.6137 - accuracy: 0.7789\n",
            "Epoch 206: saving model to model/keypoint_classifier\\keypoint_classifier.hdf5\n",
            "31/31 [==============================] - 0s 15ms/step - loss: 0.6137 - accuracy: 0.7789 - val_loss: 0.2795 - val_accuracy: 0.9535\n",
            "Epoch 206: early stopping\n"
          ]
        },
        {
          "data": {
            "text/plain": [
              "<keras.callbacks.History at 0x17c4e859900>"
            ]
          },
          "execution_count": 23,
          "metadata": {},
          "output_type": "execute_result"
        }
      ],
      "source": [
        "model.fit(\n",
        "    X_train,\n",
        "    y_train,\n",
        "    epochs=1000,\n",
        "    batch_size=128,\n",
        "    validation_data=(X_test, y_test),\n",
        "    callbacks=[cp_callback, es_callback]\n",
        ")"
      ]
    },
    {
      "cell_type": "code",
      "execution_count": 24,
      "metadata": {
        "colab": {
          "base_uri": "https://localhost:8080/"
        },
        "id": "pxvb2Y299hE3",
        "outputId": "59eb3185-2e37-4b9e-bc9d-ab1b8ac29b7f"
      },
      "outputs": [
        {
          "name": "stdout",
          "output_type": "stream",
          "text": [
            "11/11 [==============================] - 0s 5ms/step - loss: 0.2795 - accuracy: 0.9535\n"
          ]
        }
      ],
      "source": [
        "# Model evaluation\n",
        "val_loss, val_acc = model.evaluate(X_test, y_test, batch_size=128)"
      ]
    },
    {
      "cell_type": "code",
      "execution_count": 25,
      "metadata": {
        "id": "RBkmDeUW9hE4"
      },
      "outputs": [],
      "source": [
        "# Loading the saved model\n",
        "model = tf.keras.models.load_model(model_save_path)"
      ]
    },
    {
      "cell_type": "code",
      "execution_count": 26,
      "metadata": {
        "colab": {
          "base_uri": "https://localhost:8080/"
        },
        "id": "tFz9Tb0I9hE4",
        "outputId": "1c3b3528-54ae-4ee2-ab04-77429211cbef"
      },
      "outputs": [
        {
          "name": "stdout",
          "output_type": "stream",
          "text": [
            "1/1 [==============================] - 1s 524ms/step\n",
            "[9.4934832e-03 9.7346765e-01 1.7034154e-02 1.4414381e-12 4.3461719e-06\n",
            " 3.3274779e-07 1.8804252e-14 6.3649930e-09]\n",
            "1\n"
          ]
        }
      ],
      "source": [
        "# Inference test\n",
        "predict_result = model.predict(np.array([X_test[0]]))\n",
        "print(np.squeeze(predict_result))\n",
        "print(np.argmax(np.squeeze(predict_result)))"
      ]
    },
    {
      "cell_type": "markdown",
      "metadata": {
        "id": "S3U4yNWx9hE4"
      },
      "source": [
        "# Confusion matrix"
      ]
    },
    {
      "cell_type": "code",
      "execution_count": 27,
      "metadata": {
        "colab": {
          "base_uri": "https://localhost:8080/",
          "height": 582
        },
        "id": "AP1V6SCk9hE5",
        "outputId": "08e41a80-7a4a-4619-8125-ecc371368d19"
      },
      "outputs": [
        {
          "name": "stdout",
          "output_type": "stream",
          "text": [
            "41/41 [==============================] - 0s 4ms/step\n"
          ]
        },
        {
          "data": {
            "image/png": "[encoded data removed]",
            "text/plain": [
              "<Figure size 700x600 with 2 Axes>"
            ]
          },
          "metadata": {},
          "output_type": "display_data"
        },
        {
          "name": "stdout",
          "output_type": "stream",
          "text": [
            "Classification Report\n",
            "              precision    recall  f1-score   support\n",
            "\n",
            "           0       0.97      0.98      0.97       403\n",
            "           1       0.99      0.94      0.96       366\n",
            "           2       0.90      0.99      0.94       336\n",
            "           3       0.94      1.00      0.97        95\n",
            "           4       1.00      0.87      0.93        54\n",
            "           5       1.00      0.55      0.71        31\n",
            "           7       0.00      0.00      0.00         6\n",
            "\n",
            "    accuracy                           0.95      1291\n",
            "   macro avg       0.83      0.76      0.78      1291\n",
            "weighted avg       0.95      0.95      0.95      1291\n",
            "\n"
          ]
        },
        {
          "name": "stderr",
          "output_type": "stream",
          "text": [
            "d:\\Users\\irene\\anaconda3\\envs\\opencv-gestease\\lib\\site-packages\\sklearn\\metrics\\_classification.py:1334: UndefinedMetricWarning: Precision and F-score are ill-defined and being set to 0.0 in labels with no predicted samples. Use `zero_division` parameter to control this behavior.\n",
            "  _warn_prf(average, modifier, msg_start, len(result))\n",
            "d:\\Users\\irene\\anaconda3\\envs\\opencv-gestease\\lib\\site-packages\\sklearn\\metrics\\_classification.py:1334: UndefinedMetricWarning: Precision and F-score are ill-defined and being set to 0.0 in labels with no predicted samples. Use `zero_division` parameter to control this behavior.\n",
            "  _warn_prf(average, modifier, msg_start, len(result))\n",
            "d:\\Users\\irene\\anaconda3\\envs\\opencv-gestease\\lib\\site-packages\\sklearn\\metrics\\_classification.py:1334: UndefinedMetricWarning: Precision and F-score are ill-defined and being set to 0.0 in labels with no predicted samples. Use `zero_division` parameter to control this behavior.\n",
            "  _warn_prf(average, modifier, msg_start, len(result))\n"
          ]
        }
      ],
      "source": [
        "import pandas as pd\n",
        "import seaborn as sns\n",
        "import matplotlib.pyplot as plt\n",
        "from sklearn.metrics import confusion_matrix, classification_report\n",
        "\n",
        "def print_confusion_matrix(y_true, y_pred, report=True):\n",
        "    labels = sorted(list(set(y_true)))\n",
        "    cmx_data = confusion_matrix(y_true, y_pred, labels=labels)\n",
        "    \n",
        "    df_cmx = pd.DataFrame(cmx_data, index=labels, columns=labels)\n",
        " \n",
        "    fig, ax = plt.subplots(figsize=(7, 6))\n",
        "    sns.heatmap(df_cmx, annot=True, fmt='g' ,square=False)\n",
        "    ax.set_ylim(len(set(y_true)), 0)\n",
        "    plt.show()\n",
        "    \n",
        "    if report:\n",
        "        print('Classification Report')\n",
        "        print(classification_report(y_test, y_pred))\n",
        "\n",
        "Y_pred = model.predict(X_test)\n",
        "y_pred = np.argmax(Y_pred, axis=1)\n",
        "\n",
        "print_confusion_matrix(y_test, y_pred)"
      ]
    },
    {
      "cell_type": "markdown",
      "metadata": {
        "id": "FNP6aqzc9hE5"
      },
      "source": [
        "# Convert to model for Tensorflow-Lite"
      ]
    },
    {
      "cell_type": "code",
      "execution_count": 28,
      "metadata": {
        "id": "ODjnYyld9hE6"
      },
      "outputs": [],
      "source": [
        "# Save as a model dedicated to inference\n",
        "model.save(model_save_path, include_optimizer=False)"
      ]
    },
    {
      "cell_type": "code",
      "execution_count": 29,
      "metadata": {
        "colab": {
          "base_uri": "https://localhost:8080/"
        },
        "id": "zRfuK8Y59hE6",
        "outputId": "a4ca585c-b5d5-4244-8291-8674063209bb"
      },
      "outputs": [
        {
          "name": "stdout",
          "output_type": "stream",
          "text": [
            "INFO:tensorflow:Assets written to: C:\\Users\\irene\\AppData\\Local\\Temp\\tmptfrdp05g\\assets\n"
          ]
        },
        {
          "data": {
            "text/plain": [
              "6748"
            ]
          },
          "execution_count": 29,
          "metadata": {},
          "output_type": "execute_result"
        }
      ],
      "source": [
        "# Transform model (quantization)\n",
        "\n",
        "converter = tf.lite.TFLiteConverter.from_keras_model(model)\n",
        "converter.optimizations = [tf.lite.Optimize.DEFAULT]\n",
        "tflite_quantized_model = converter.convert()\n",
        "\n",
        "open(tflite_save_path, 'wb').write(tflite_quantized_model)"
      ]
    },
    {
      "cell_type": "markdown",
      "metadata": {
        "id": "CHBPBXdx9hE6"
      },
      "source": [
        "# Inference test"
      ]
    },
    {
      "cell_type": "code",
      "execution_count": 30,
      "metadata": {
        "id": "mGAzLocO9hE7"
      },
      "outputs": [],
      "source": [
        "interpreter = tf.lite.Interpreter(model_path=tflite_save_path)\n",
        "interpreter.allocate_tensors()"
      ]
    },
    {
      "cell_type": "code",
      "execution_count": 31,
      "metadata": {
        "id": "oQuDK8YS9hE7"
      },
      "outputs": [],
      "source": [
        "# Get I / O tensor\n",
        "input_details = interpreter.get_input_details()\n",
        "output_details = interpreter.get_output_details()"
      ]
    },
    {
      "cell_type": "code",
      "execution_count": 32,
      "metadata": {
        "id": "2_ixAf_l9hE7"
      },
      "outputs": [],
      "source": [
        "interpreter.set_tensor(input_details[0]['index'], np.array([X_test[0]]))"
      ]
    },
    {
      "cell_type": "code",
      "execution_count": 33,
      "metadata": {
        "colab": {
          "base_uri": "https://localhost:8080/"
        },
        "id": "s4FoAnuc9hE7",
        "outputId": "91f18257-8d8b-4ef3-c558-e9b5f94fabbf",
        "scrolled": true
      },
      "outputs": [
        {
          "name": "stdout",
          "output_type": "stream",
          "text": [
            "CPU times: total: 0 ns\n",
            "Wall time: 1.52 ms\n"
          ]
        }
      ],
      "source": [
        "%%time\n",
        "# Inference implementation\n",
        "interpreter.invoke()\n",
        "tflite_results = interpreter.get_tensor(output_details[0]['index'])"
      ]
    },
    {
      "cell_type": "code",
      "execution_count": 34,
      "metadata": {
        "colab": {
          "base_uri": "https://localhost:8080/"
        },
        "id": "vONjp19J9hE8",
        "outputId": "77205e24-fd00-42c4-f7b6-e06e527c2cba"
      },
      "outputs": [
        {
          "name": "stdout",
          "output_type": "stream",
          "text": [
            "[9.4934786e-03 9.7346771e-01 1.7034143e-02 1.4414380e-12 4.3461719e-06\n",
            " 3.3274779e-07 1.8804220e-14 6.3649930e-09]\n",
            "1\n"
          ]
        }
      ],
      "source": [
        "print(np.squeeze(tflite_results))\n",
        "print(np.argmax(np.squeeze(tflite_results)))"
      ]
    }
  ],
  "metadata": {
    "accelerator": "GPU",
    "colab": {
      "collapsed_sections": [],
      "name": "keypoint_classification_EN.ipynb",
      "provenance": [],
      "toc_visible": true
    },
    "kernelspec": {
      "display_name": "Python 3.10.6 ('opencv-gestease')",
      "language": "python",
      "name": "python3"
    },
    "language_info": {
      "codemirror_mode": {
        "name": "ipython",
        "version": 3
      },
      "file_extension": ".py",
      "mimetype": "text/x-python",
      "name": "python",
      "nbconvert_exporter": "python",
      "pygments_lexer": "ipython3",
      "version": "3.10.6"
    },
    "vscode": {
      "interpreter": {
        "hash": "e859f7a07f054177d83908d3c9149e0b10e36d884a4e4953e203639a3996460f"
      }
    }
  },
  "nbformat": 4,
  "nbformat_minor": 0
}
