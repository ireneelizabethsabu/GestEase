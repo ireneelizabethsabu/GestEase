{
  "cells": [
    {
      "cell_type": "code",
      "execution_count": 111,
      "metadata": {
        "id": "igMyGnjE9hEp"
      },
      "outputs": [],
      "source": [
        "import csv\n",
        "\n",
        "import numpy as np\n",
        "import tensorflow as tf\n",
        "from sklearn.model_selection import train_test_split\n",
        "\n",
        "RANDOM_SEED = 42"
      ]
    },
    {
      "cell_type": "markdown",
      "metadata": {
        "id": "t2HDvhIu9hEr"
      },
      "source": [
        "# Specify each path"
      ]
    },
    {
      "cell_type": "code",
      "execution_count": 112,
      "metadata": {
        "id": "9NvZP2Zn9hEy"
      },
      "outputs": [],
      "source": [
        "dataset = 'model/keypoint_classifier/keypoint.csv'\n",
        "model_save_path = 'model/keypoint_classifier/keypoint_classifier.hdf5'\n",
        "tflite_save_path = 'model/keypoint_classifier/keypoint_classifier.tflite'"
      ]
    },
    {
      "cell_type": "markdown",
      "metadata": {
        "id": "s5oMH7x19hEz"
      },
      "source": [
        "# Set number of classes"
      ]
    },
    {
      "cell_type": "code",
      "execution_count": 113,
      "metadata": {
        "id": "du4kodXL9hEz"
      },
      "outputs": [],
      "source": [
        "NUM_CLASSES = 7 #increment when adding the gestures"
      ]
    },
    {
      "cell_type": "markdown",
      "metadata": {
        "id": "XjnL0uso9hEz"
      },
      "source": [
        "# Dataset reading"
      ]
    },
    {
      "cell_type": "code",
      "execution_count": 114,
      "metadata": {
        "id": "QT5ZqtEz9hE0"
      },
      "outputs": [],
      "source": [
        "X_dataset = np.loadtxt(dataset, delimiter=',', dtype='float32', usecols=list(range(1, (21 * 2) + 1)))"
      ]
    },
    {
      "cell_type": "code",
      "execution_count": 115,
      "metadata": {
        "id": "QmoKFsp49hE0"
      },
      "outputs": [],
      "source": [
        "y_dataset = np.loadtxt(dataset, delimiter=',', dtype='int32', usecols=(0))"
      ]
    },
    {
      "cell_type": "code",
      "execution_count": 116,
      "metadata": {
        "id": "xQU7JTZ_9hE0"
      },
      "outputs": [],
      "source": [
        "X_train, X_test, y_train, y_test = train_test_split(X_dataset, y_dataset, train_size=0.75, random_state=RANDOM_SEED)"
      ]
    },
    {
      "cell_type": "markdown",
      "metadata": {
        "id": "mxK_lETT9hE0"
      },
      "source": [
        "# Model building"
      ]
    },
    {
      "cell_type": "code",
      "execution_count": 117,
      "metadata": {
        "id": "vHBmUf1t9hE1"
      },
      "outputs": [],
      "source": [
        "model = tf.keras.models.Sequential([\n",
        "    tf.keras.layers.Input((21 * 2, )),\n",
        "    tf.keras.layers.Dropout(0.2),\n",
        "    tf.keras.layers.Dense(20, activation='relu'),\n",
        "    tf.keras.layers.Dropout(0.4),\n",
        "    tf.keras.layers.Dense(10, activation='relu'),\n",
        "    tf.keras.layers.Dense(NUM_CLASSES, activation='softmax')\n",
        "])"
      ]
    },
    {
      "cell_type": "code",
      "execution_count": 118,
      "metadata": {
        "colab": {
          "base_uri": "https://localhost:8080/"
        },
        "id": "ypqky9tc9hE1",
        "outputId": "5db082bb-30e3-4110-bf63-a1ee777ecd46"
      },
      "outputs": [
        {
          "name": "stdout",
          "output_type": "stream",
          "text": [
            "Model: \"sequential_5\"\n",
            "_________________________________________________________________\n",
            " Layer (type)                Output Shape              Param #   \n",
            "=================================================================\n",
            " dropout_10 (Dropout)        (None, 42)                0         \n",
            "                                                                 \n",
            " dense_15 (Dense)            (None, 20)                860       \n",
            "                                                                 \n",
            " dropout_11 (Dropout)        (None, 20)                0         \n",
            "                                                                 \n",
            " dense_16 (Dense)            (None, 10)                210       \n",
            "                                                                 \n",
            " dense_17 (Dense)            (None, 7)                 77        \n",
            "                                                                 \n",
            "=================================================================\n",
            "Total params: 1,147\n",
            "Trainable params: 1,147\n",
            "Non-trainable params: 0\n",
            "_________________________________________________________________\n"
          ]
        }
      ],
      "source": [
        "model.summary()  # tf.keras.utils.plot_model(model, show_shapes=True)"
      ]
    },
    {
      "cell_type": "code",
      "execution_count": 119,
      "metadata": {
        "id": "MbMjOflQ9hE1"
      },
      "outputs": [],
      "source": [
        "# Model checkpoint callback\n",
        "cp_callback = tf.keras.callbacks.ModelCheckpoint(\n",
        "    model_save_path, verbose=1, save_weights_only=False)\n",
        "# Callback for early stopping\n",
        "es_callback = tf.keras.callbacks.EarlyStopping(patience=20, verbose=1)"
      ]
    },
    {
      "cell_type": "code",
      "execution_count": 120,
      "metadata": {
        "id": "c3Dac0M_9hE2"
      },
      "outputs": [],
      "source": [
        "# Model compilation\n",
        "model.compile(\n",
        "    optimizer='adam',\n",
        "    loss='sparse_categorical_crossentropy',\n",
        "    metrics=['accuracy']\n",
        ")"
      ]
    },
    {
      "cell_type": "markdown",
      "metadata": {
        "id": "7XI0j1Iu9hE2"
      },
      "source": [
        "# Model training"
      ]
    },
    {
      "cell_type": "code",
      "execution_count": 121,
      "metadata": {
        "colab": {
          "base_uri": "https://localhost:8080/"
        },
        "id": "WirBl-JE9hE3",
        "outputId": "71b30ca2-8294-4d9d-8aa2-800d90d399de",
        "scrolled": true
      },
      "outputs": [
        {
          "name": "stdout",
          "output_type": "stream",
          "text": [
            "Epoch 1/1000\n",
            " 1/19 [>.............................] - ETA: 16s - loss: 1.9422 - accuracy: 0.0938\n",
            "Epoch 1: saving model to model/keypoint_classifier\\keypoint_classifier.hdf5\n",
            "19/19 [==============================] - 1s 17ms/step - loss: 1.8951 - accuracy: 0.1482 - val_loss: 1.8144 - val_accuracy: 0.3722\n",
            "Epoch 2/1000\n",
            "19/19 [==============================] - ETA: 0s - loss: 1.7656 - accuracy: 0.3369\n",
            "Epoch 2: saving model to model/keypoint_classifier\\keypoint_classifier.hdf5\n",
            "19/19 [==============================] - 0s 8ms/step - loss: 1.7656 - accuracy: 0.3369 - val_loss: 1.6774 - val_accuracy: 0.5215\n",
            "Epoch 3/1000\n",
            " 1/19 [>.............................] - ETA: 0s - loss: 1.6895 - accuracy: 0.4766\n",
            "Epoch 3: saving model to model/keypoint_classifier\\keypoint_classifier.hdf5\n",
            "19/19 [==============================] - 0s 8ms/step - loss: 1.6297 - accuracy: 0.4702 - val_loss: 1.5206 - val_accuracy: 0.5532\n",
            "Epoch 4/1000\n",
            " 1/19 [>.............................] - ETA: 0s - loss: 1.5266 - accuracy: 0.5547\n",
            "Epoch 4: saving model to model/keypoint_classifier\\keypoint_classifier.hdf5\n",
            "19/19 [==============================] - 0s 7ms/step - loss: 1.5083 - accuracy: 0.5146 - val_loss: 1.3911 - val_accuracy: 0.5532\n",
            "Epoch 5/1000\n",
            " 1/19 [>.............................] - ETA: 0s - loss: 1.6029 - accuracy: 0.4453\n",
            "Epoch 5: saving model to model/keypoint_classifier\\keypoint_classifier.hdf5\n",
            "19/19 [==============================] - 0s 6ms/step - loss: 1.4281 - accuracy: 0.5272 - val_loss: 1.3031 - val_accuracy: 0.5532\n",
            "Epoch 6/1000\n",
            " 1/19 [>.............................] - ETA: 0s - loss: 1.2482 - accuracy: 0.5938\n",
            "Epoch 6: saving model to model/keypoint_classifier\\keypoint_classifier.hdf5\n",
            "19/19 [==============================] - 0s 5ms/step - loss: 1.3616 - accuracy: 0.5310 - val_loss: 1.2371 - val_accuracy: 0.5532\n",
            "Epoch 7/1000\n",
            " 1/19 [>.............................] - ETA: 0s - loss: 1.4201 - accuracy: 0.4375\n",
            "Epoch 7: saving model to model/keypoint_classifier\\keypoint_classifier.hdf5\n",
            "19/19 [==============================] - 0s 5ms/step - loss: 1.2984 - accuracy: 0.5327 - val_loss: 1.1714 - val_accuracy: 0.5532\n",
            "Epoch 8/1000\n",
            " 1/19 [>.............................] - ETA: 0s - loss: 1.2575 - accuracy: 0.5078\n",
            "Epoch 8: saving model to model/keypoint_classifier\\keypoint_classifier.hdf5\n",
            "19/19 [==============================] - 0s 5ms/step - loss: 1.2589 - accuracy: 0.5369 - val_loss: 1.1289 - val_accuracy: 0.5544\n",
            "Epoch 9/1000\n",
            " 1/19 [>.............................] - ETA: 0s - loss: 1.1586 - accuracy: 0.5391\n",
            "Epoch 9: saving model to model/keypoint_classifier\\keypoint_classifier.hdf5\n",
            "19/19 [==============================] - 0s 5ms/step - loss: 1.1977 - accuracy: 0.5479 - val_loss: 1.0839 - val_accuracy: 0.5709\n",
            "Epoch 10/1000\n",
            " 1/19 [>.............................] - ETA: 0s - loss: 1.1813 - accuracy: 0.5781\n",
            "Epoch 10: saving model to model/keypoint_classifier\\keypoint_classifier.hdf5\n",
            "19/19 [==============================] - 0s 5ms/step - loss: 1.1562 - accuracy: 0.5669 - val_loss: 1.0413 - val_accuracy: 0.6671\n",
            "Epoch 11/1000\n",
            " 1/19 [>.............................] - ETA: 0s - loss: 1.2339 - accuracy: 0.5078\n",
            "Epoch 11: saving model to model/keypoint_classifier\\keypoint_classifier.hdf5\n",
            "19/19 [==============================] - 0s 5ms/step - loss: 1.1350 - accuracy: 0.5927 - val_loss: 1.0094 - val_accuracy: 0.7025\n",
            "Epoch 12/1000\n",
            " 1/19 [>.............................] - ETA: 0s - loss: 1.2105 - accuracy: 0.5469\n",
            "Epoch 12: saving model to model/keypoint_classifier\\keypoint_classifier.hdf5\n",
            "19/19 [==============================] - 0s 5ms/step - loss: 1.1030 - accuracy: 0.5973 - val_loss: 0.9623 - val_accuracy: 0.7063\n",
            "Epoch 13/1000\n",
            " 1/19 [>.............................] - ETA: 0s - loss: 1.0691 - accuracy: 0.6328\n",
            "Epoch 13: saving model to model/keypoint_classifier\\keypoint_classifier.hdf5\n",
            "19/19 [==============================] - 0s 5ms/step - loss: 1.0551 - accuracy: 0.6167 - val_loss: 0.9187 - val_accuracy: 0.7165\n",
            "Epoch 14/1000\n",
            " 1/19 [>.............................] - ETA: 0s - loss: 1.0940 - accuracy: 0.5859\n",
            "Epoch 14: saving model to model/keypoint_classifier\\keypoint_classifier.hdf5\n",
            "19/19 [==============================] - 0s 5ms/step - loss: 1.0336 - accuracy: 0.6163 - val_loss: 0.8926 - val_accuracy: 0.7177\n",
            "Epoch 15/1000\n",
            " 1/19 [>.............................] - ETA: 0s - loss: 1.0629 - accuracy: 0.6172\n",
            "Epoch 15: saving model to model/keypoint_classifier\\keypoint_classifier.hdf5\n",
            "19/19 [==============================] - 0s 5ms/step - loss: 1.0081 - accuracy: 0.6260 - val_loss: 0.8595 - val_accuracy: 0.7203\n",
            "Epoch 16/1000\n",
            " 1/19 [>.............................] - ETA: 0s - loss: 1.0800 - accuracy: 0.5859\n",
            "Epoch 16: saving model to model/keypoint_classifier\\keypoint_classifier.hdf5\n",
            "19/19 [==============================] - 0s 5ms/step - loss: 0.9829 - accuracy: 0.6349 - val_loss: 0.8406 - val_accuracy: 0.7190\n",
            "Epoch 17/1000\n",
            " 1/19 [>.............................] - ETA: 0s - loss: 0.9877 - accuracy: 0.6406\n",
            "Epoch 17: saving model to model/keypoint_classifier\\keypoint_classifier.hdf5\n",
            "19/19 [==============================] - 0s 6ms/step - loss: 0.9512 - accuracy: 0.6408 - val_loss: 0.8026 - val_accuracy: 0.7203\n",
            "Epoch 18/1000\n",
            " 1/19 [>.............................] - ETA: 0s - loss: 1.0836 - accuracy: 0.5938\n",
            "Epoch 18: saving model to model/keypoint_classifier\\keypoint_classifier.hdf5\n",
            "19/19 [==============================] - 0s 8ms/step - loss: 0.9360 - accuracy: 0.6488 - val_loss: 0.7803 - val_accuracy: 0.7215\n",
            "Epoch 19/1000\n",
            " 1/19 [>.............................] - ETA: 0s - loss: 1.0374 - accuracy: 0.5859\n",
            "Epoch 19: saving model to model/keypoint_classifier\\keypoint_classifier.hdf5\n",
            "19/19 [==============================] - 0s 7ms/step - loss: 0.9312 - accuracy: 0.6412 - val_loss: 0.7557 - val_accuracy: 0.7203\n",
            "Epoch 20/1000\n",
            " 1/19 [>.............................] - ETA: 0s - loss: 0.8466 - accuracy: 0.6797\n",
            "Epoch 20: saving model to model/keypoint_classifier\\keypoint_classifier.hdf5\n",
            "19/19 [==============================] - 0s 7ms/step - loss: 0.8985 - accuracy: 0.6488 - val_loss: 0.7395 - val_accuracy: 0.7215\n",
            "Epoch 21/1000\n",
            "19/19 [==============================] - ETA: 0s - loss: 0.8911 - accuracy: 0.6530\n",
            "Epoch 21: saving model to model/keypoint_classifier\\keypoint_classifier.hdf5\n",
            "19/19 [==============================] - 0s 9ms/step - loss: 0.8911 - accuracy: 0.6530 - val_loss: 0.7210 - val_accuracy: 0.7215\n",
            "Epoch 22/1000\n",
            " 1/19 [>.............................] - ETA: 0s - loss: 0.8679 - accuracy: 0.6641\n",
            "Epoch 22: saving model to model/keypoint_classifier\\keypoint_classifier.hdf5\n",
            "19/19 [==============================] - 0s 7ms/step - loss: 0.8766 - accuracy: 0.6526 - val_loss: 0.7044 - val_accuracy: 0.7228\n",
            "Epoch 23/1000\n",
            "18/19 [===========================>..] - ETA: 0s - loss: 0.8600 - accuracy: 0.6628\n",
            "Epoch 23: saving model to model/keypoint_classifier\\keypoint_classifier.hdf5\n",
            "19/19 [==============================] - 0s 9ms/step - loss: 0.8581 - accuracy: 0.6627 - val_loss: 0.6874 - val_accuracy: 0.7304\n",
            "Epoch 24/1000\n",
            " 1/19 [>.............................] - ETA: 0s - loss: 0.7983 - accuracy: 0.6953\n",
            "Epoch 24: saving model to model/keypoint_classifier\\keypoint_classifier.hdf5\n",
            "19/19 [==============================] - 0s 6ms/step - loss: 0.8440 - accuracy: 0.6674 - val_loss: 0.6638 - val_accuracy: 0.7544\n",
            "Epoch 25/1000\n",
            " 1/19 [>.............................] - ETA: 0s - loss: 0.8828 - accuracy: 0.6484\n",
            "Epoch 25: saving model to model/keypoint_classifier\\keypoint_classifier.hdf5\n",
            "19/19 [==============================] - 0s 6ms/step - loss: 0.8676 - accuracy: 0.6674 - val_loss: 0.6561 - val_accuracy: 0.7671\n",
            "Epoch 26/1000\n",
            " 1/19 [>.............................] - ETA: 0s - loss: 0.9541 - accuracy: 0.6094\n",
            "Epoch 26: saving model to model/keypoint_classifier\\keypoint_classifier.hdf5\n",
            "19/19 [==============================] - 0s 5ms/step - loss: 0.8426 - accuracy: 0.6724 - val_loss: 0.6460 - val_accuracy: 0.7684\n",
            "Epoch 27/1000\n",
            " 1/19 [>.............................] - ETA: 0s - loss: 0.7535 - accuracy: 0.7188\n",
            "Epoch 27: saving model to model/keypoint_classifier\\keypoint_classifier.hdf5\n",
            "19/19 [==============================] - 0s 5ms/step - loss: 0.8254 - accuracy: 0.6695 - val_loss: 0.6275 - val_accuracy: 0.7747\n",
            "Epoch 28/1000\n",
            " 1/19 [>.............................] - ETA: 0s - loss: 0.9300 - accuracy: 0.5938\n",
            "Epoch 28: saving model to model/keypoint_classifier\\keypoint_classifier.hdf5\n",
            "19/19 [==============================] - 0s 5ms/step - loss: 0.8283 - accuracy: 0.6623 - val_loss: 0.6230 - val_accuracy: 0.7899\n",
            "Epoch 29/1000\n",
            " 1/19 [>.............................] - ETA: 0s - loss: 0.8322 - accuracy: 0.6797\n",
            "Epoch 29: saving model to model/keypoint_classifier\\keypoint_classifier.hdf5\n",
            "19/19 [==============================] - 0s 5ms/step - loss: 0.7974 - accuracy: 0.6843 - val_loss: 0.6016 - val_accuracy: 0.7937\n",
            "Epoch 30/1000\n",
            " 1/19 [>.............................] - ETA: 0s - loss: 0.7227 - accuracy: 0.6953\n",
            "Epoch 30: saving model to model/keypoint_classifier\\keypoint_classifier.hdf5\n",
            "19/19 [==============================] - 0s 5ms/step - loss: 0.7778 - accuracy: 0.6973 - val_loss: 0.5883 - val_accuracy: 0.8000\n",
            "Epoch 31/1000\n",
            " 1/19 [>.............................] - ETA: 0s - loss: 0.7595 - accuracy: 0.6641\n",
            "Epoch 31: saving model to model/keypoint_classifier\\keypoint_classifier.hdf5\n",
            "19/19 [==============================] - 0s 5ms/step - loss: 0.7719 - accuracy: 0.6897 - val_loss: 0.5828 - val_accuracy: 0.8139\n",
            "Epoch 32/1000\n",
            " 1/19 [>.............................] - ETA: 0s - loss: 0.9338 - accuracy: 0.6328\n",
            "Epoch 32: saving model to model/keypoint_classifier\\keypoint_classifier.hdf5\n",
            "19/19 [==============================] - 0s 5ms/step - loss: 0.7983 - accuracy: 0.6847 - val_loss: 0.5689 - val_accuracy: 0.8101\n",
            "Epoch 33/1000\n",
            " 1/19 [>.............................] - ETA: 0s - loss: 0.7104 - accuracy: 0.7344\n",
            "Epoch 33: saving model to model/keypoint_classifier\\keypoint_classifier.hdf5\n",
            "19/19 [==============================] - 0s 5ms/step - loss: 0.7660 - accuracy: 0.6893 - val_loss: 0.5650 - val_accuracy: 0.8241\n",
            "Epoch 34/1000\n",
            " 1/19 [>.............................] - ETA: 0s - loss: 0.7228 - accuracy: 0.7109\n",
            "Epoch 34: saving model to model/keypoint_classifier\\keypoint_classifier.hdf5\n",
            "19/19 [==============================] - 0s 5ms/step - loss: 0.7496 - accuracy: 0.7054 - val_loss: 0.5493 - val_accuracy: 0.8127\n",
            "Epoch 35/1000\n",
            " 1/19 [>.............................] - ETA: 0s - loss: 0.7255 - accuracy: 0.7109\n",
            "Epoch 35: saving model to model/keypoint_classifier\\keypoint_classifier.hdf5\n",
            "19/19 [==============================] - 0s 5ms/step - loss: 0.7508 - accuracy: 0.6982 - val_loss: 0.5416 - val_accuracy: 0.8152\n",
            "Epoch 36/1000\n",
            " 1/19 [>.............................] - ETA: 0s - loss: 0.6927 - accuracy: 0.7266\n",
            "Epoch 36: saving model to model/keypoint_classifier\\keypoint_classifier.hdf5\n",
            "19/19 [==============================] - 0s 5ms/step - loss: 0.7532 - accuracy: 0.7033 - val_loss: 0.5323 - val_accuracy: 0.8253\n",
            "Epoch 37/1000\n",
            " 1/19 [>.............................] - ETA: 0s - loss: 0.8375 - accuracy: 0.6641\n",
            "Epoch 37: saving model to model/keypoint_classifier\\keypoint_classifier.hdf5\n",
            "19/19 [==============================] - 0s 5ms/step - loss: 0.7500 - accuracy: 0.7049 - val_loss: 0.5195 - val_accuracy: 0.8203\n",
            "Epoch 38/1000\n",
            " 1/19 [>.............................] - ETA: 0s - loss: 0.8676 - accuracy: 0.6641\n",
            "Epoch 38: saving model to model/keypoint_classifier\\keypoint_classifier.hdf5\n",
            "19/19 [==============================] - 0s 5ms/step - loss: 0.7326 - accuracy: 0.7049 - val_loss: 0.5156 - val_accuracy: 0.8266\n",
            "Epoch 39/1000\n",
            " 1/19 [>.............................] - ETA: 0s - loss: 0.7605 - accuracy: 0.6719\n",
            "Epoch 39: saving model to model/keypoint_classifier\\keypoint_classifier.hdf5\n",
            "19/19 [==============================] - 0s 5ms/step - loss: 0.7270 - accuracy: 0.7134 - val_loss: 0.5078 - val_accuracy: 0.8316\n",
            "Epoch 40/1000\n",
            " 1/19 [>.............................] - ETA: 0s - loss: 0.6738 - accuracy: 0.7344\n",
            "Epoch 40: saving model to model/keypoint_classifier\\keypoint_classifier.hdf5\n",
            "19/19 [==============================] - 0s 5ms/step - loss: 0.7192 - accuracy: 0.7231 - val_loss: 0.4947 - val_accuracy: 0.8329\n",
            "Epoch 41/1000\n",
            " 1/19 [>.............................] - ETA: 0s - loss: 0.7591 - accuracy: 0.7266\n",
            "Epoch 41: saving model to model/keypoint_classifier\\keypoint_classifier.hdf5\n",
            "19/19 [==============================] - 0s 5ms/step - loss: 0.7336 - accuracy: 0.7210 - val_loss: 0.4876 - val_accuracy: 0.8316\n",
            "Epoch 42/1000\n",
            " 1/19 [>.............................] - ETA: 0s - loss: 0.6333 - accuracy: 0.7734\n",
            "Epoch 42: saving model to model/keypoint_classifier\\keypoint_classifier.hdf5\n",
            "19/19 [==============================] - 0s 5ms/step - loss: 0.7353 - accuracy: 0.7125 - val_loss: 0.4931 - val_accuracy: 0.8481\n",
            "Epoch 43/1000\n",
            " 1/19 [>.............................] - ETA: 0s - loss: 0.7550 - accuracy: 0.6797\n",
            "Epoch 43: saving model to model/keypoint_classifier\\keypoint_classifier.hdf5\n",
            "19/19 [==============================] - 0s 6ms/step - loss: 0.7158 - accuracy: 0.7227 - val_loss: 0.4817 - val_accuracy: 0.8380\n",
            "Epoch 44/1000\n",
            " 1/19 [>.............................] - ETA: 0s - loss: 0.8347 - accuracy: 0.6562\n",
            "Epoch 44: saving model to model/keypoint_classifier\\keypoint_classifier.hdf5\n",
            "19/19 [==============================] - 0s 5ms/step - loss: 0.7017 - accuracy: 0.7290 - val_loss: 0.4696 - val_accuracy: 0.8380\n",
            "Epoch 45/1000\n",
            " 1/19 [>.............................] - ETA: 0s - loss: 0.8031 - accuracy: 0.6484\n",
            "Epoch 45: saving model to model/keypoint_classifier\\keypoint_classifier.hdf5\n",
            "19/19 [==============================] - 0s 6ms/step - loss: 0.6911 - accuracy: 0.7294 - val_loss: 0.4591 - val_accuracy: 0.8430\n",
            "Epoch 46/1000\n",
            " 1/19 [>.............................] - ETA: 0s - loss: 0.7456 - accuracy: 0.7656\n",
            "Epoch 46: saving model to model/keypoint_classifier\\keypoint_classifier.hdf5\n",
            "19/19 [==============================] - 0s 5ms/step - loss: 0.6891 - accuracy: 0.7197 - val_loss: 0.4548 - val_accuracy: 0.8532\n",
            "Epoch 47/1000\n",
            " 1/19 [>.............................] - ETA: 0s - loss: 0.7367 - accuracy: 0.6562\n",
            "Epoch 47: saving model to model/keypoint_classifier\\keypoint_classifier.hdf5\n",
            "19/19 [==============================] - 0s 5ms/step - loss: 0.6839 - accuracy: 0.7332 - val_loss: 0.4445 - val_accuracy: 0.8747\n",
            "Epoch 48/1000\n",
            " 1/19 [>.............................] - ETA: 0s - loss: 0.6154 - accuracy: 0.7344\n",
            "Epoch 48: saving model to model/keypoint_classifier\\keypoint_classifier.hdf5\n",
            "19/19 [==============================] - 0s 5ms/step - loss: 0.6822 - accuracy: 0.7324 - val_loss: 0.4354 - val_accuracy: 0.8595\n",
            "Epoch 49/1000\n",
            " 1/19 [>.............................] - ETA: 0s - loss: 0.5653 - accuracy: 0.7969\n",
            "Epoch 49: saving model to model/keypoint_classifier\\keypoint_classifier.hdf5\n",
            "19/19 [==============================] - 0s 6ms/step - loss: 0.6834 - accuracy: 0.7396 - val_loss: 0.4407 - val_accuracy: 0.8911\n",
            "Epoch 50/1000\n",
            " 1/19 [>.............................] - ETA: 0s - loss: 0.7260 - accuracy: 0.7344\n",
            "Epoch 50: saving model to model/keypoint_classifier\\keypoint_classifier.hdf5\n",
            "19/19 [==============================] - 0s 6ms/step - loss: 0.6867 - accuracy: 0.7396 - val_loss: 0.4283 - val_accuracy: 0.8823\n",
            "Epoch 51/1000\n",
            " 1/19 [>.............................] - ETA: 0s - loss: 0.7276 - accuracy: 0.7266\n",
            "Epoch 51: saving model to model/keypoint_classifier\\keypoint_classifier.hdf5\n",
            "19/19 [==============================] - 0s 6ms/step - loss: 0.6752 - accuracy: 0.7324 - val_loss: 0.4189 - val_accuracy: 0.9000\n",
            "Epoch 52/1000\n",
            " 1/19 [>.............................] - ETA: 0s - loss: 0.6621 - accuracy: 0.7344\n",
            "Epoch 52: saving model to model/keypoint_classifier\\keypoint_classifier.hdf5\n",
            "19/19 [==============================] - 0s 6ms/step - loss: 0.6856 - accuracy: 0.7358 - val_loss: 0.4199 - val_accuracy: 0.8949\n",
            "Epoch 53/1000\n",
            " 1/19 [>.............................] - ETA: 0s - loss: 0.6388 - accuracy: 0.7734\n",
            "Epoch 53: saving model to model/keypoint_classifier\\keypoint_classifier.hdf5\n",
            "19/19 [==============================] - 0s 6ms/step - loss: 0.6523 - accuracy: 0.7522 - val_loss: 0.4141 - val_accuracy: 0.9076\n",
            "Epoch 54/1000\n",
            " 1/19 [>.............................] - ETA: 0s - loss: 0.6418 - accuracy: 0.7344\n",
            "Epoch 54: saving model to model/keypoint_classifier\\keypoint_classifier.hdf5\n",
            "19/19 [==============================] - 0s 5ms/step - loss: 0.6531 - accuracy: 0.7332 - val_loss: 0.3972 - val_accuracy: 0.8975\n",
            "Epoch 55/1000\n",
            " 1/19 [>.............................] - ETA: 0s - loss: 0.6089 - accuracy: 0.7500\n",
            "Epoch 55: saving model to model/keypoint_classifier\\keypoint_classifier.hdf5\n",
            "19/19 [==============================] - 0s 6ms/step - loss: 0.6256 - accuracy: 0.7607 - val_loss: 0.3918 - val_accuracy: 0.9038\n",
            "Epoch 56/1000\n",
            " 1/19 [>.............................] - ETA: 0s - loss: 0.7155 - accuracy: 0.7422\n",
            "Epoch 56: saving model to model/keypoint_classifier\\keypoint_classifier.hdf5\n",
            "19/19 [==============================] - 0s 5ms/step - loss: 0.6582 - accuracy: 0.7370 - val_loss: 0.3915 - val_accuracy: 0.9165\n",
            "Epoch 57/1000\n",
            " 1/19 [>.............................] - ETA: 0s - loss: 0.7578 - accuracy: 0.7188\n",
            "Epoch 57: saving model to model/keypoint_classifier\\keypoint_classifier.hdf5\n",
            "19/19 [==============================] - 0s 5ms/step - loss: 0.6388 - accuracy: 0.7564 - val_loss: 0.3798 - val_accuracy: 0.9152\n",
            "Epoch 58/1000\n",
            " 1/19 [>.............................] - ETA: 0s - loss: 0.7477 - accuracy: 0.6953\n",
            "Epoch 58: saving model to model/keypoint_classifier\\keypoint_classifier.hdf5\n",
            "19/19 [==============================] - 0s 5ms/step - loss: 0.6409 - accuracy: 0.7531 - val_loss: 0.3747 - val_accuracy: 0.9127\n",
            "Epoch 59/1000\n",
            " 1/19 [>.............................] - ETA: 0s - loss: 0.6938 - accuracy: 0.7266\n",
            "Epoch 59: saving model to model/keypoint_classifier\\keypoint_classifier.hdf5\n",
            "19/19 [==============================] - 0s 5ms/step - loss: 0.6406 - accuracy: 0.7455 - val_loss: 0.3704 - val_accuracy: 0.9241\n",
            "Epoch 60/1000\n",
            " 1/19 [>.............................] - ETA: 0s - loss: 0.5969 - accuracy: 0.7578\n",
            "Epoch 60: saving model to model/keypoint_classifier\\keypoint_classifier.hdf5\n",
            "19/19 [==============================] - 0s 5ms/step - loss: 0.6444 - accuracy: 0.7505 - val_loss: 0.3729 - val_accuracy: 0.9253\n",
            "Epoch 61/1000\n",
            " 1/19 [>.............................] - ETA: 0s - loss: 0.6034 - accuracy: 0.7969\n",
            "Epoch 61: saving model to model/keypoint_classifier\\keypoint_classifier.hdf5\n",
            "19/19 [==============================] - 0s 5ms/step - loss: 0.6177 - accuracy: 0.7615 - val_loss: 0.3598 - val_accuracy: 0.9316\n",
            "Epoch 62/1000\n",
            " 1/19 [>.............................] - ETA: 0s - loss: 0.7015 - accuracy: 0.7188\n",
            "Epoch 62: saving model to model/keypoint_classifier\\keypoint_classifier.hdf5\n",
            "19/19 [==============================] - 0s 5ms/step - loss: 0.6045 - accuracy: 0.7729 - val_loss: 0.3474 - val_accuracy: 0.9304\n",
            "Epoch 63/1000\n",
            " 1/19 [>.............................] - ETA: 0s - loss: 0.7250 - accuracy: 0.7109\n",
            "Epoch 63: saving model to model/keypoint_classifier\\keypoint_classifier.hdf5\n",
            "19/19 [==============================] - 0s 5ms/step - loss: 0.6284 - accuracy: 0.7594 - val_loss: 0.3478 - val_accuracy: 0.9291\n",
            "Epoch 64/1000\n",
            " 1/19 [>.............................] - ETA: 0s - loss: 0.5983 - accuracy: 0.7500\n",
            "Epoch 64: saving model to model/keypoint_classifier\\keypoint_classifier.hdf5\n",
            "19/19 [==============================] - 0s 5ms/step - loss: 0.6228 - accuracy: 0.7594 - val_loss: 0.3455 - val_accuracy: 0.9304\n",
            "Epoch 65/1000\n",
            " 1/19 [>.............................] - ETA: 0s - loss: 0.5427 - accuracy: 0.8047\n",
            "Epoch 65: saving model to model/keypoint_classifier\\keypoint_classifier.hdf5\n",
            "19/19 [==============================] - 0s 5ms/step - loss: 0.6223 - accuracy: 0.7564 - val_loss: 0.3434 - val_accuracy: 0.9430\n",
            "Epoch 66/1000\n",
            " 1/19 [>.............................] - ETA: 0s - loss: 0.6648 - accuracy: 0.7266\n",
            "Epoch 66: saving model to model/keypoint_classifier\\keypoint_classifier.hdf5\n",
            "19/19 [==============================] - 0s 5ms/step - loss: 0.6149 - accuracy: 0.7615 - val_loss: 0.3345 - val_accuracy: 0.9367\n",
            "Epoch 67/1000\n",
            " 1/19 [>.............................] - ETA: 0s - loss: 0.5374 - accuracy: 0.7891\n",
            "Epoch 67: saving model to model/keypoint_classifier\\keypoint_classifier.hdf5\n",
            "19/19 [==============================] - 0s 5ms/step - loss: 0.5821 - accuracy: 0.7788 - val_loss: 0.3327 - val_accuracy: 0.9342\n",
            "Epoch 68/1000\n",
            " 1/19 [>.............................] - ETA: 0s - loss: 0.6036 - accuracy: 0.7266\n",
            "Epoch 68: saving model to model/keypoint_classifier\\keypoint_classifier.hdf5\n",
            "19/19 [==============================] - 0s 5ms/step - loss: 0.6053 - accuracy: 0.7607 - val_loss: 0.3279 - val_accuracy: 0.9506\n",
            "Epoch 69/1000\n",
            " 1/19 [>.............................] - ETA: 0s - loss: 0.5581 - accuracy: 0.7734\n",
            "Epoch 69: saving model to model/keypoint_classifier\\keypoint_classifier.hdf5\n",
            "19/19 [==============================] - 0s 5ms/step - loss: 0.5937 - accuracy: 0.7687 - val_loss: 0.3235 - val_accuracy: 0.9557\n",
            "Epoch 70/1000\n",
            " 1/19 [>.............................] - ETA: 0s - loss: 0.5707 - accuracy: 0.7734\n",
            "Epoch 70: saving model to model/keypoint_classifier\\keypoint_classifier.hdf5\n",
            "19/19 [==============================] - 0s 5ms/step - loss: 0.5854 - accuracy: 0.7687 - val_loss: 0.3165 - val_accuracy: 0.9519\n",
            "Epoch 71/1000\n",
            " 1/19 [>.............................] - ETA: 0s - loss: 0.5544 - accuracy: 0.7891\n",
            "Epoch 71: saving model to model/keypoint_classifier\\keypoint_classifier.hdf5\n",
            "19/19 [==============================] - 0s 5ms/step - loss: 0.5729 - accuracy: 0.7860 - val_loss: 0.3190 - val_accuracy: 0.9595\n",
            "Epoch 72/1000\n",
            " 1/19 [>.............................] - ETA: 0s - loss: 0.5052 - accuracy: 0.8594\n",
            "Epoch 72: saving model to model/keypoint_classifier\\keypoint_classifier.hdf5\n",
            "19/19 [==============================] - 0s 5ms/step - loss: 0.5788 - accuracy: 0.7860 - val_loss: 0.3073 - val_accuracy: 0.9557\n",
            "Epoch 73/1000\n",
            " 1/19 [>.............................] - ETA: 0s - loss: 0.4918 - accuracy: 0.8203\n",
            "Epoch 73: saving model to model/keypoint_classifier\\keypoint_classifier.hdf5\n",
            "19/19 [==============================] - 0s 5ms/step - loss: 0.5764 - accuracy: 0.7784 - val_loss: 0.3034 - val_accuracy: 0.9646\n",
            "Epoch 74/1000\n",
            " 1/19 [>.............................] - ETA: 0s - loss: 0.5490 - accuracy: 0.7969\n",
            "Epoch 74: saving model to model/keypoint_classifier\\keypoint_classifier.hdf5\n",
            "19/19 [==============================] - 0s 5ms/step - loss: 0.5977 - accuracy: 0.7691 - val_loss: 0.3004 - val_accuracy: 0.9620\n",
            "Epoch 75/1000\n",
            " 1/19 [>.............................] - ETA: 0s - loss: 0.6329 - accuracy: 0.7266\n",
            "Epoch 75: saving model to model/keypoint_classifier\\keypoint_classifier.hdf5\n",
            "19/19 [==============================] - 0s 5ms/step - loss: 0.5856 - accuracy: 0.7737 - val_loss: 0.2997 - val_accuracy: 0.9633\n",
            "Epoch 76/1000\n",
            " 1/19 [>.............................] - ETA: 0s - loss: 0.6986 - accuracy: 0.7422\n",
            "Epoch 76: saving model to model/keypoint_classifier\\keypoint_classifier.hdf5\n",
            "19/19 [==============================] - 0s 5ms/step - loss: 0.5907 - accuracy: 0.7712 - val_loss: 0.3025 - val_accuracy: 0.9633\n",
            "Epoch 77/1000\n",
            " 1/19 [>.............................] - ETA: 0s - loss: 0.5618 - accuracy: 0.8047\n",
            "Epoch 77: saving model to model/keypoint_classifier\\keypoint_classifier.hdf5\n",
            "19/19 [==============================] - 0s 8ms/step - loss: 0.5708 - accuracy: 0.7788 - val_loss: 0.2948 - val_accuracy: 0.9658\n",
            "Epoch 78/1000\n",
            " 1/19 [>.............................] - ETA: 0s - loss: 0.4427 - accuracy: 0.8359\n",
            "Epoch 78: saving model to model/keypoint_classifier\\keypoint_classifier.hdf5\n",
            "19/19 [==============================] - 0s 7ms/step - loss: 0.5526 - accuracy: 0.7835 - val_loss: 0.2867 - val_accuracy: 0.9658\n",
            "Epoch 79/1000\n",
            " 1/19 [>.............................] - ETA: 0s - loss: 0.6076 - accuracy: 0.7812\n",
            "Epoch 79: saving model to model/keypoint_classifier\\keypoint_classifier.hdf5\n",
            "19/19 [==============================] - 0s 5ms/step - loss: 0.5503 - accuracy: 0.7856 - val_loss: 0.2863 - val_accuracy: 0.9671\n",
            "Epoch 80/1000\n",
            " 1/19 [>.............................] - ETA: 0s - loss: 0.6113 - accuracy: 0.7344\n",
            "Epoch 80: saving model to model/keypoint_classifier\\keypoint_classifier.hdf5\n",
            "19/19 [==============================] - 0s 8ms/step - loss: 0.5631 - accuracy: 0.7805 - val_loss: 0.2804 - val_accuracy: 0.9684\n",
            "Epoch 81/1000\n",
            " 1/19 [>.............................] - ETA: 0s - loss: 0.5156 - accuracy: 0.7969\n",
            "Epoch 81: saving model to model/keypoint_classifier\\keypoint_classifier.hdf5\n",
            "19/19 [==============================] - 0s 6ms/step - loss: 0.5605 - accuracy: 0.7771 - val_loss: 0.2818 - val_accuracy: 0.9684\n",
            "Epoch 82/1000\n",
            " 1/19 [>.............................] - ETA: 0s - loss: 0.4508 - accuracy: 0.8750\n",
            "Epoch 82: saving model to model/keypoint_classifier\\keypoint_classifier.hdf5\n",
            "19/19 [==============================] - 0s 7ms/step - loss: 0.5589 - accuracy: 0.7860 - val_loss: 0.2752 - val_accuracy: 0.9658\n",
            "Epoch 83/1000\n",
            " 1/19 [>.............................] - ETA: 0s - loss: 0.4641 - accuracy: 0.8438\n",
            "Epoch 83: saving model to model/keypoint_classifier\\keypoint_classifier.hdf5\n",
            "19/19 [==============================] - 0s 6ms/step - loss: 0.5316 - accuracy: 0.7978 - val_loss: 0.2706 - val_accuracy: 0.9646\n",
            "Epoch 84/1000\n",
            " 1/19 [>.............................] - ETA: 0s - loss: 0.6481 - accuracy: 0.7266\n",
            "Epoch 84: saving model to model/keypoint_classifier\\keypoint_classifier.hdf5\n",
            "19/19 [==============================] - 0s 5ms/step - loss: 0.5579 - accuracy: 0.7873 - val_loss: 0.2737 - val_accuracy: 0.9696\n",
            "Epoch 85/1000\n",
            " 1/19 [>.............................] - ETA: 0s - loss: 0.4505 - accuracy: 0.8047\n",
            "Epoch 85: saving model to model/keypoint_classifier\\keypoint_classifier.hdf5\n",
            "19/19 [==============================] - 0s 5ms/step - loss: 0.5628 - accuracy: 0.7780 - val_loss: 0.2709 - val_accuracy: 0.9696\n",
            "Epoch 86/1000\n",
            " 1/19 [>.............................] - ETA: 0s - loss: 0.5672 - accuracy: 0.7734\n",
            "Epoch 86: saving model to model/keypoint_classifier\\keypoint_classifier.hdf5\n",
            "19/19 [==============================] - 0s 5ms/step - loss: 0.5469 - accuracy: 0.7839 - val_loss: 0.2734 - val_accuracy: 0.9671\n",
            "Epoch 87/1000\n",
            " 1/19 [>.............................] - ETA: 0s - loss: 0.5022 - accuracy: 0.7969\n",
            "Epoch 87: saving model to model/keypoint_classifier\\keypoint_classifier.hdf5\n",
            "19/19 [==============================] - 0s 5ms/step - loss: 0.5189 - accuracy: 0.8096 - val_loss: 0.2620 - val_accuracy: 0.9671\n",
            "Epoch 88/1000\n",
            " 1/19 [>.............................] - ETA: 0s - loss: 0.4697 - accuracy: 0.7812\n",
            "Epoch 88: saving model to model/keypoint_classifier\\keypoint_classifier.hdf5\n",
            "19/19 [==============================] - 0s 5ms/step - loss: 0.5487 - accuracy: 0.7767 - val_loss: 0.2596 - val_accuracy: 0.9684\n",
            "Epoch 89/1000\n",
            " 1/19 [>.............................] - ETA: 0s - loss: 0.5824 - accuracy: 0.7969\n",
            "Epoch 89: saving model to model/keypoint_classifier\\keypoint_classifier.hdf5\n",
            "19/19 [==============================] - 0s 5ms/step - loss: 0.5500 - accuracy: 0.7957 - val_loss: 0.2610 - val_accuracy: 0.9696\n",
            "Epoch 90/1000\n",
            " 1/19 [>.............................] - ETA: 0s - loss: 0.6356 - accuracy: 0.7891\n",
            "Epoch 90: saving model to model/keypoint_classifier\\keypoint_classifier.hdf5\n",
            "19/19 [==============================] - 0s 6ms/step - loss: 0.5497 - accuracy: 0.7927 - val_loss: 0.2578 - val_accuracy: 0.9696\n",
            "Epoch 91/1000\n",
            " 1/19 [>.............................] - ETA: 0s - loss: 0.6117 - accuracy: 0.7734\n",
            "Epoch 91: saving model to model/keypoint_classifier\\keypoint_classifier.hdf5\n",
            "19/19 [==============================] - 0s 6ms/step - loss: 0.5417 - accuracy: 0.7953 - val_loss: 0.2542 - val_accuracy: 0.9696\n",
            "Epoch 92/1000\n",
            " 1/19 [>.............................] - ETA: 0s - loss: 0.6092 - accuracy: 0.8281\n",
            "Epoch 92: saving model to model/keypoint_classifier\\keypoint_classifier.hdf5\n",
            "19/19 [==============================] - 0s 5ms/step - loss: 0.5249 - accuracy: 0.8008 - val_loss: 0.2503 - val_accuracy: 0.9709\n",
            "Epoch 93/1000\n",
            " 1/19 [>.............................] - ETA: 0s - loss: 0.5938 - accuracy: 0.7812\n",
            "Epoch 93: saving model to model/keypoint_classifier\\keypoint_classifier.hdf5\n",
            "19/19 [==============================] - 0s 6ms/step - loss: 0.5119 - accuracy: 0.8046 - val_loss: 0.2449 - val_accuracy: 0.9696\n",
            "Epoch 94/1000\n",
            " 1/19 [>.............................] - ETA: 0s - loss: 0.6039 - accuracy: 0.7578\n",
            "Epoch 94: saving model to model/keypoint_classifier\\keypoint_classifier.hdf5\n",
            "19/19 [==============================] - 0s 5ms/step - loss: 0.5168 - accuracy: 0.8088 - val_loss: 0.2466 - val_accuracy: 0.9696\n",
            "Epoch 95/1000\n",
            " 1/19 [>.............................] - ETA: 0s - loss: 0.4865 - accuracy: 0.8359\n",
            "Epoch 95: saving model to model/keypoint_classifier\\keypoint_classifier.hdf5\n",
            "19/19 [==============================] - 0s 5ms/step - loss: 0.5233 - accuracy: 0.8075 - val_loss: 0.2417 - val_accuracy: 0.9671\n",
            "Epoch 96/1000\n",
            " 1/19 [>.............................] - ETA: 0s - loss: 0.6731 - accuracy: 0.7266\n",
            "Epoch 96: saving model to model/keypoint_classifier\\keypoint_classifier.hdf5\n",
            "19/19 [==============================] - 0s 5ms/step - loss: 0.5254 - accuracy: 0.7986 - val_loss: 0.2482 - val_accuracy: 0.9671\n",
            "Epoch 97/1000\n",
            " 1/19 [>.............................] - ETA: 0s - loss: 0.4263 - accuracy: 0.8359\n",
            "Epoch 97: saving model to model/keypoint_classifier\\keypoint_classifier.hdf5\n",
            "19/19 [==============================] - 0s 5ms/step - loss: 0.5106 - accuracy: 0.8071 - val_loss: 0.2483 - val_accuracy: 0.9671\n",
            "Epoch 98/1000\n",
            " 1/19 [>.............................] - ETA: 0s - loss: 0.3999 - accuracy: 0.8438\n",
            "Epoch 98: saving model to model/keypoint_classifier\\keypoint_classifier.hdf5\n",
            "19/19 [==============================] - 0s 5ms/step - loss: 0.5291 - accuracy: 0.7915 - val_loss: 0.2432 - val_accuracy: 0.9684\n",
            "Epoch 99/1000\n",
            " 1/19 [>.............................] - ETA: 0s - loss: 0.4399 - accuracy: 0.8672\n",
            "Epoch 99: saving model to model/keypoint_classifier\\keypoint_classifier.hdf5\n",
            "19/19 [==============================] - 0s 5ms/step - loss: 0.5143 - accuracy: 0.8062 - val_loss: 0.2433 - val_accuracy: 0.9684\n",
            "Epoch 100/1000\n",
            " 1/19 [>.............................] - ETA: 0s - loss: 0.4548 - accuracy: 0.8516\n",
            "Epoch 100: saving model to model/keypoint_classifier\\keypoint_classifier.hdf5\n",
            "19/19 [==============================] - 0s 5ms/step - loss: 0.5096 - accuracy: 0.8050 - val_loss: 0.2389 - val_accuracy: 0.9696\n",
            "Epoch 101/1000\n",
            " 1/19 [>.............................] - ETA: 0s - loss: 0.5515 - accuracy: 0.7969\n",
            "Epoch 101: saving model to model/keypoint_classifier\\keypoint_classifier.hdf5\n",
            "19/19 [==============================] - 0s 5ms/step - loss: 0.5192 - accuracy: 0.8016 - val_loss: 0.2426 - val_accuracy: 0.9696\n",
            "Epoch 102/1000\n",
            " 1/19 [>.............................] - ETA: 0s - loss: 0.4892 - accuracy: 0.8281\n",
            "Epoch 102: saving model to model/keypoint_classifier\\keypoint_classifier.hdf5\n",
            "19/19 [==============================] - 0s 5ms/step - loss: 0.5063 - accuracy: 0.8041 - val_loss: 0.2374 - val_accuracy: 0.9684\n",
            "Epoch 103/1000\n",
            " 1/19 [>.............................] - ETA: 0s - loss: 0.5771 - accuracy: 0.7734\n",
            "Epoch 103: saving model to model/keypoint_classifier\\keypoint_classifier.hdf5\n",
            "19/19 [==============================] - 0s 5ms/step - loss: 0.5189 - accuracy: 0.8037 - val_loss: 0.2368 - val_accuracy: 0.9684\n",
            "Epoch 104/1000\n",
            " 1/19 [>.............................] - ETA: 0s - loss: 0.5874 - accuracy: 0.7266\n",
            "Epoch 104: saving model to model/keypoint_classifier\\keypoint_classifier.hdf5\n",
            "19/19 [==============================] - 0s 5ms/step - loss: 0.5232 - accuracy: 0.7932 - val_loss: 0.2389 - val_accuracy: 0.9709\n",
            "Epoch 105/1000\n",
            " 1/19 [>.............................] - ETA: 0s - loss: 0.4745 - accuracy: 0.8125\n",
            "Epoch 105: saving model to model/keypoint_classifier\\keypoint_classifier.hdf5\n",
            "19/19 [==============================] - 0s 5ms/step - loss: 0.5062 - accuracy: 0.8096 - val_loss: 0.2382 - val_accuracy: 0.9696\n",
            "Epoch 106/1000\n",
            " 1/19 [>.............................] - ETA: 0s - loss: 0.5259 - accuracy: 0.7891\n",
            "Epoch 106: saving model to model/keypoint_classifier\\keypoint_classifier.hdf5\n",
            "19/19 [==============================] - 0s 5ms/step - loss: 0.5039 - accuracy: 0.8016 - val_loss: 0.2328 - val_accuracy: 0.9696\n",
            "Epoch 107/1000\n",
            " 1/19 [>.............................] - ETA: 0s - loss: 0.5394 - accuracy: 0.8047\n",
            "Epoch 107: saving model to model/keypoint_classifier\\keypoint_classifier.hdf5\n",
            "19/19 [==============================] - 0s 5ms/step - loss: 0.5096 - accuracy: 0.8100 - val_loss: 0.2302 - val_accuracy: 0.9671\n",
            "Epoch 108/1000\n",
            " 1/19 [>.............................] - ETA: 0s - loss: 0.5143 - accuracy: 0.7656\n",
            "Epoch 108: saving model to model/keypoint_classifier\\keypoint_classifier.hdf5\n",
            "19/19 [==============================] - 0s 5ms/step - loss: 0.5205 - accuracy: 0.8050 - val_loss: 0.2251 - val_accuracy: 0.9696\n",
            "Epoch 109/1000\n",
            " 1/19 [>.............................] - ETA: 0s - loss: 0.4356 - accuracy: 0.8516\n",
            "Epoch 109: saving model to model/keypoint_classifier\\keypoint_classifier.hdf5\n",
            "19/19 [==============================] - 0s 5ms/step - loss: 0.5062 - accuracy: 0.8050 - val_loss: 0.2255 - val_accuracy: 0.9709\n",
            "Epoch 110/1000\n",
            " 1/19 [>.............................] - ETA: 0s - loss: 0.5498 - accuracy: 0.7734\n",
            "Epoch 110: saving model to model/keypoint_classifier\\keypoint_classifier.hdf5\n",
            "19/19 [==============================] - 0s 5ms/step - loss: 0.5288 - accuracy: 0.7915 - val_loss: 0.2273 - val_accuracy: 0.9696\n",
            "Epoch 111/1000\n",
            " 1/19 [>.............................] - ETA: 0s - loss: 0.4976 - accuracy: 0.7812\n",
            "Epoch 111: saving model to model/keypoint_classifier\\keypoint_classifier.hdf5\n",
            "19/19 [==============================] - 0s 5ms/step - loss: 0.5038 - accuracy: 0.8054 - val_loss: 0.2262 - val_accuracy: 0.9696\n",
            "Epoch 112/1000\n",
            " 1/19 [>.............................] - ETA: 0s - loss: 0.5250 - accuracy: 0.8125\n",
            "Epoch 112: saving model to model/keypoint_classifier\\keypoint_classifier.hdf5\n",
            "19/19 [==============================] - 0s 5ms/step - loss: 0.4852 - accuracy: 0.8252 - val_loss: 0.2244 - val_accuracy: 0.9671\n",
            "Epoch 113/1000\n",
            " 1/19 [>.............................] - ETA: 0s - loss: 0.4782 - accuracy: 0.7891\n",
            "Epoch 113: saving model to model/keypoint_classifier\\keypoint_classifier.hdf5\n",
            "19/19 [==============================] - 0s 5ms/step - loss: 0.4912 - accuracy: 0.8037 - val_loss: 0.2226 - val_accuracy: 0.9671\n",
            "Epoch 114/1000\n",
            " 1/19 [>.............................] - ETA: 0s - loss: 0.5111 - accuracy: 0.8203\n",
            "Epoch 114: saving model to model/keypoint_classifier\\keypoint_classifier.hdf5\n",
            "19/19 [==============================] - 0s 5ms/step - loss: 0.5020 - accuracy: 0.8172 - val_loss: 0.2244 - val_accuracy: 0.9709\n",
            "Epoch 115/1000\n",
            " 1/19 [>.............................] - ETA: 0s - loss: 0.4860 - accuracy: 0.8047\n",
            "Epoch 115: saving model to model/keypoint_classifier\\keypoint_classifier.hdf5\n",
            "19/19 [==============================] - 0s 5ms/step - loss: 0.4775 - accuracy: 0.8143 - val_loss: 0.2183 - val_accuracy: 0.9696\n",
            "Epoch 116/1000\n",
            " 1/19 [>.............................] - ETA: 0s - loss: 0.4638 - accuracy: 0.8516\n",
            "Epoch 116: saving model to model/keypoint_classifier\\keypoint_classifier.hdf5\n",
            "19/19 [==============================] - 0s 5ms/step - loss: 0.4836 - accuracy: 0.8198 - val_loss: 0.2110 - val_accuracy: 0.9696\n",
            "Epoch 117/1000\n",
            " 1/19 [>.............................] - ETA: 0s - loss: 0.4595 - accuracy: 0.8047\n",
            "Epoch 117: saving model to model/keypoint_classifier\\keypoint_classifier.hdf5\n",
            "19/19 [==============================] - 0s 6ms/step - loss: 0.4908 - accuracy: 0.8193 - val_loss: 0.2158 - val_accuracy: 0.9684\n",
            "Epoch 118/1000\n",
            " 1/19 [>.............................] - ETA: 0s - loss: 0.3405 - accuracy: 0.8516\n",
            "Epoch 118: saving model to model/keypoint_classifier\\keypoint_classifier.hdf5\n",
            "19/19 [==============================] - 0s 5ms/step - loss: 0.4871 - accuracy: 0.8058 - val_loss: 0.2201 - val_accuracy: 0.9684\n",
            "Epoch 119/1000\n",
            " 1/19 [>.............................] - ETA: 0s - loss: 0.4901 - accuracy: 0.8125\n",
            "Epoch 119: saving model to model/keypoint_classifier\\keypoint_classifier.hdf5\n",
            "19/19 [==============================] - 0s 5ms/step - loss: 0.4530 - accuracy: 0.8269 - val_loss: 0.2111 - val_accuracy: 0.9671\n",
            "Epoch 120/1000\n",
            " 1/19 [>.............................] - ETA: 0s - loss: 0.5349 - accuracy: 0.7578\n",
            "Epoch 120: saving model to model/keypoint_classifier\\keypoint_classifier.hdf5\n",
            "19/19 [==============================] - 0s 5ms/step - loss: 0.5025 - accuracy: 0.8092 - val_loss: 0.2140 - val_accuracy: 0.9671\n",
            "Epoch 121/1000\n",
            " 1/19 [>.............................] - ETA: 0s - loss: 0.4368 - accuracy: 0.8203\n",
            "Epoch 121: saving model to model/keypoint_classifier\\keypoint_classifier.hdf5\n",
            "19/19 [==============================] - 0s 5ms/step - loss: 0.4737 - accuracy: 0.8126 - val_loss: 0.2101 - val_accuracy: 0.9684\n",
            "Epoch 122/1000\n",
            " 1/19 [>.............................] - ETA: 0s - loss: 0.5359 - accuracy: 0.7812\n",
            "Epoch 122: saving model to model/keypoint_classifier\\keypoint_classifier.hdf5\n",
            "19/19 [==============================] - 0s 5ms/step - loss: 0.4716 - accuracy: 0.8143 - val_loss: 0.2117 - val_accuracy: 0.9671\n",
            "Epoch 123/1000\n",
            " 1/19 [>.............................] - ETA: 0s - loss: 0.4526 - accuracy: 0.8281\n",
            "Epoch 123: saving model to model/keypoint_classifier\\keypoint_classifier.hdf5\n",
            "19/19 [==============================] - 0s 5ms/step - loss: 0.4787 - accuracy: 0.8168 - val_loss: 0.2147 - val_accuracy: 0.9671\n",
            "Epoch 124/1000\n",
            " 1/19 [>.............................] - ETA: 0s - loss: 0.5804 - accuracy: 0.7812\n",
            "Epoch 124: saving model to model/keypoint_classifier\\keypoint_classifier.hdf5\n",
            "19/19 [==============================] - 0s 5ms/step - loss: 0.4789 - accuracy: 0.8193 - val_loss: 0.2136 - val_accuracy: 0.9684\n",
            "Epoch 125/1000\n",
            " 1/19 [>.............................] - ETA: 0s - loss: 0.4048 - accuracy: 0.8203\n",
            "Epoch 125: saving model to model/keypoint_classifier\\keypoint_classifier.hdf5\n",
            "19/19 [==============================] - 0s 5ms/step - loss: 0.4776 - accuracy: 0.8164 - val_loss: 0.2084 - val_accuracy: 0.9696\n",
            "Epoch 126/1000\n",
            " 1/19 [>.............................] - ETA: 0s - loss: 0.5082 - accuracy: 0.8125\n",
            "Epoch 126: saving model to model/keypoint_classifier\\keypoint_classifier.hdf5\n",
            "19/19 [==============================] - 0s 5ms/step - loss: 0.4921 - accuracy: 0.8117 - val_loss: 0.2081 - val_accuracy: 0.9696\n",
            "Epoch 127/1000\n",
            " 1/19 [>.............................] - ETA: 0s - loss: 0.6594 - accuracy: 0.7578\n",
            "Epoch 127: saving model to model/keypoint_classifier\\keypoint_classifier.hdf5\n",
            "19/19 [==============================] - 0s 5ms/step - loss: 0.4718 - accuracy: 0.8236 - val_loss: 0.2055 - val_accuracy: 0.9709\n",
            "Epoch 128/1000\n",
            " 1/19 [>.............................] - ETA: 0s - loss: 0.4900 - accuracy: 0.7891\n",
            "Epoch 128: saving model to model/keypoint_classifier\\keypoint_classifier.hdf5\n",
            "19/19 [==============================] - 0s 5ms/step - loss: 0.4692 - accuracy: 0.8189 - val_loss: 0.2039 - val_accuracy: 0.9696\n",
            "Epoch 129/1000\n",
            " 1/19 [>.............................] - ETA: 0s - loss: 0.4675 - accuracy: 0.8203\n",
            "Epoch 129: saving model to model/keypoint_classifier\\keypoint_classifier.hdf5\n",
            "19/19 [==============================] - 0s 5ms/step - loss: 0.4944 - accuracy: 0.8138 - val_loss: 0.2076 - val_accuracy: 0.9696\n",
            "Epoch 130/1000\n",
            "13/19 [===================>..........] - ETA: 0s - loss: 0.4877 - accuracy: 0.8203\n",
            "Epoch 130: saving model to model/keypoint_classifier\\keypoint_classifier.hdf5\n",
            "19/19 [==============================] - 0s 9ms/step - loss: 0.4834 - accuracy: 0.8223 - val_loss: 0.2072 - val_accuracy: 0.9696\n",
            "Epoch 131/1000\n",
            " 1/19 [>.............................] - ETA: 0s - loss: 0.4580 - accuracy: 0.8359\n",
            "Epoch 131: saving model to model/keypoint_classifier\\keypoint_classifier.hdf5\n",
            "19/19 [==============================] - 0s 6ms/step - loss: 0.4807 - accuracy: 0.8164 - val_loss: 0.2047 - val_accuracy: 0.9684\n",
            "Epoch 132/1000\n",
            " 1/19 [>.............................] - ETA: 0s - loss: 0.4122 - accuracy: 0.8594\n",
            "Epoch 132: saving model to model/keypoint_classifier\\keypoint_classifier.hdf5\n",
            "19/19 [==============================] - 0s 6ms/step - loss: 0.4753 - accuracy: 0.8227 - val_loss: 0.2037 - val_accuracy: 0.9684\n",
            "Epoch 133/1000\n",
            " 1/19 [>.............................] - ETA: 0s - loss: 0.4679 - accuracy: 0.8047\n",
            "Epoch 133: saving model to model/keypoint_classifier\\keypoint_classifier.hdf5\n",
            "19/19 [==============================] - 0s 6ms/step - loss: 0.4783 - accuracy: 0.8176 - val_loss: 0.2062 - val_accuracy: 0.9658\n",
            "Epoch 134/1000\n",
            " 1/19 [>.............................] - ETA: 0s - loss: 0.3706 - accuracy: 0.8906\n",
            "Epoch 134: saving model to model/keypoint_classifier\\keypoint_classifier.hdf5\n",
            "19/19 [==============================] - 0s 5ms/step - loss: 0.4810 - accuracy: 0.8155 - val_loss: 0.2065 - val_accuracy: 0.9671\n",
            "Epoch 135/1000\n",
            " 1/19 [>.............................] - ETA: 0s - loss: 0.4603 - accuracy: 0.8281\n",
            "Epoch 135: saving model to model/keypoint_classifier\\keypoint_classifier.hdf5\n",
            "19/19 [==============================] - 0s 6ms/step - loss: 0.4711 - accuracy: 0.8265 - val_loss: 0.2060 - val_accuracy: 0.9671\n",
            "Epoch 136/1000\n",
            " 1/19 [>.............................] - ETA: 0s - loss: 0.4866 - accuracy: 0.8281\n",
            "Epoch 136: saving model to model/keypoint_classifier\\keypoint_classifier.hdf5\n",
            "19/19 [==============================] - 0s 6ms/step - loss: 0.4832 - accuracy: 0.8147 - val_loss: 0.2059 - val_accuracy: 0.9671\n",
            "Epoch 137/1000\n",
            " 1/19 [>.............................] - ETA: 0s - loss: 0.4222 - accuracy: 0.8438\n",
            "Epoch 137: saving model to model/keypoint_classifier\\keypoint_classifier.hdf5\n",
            "19/19 [==============================] - 0s 5ms/step - loss: 0.4712 - accuracy: 0.8223 - val_loss: 0.2021 - val_accuracy: 0.9696\n",
            "Epoch 138/1000\n",
            " 1/19 [>.............................] - ETA: 0s - loss: 0.6586 - accuracy: 0.7578\n",
            "Epoch 138: saving model to model/keypoint_classifier\\keypoint_classifier.hdf5\n",
            "19/19 [==============================] - 0s 5ms/step - loss: 0.4873 - accuracy: 0.8176 - val_loss: 0.1977 - val_accuracy: 0.9709\n",
            "Epoch 139/1000\n",
            " 1/19 [>.............................] - ETA: 0s - loss: 0.5616 - accuracy: 0.8125\n",
            "Epoch 139: saving model to model/keypoint_classifier\\keypoint_classifier.hdf5\n",
            "19/19 [==============================] - 0s 5ms/step - loss: 0.4594 - accuracy: 0.8265 - val_loss: 0.1979 - val_accuracy: 0.9734\n",
            "Epoch 140/1000\n",
            " 1/19 [>.............................] - ETA: 0s - loss: 0.3885 - accuracy: 0.8516\n",
            "Epoch 140: saving model to model/keypoint_classifier\\keypoint_classifier.hdf5\n",
            "19/19 [==============================] - 0s 5ms/step - loss: 0.4680 - accuracy: 0.8214 - val_loss: 0.1985 - val_accuracy: 0.9734\n",
            "Epoch 141/1000\n",
            " 1/19 [>.............................] - ETA: 0s - loss: 0.4555 - accuracy: 0.8125\n",
            "Epoch 141: saving model to model/keypoint_classifier\\keypoint_classifier.hdf5\n",
            "19/19 [==============================] - 0s 5ms/step - loss: 0.4833 - accuracy: 0.8113 - val_loss: 0.2032 - val_accuracy: 0.9709\n",
            "Epoch 142/1000\n",
            " 1/19 [>.............................] - ETA: 0s - loss: 0.4041 - accuracy: 0.8438\n",
            "Epoch 142: saving model to model/keypoint_classifier\\keypoint_classifier.hdf5\n",
            "19/19 [==============================] - 0s 5ms/step - loss: 0.4546 - accuracy: 0.8295 - val_loss: 0.2023 - val_accuracy: 0.9722\n",
            "Epoch 143/1000\n",
            " 1/19 [>.............................] - ETA: 0s - loss: 0.3959 - accuracy: 0.8359\n",
            "Epoch 143: saving model to model/keypoint_classifier\\keypoint_classifier.hdf5\n",
            "19/19 [==============================] - 0s 5ms/step - loss: 0.4701 - accuracy: 0.8210 - val_loss: 0.1975 - val_accuracy: 0.9734\n",
            "Epoch 144/1000\n",
            " 1/19 [>.............................] - ETA: 0s - loss: 0.4818 - accuracy: 0.8125\n",
            "Epoch 144: saving model to model/keypoint_classifier\\keypoint_classifier.hdf5\n",
            "19/19 [==============================] - 0s 5ms/step - loss: 0.4618 - accuracy: 0.8269 - val_loss: 0.1946 - val_accuracy: 0.9734\n",
            "Epoch 145/1000\n",
            " 1/19 [>.............................] - ETA: 0s - loss: 0.3526 - accuracy: 0.8906\n",
            "Epoch 145: saving model to model/keypoint_classifier\\keypoint_classifier.hdf5\n",
            "19/19 [==============================] - 0s 5ms/step - loss: 0.4690 - accuracy: 0.8164 - val_loss: 0.1957 - val_accuracy: 0.9734\n",
            "Epoch 146/1000\n",
            " 1/19 [>.............................] - ETA: 0s - loss: 0.4765 - accuracy: 0.8281\n",
            "Epoch 146: saving model to model/keypoint_classifier\\keypoint_classifier.hdf5\n",
            "19/19 [==============================] - 0s 5ms/step - loss: 0.4518 - accuracy: 0.8240 - val_loss: 0.1948 - val_accuracy: 0.9722\n",
            "Epoch 147/1000\n",
            " 1/19 [>.............................] - ETA: 0s - loss: 0.5563 - accuracy: 0.7500\n",
            "Epoch 147: saving model to model/keypoint_classifier\\keypoint_classifier.hdf5\n",
            "19/19 [==============================] - 0s 5ms/step - loss: 0.4620 - accuracy: 0.8282 - val_loss: 0.1885 - val_accuracy: 0.9684\n",
            "Epoch 148/1000\n",
            " 1/19 [>.............................] - ETA: 0s - loss: 0.3762 - accuracy: 0.8672\n",
            "Epoch 148: saving model to model/keypoint_classifier\\keypoint_classifier.hdf5\n",
            "19/19 [==============================] - 0s 5ms/step - loss: 0.4544 - accuracy: 0.8295 - val_loss: 0.1862 - val_accuracy: 0.9722\n",
            "Epoch 149/1000\n",
            " 1/19 [>.............................] - ETA: 0s - loss: 0.4735 - accuracy: 0.8359\n",
            "Epoch 149: saving model to model/keypoint_classifier\\keypoint_classifier.hdf5\n",
            "19/19 [==============================] - 0s 6ms/step - loss: 0.4586 - accuracy: 0.8282 - val_loss: 0.1852 - val_accuracy: 0.9722\n",
            "Epoch 150/1000\n",
            " 1/19 [>.............................] - ETA: 0s - loss: 0.5299 - accuracy: 0.8594\n",
            "Epoch 150: saving model to model/keypoint_classifier\\keypoint_classifier.hdf5\n",
            "19/19 [==============================] - 0s 5ms/step - loss: 0.4625 - accuracy: 0.8227 - val_loss: 0.1868 - val_accuracy: 0.9734\n",
            "Epoch 151/1000\n",
            " 1/19 [>.............................] - ETA: 0s - loss: 0.4341 - accuracy: 0.8438\n",
            "Epoch 151: saving model to model/keypoint_classifier\\keypoint_classifier.hdf5\n",
            "19/19 [==============================] - 0s 5ms/step - loss: 0.4452 - accuracy: 0.8303 - val_loss: 0.1853 - val_accuracy: 0.9747\n",
            "Epoch 152/1000\n",
            " 1/19 [>.............................] - ETA: 0s - loss: 0.3792 - accuracy: 0.8672\n",
            "Epoch 152: saving model to model/keypoint_classifier\\keypoint_classifier.hdf5\n",
            "19/19 [==============================] - 0s 5ms/step - loss: 0.4608 - accuracy: 0.8227 - val_loss: 0.1884 - val_accuracy: 0.9734\n",
            "Epoch 153/1000\n",
            " 1/19 [>.............................] - ETA: 0s - loss: 0.4437 - accuracy: 0.8359\n",
            "Epoch 153: saving model to model/keypoint_classifier\\keypoint_classifier.hdf5\n",
            "19/19 [==============================] - 0s 5ms/step - loss: 0.4659 - accuracy: 0.8214 - val_loss: 0.1969 - val_accuracy: 0.9709\n",
            "Epoch 154/1000\n",
            " 1/19 [>.............................] - ETA: 0s - loss: 0.4778 - accuracy: 0.8203\n",
            "Epoch 154: saving model to model/keypoint_classifier\\keypoint_classifier.hdf5\n",
            "19/19 [==============================] - 0s 5ms/step - loss: 0.4545 - accuracy: 0.8358 - val_loss: 0.1940 - val_accuracy: 0.9722\n",
            "Epoch 155/1000\n",
            " 1/19 [>.............................] - ETA: 0s - loss: 0.4254 - accuracy: 0.8516\n",
            "Epoch 155: saving model to model/keypoint_classifier\\keypoint_classifier.hdf5\n",
            "19/19 [==============================] - 0s 5ms/step - loss: 0.4571 - accuracy: 0.8244 - val_loss: 0.1857 - val_accuracy: 0.9734\n",
            "Epoch 156/1000\n",
            " 1/19 [>.............................] - ETA: 0s - loss: 0.4516 - accuracy: 0.8438\n",
            "Epoch 156: saving model to model/keypoint_classifier\\keypoint_classifier.hdf5\n",
            "19/19 [==============================] - 0s 6ms/step - loss: 0.4818 - accuracy: 0.8244 - val_loss: 0.1827 - val_accuracy: 0.9734\n",
            "Epoch 157/1000\n",
            " 1/19 [>.............................] - ETA: 0s - loss: 0.4443 - accuracy: 0.8359\n",
            "Epoch 157: saving model to model/keypoint_classifier\\keypoint_classifier.hdf5\n",
            "19/19 [==============================] - 0s 5ms/step - loss: 0.4576 - accuracy: 0.8240 - val_loss: 0.1830 - val_accuracy: 0.9747\n",
            "Epoch 158/1000\n",
            " 1/19 [>.............................] - ETA: 0s - loss: 0.3628 - accuracy: 0.8594\n",
            "Epoch 158: saving model to model/keypoint_classifier\\keypoint_classifier.hdf5\n",
            "19/19 [==============================] - 0s 5ms/step - loss: 0.4427 - accuracy: 0.8231 - val_loss: 0.1832 - val_accuracy: 0.9747\n",
            "Epoch 159/1000\n",
            " 1/19 [>.............................] - ETA: 0s - loss: 0.3543 - accuracy: 0.9062\n",
            "Epoch 159: saving model to model/keypoint_classifier\\keypoint_classifier.hdf5\n",
            "19/19 [==============================] - 0s 6ms/step - loss: 0.4651 - accuracy: 0.8282 - val_loss: 0.1890 - val_accuracy: 0.9722\n",
            "Epoch 160/1000\n",
            " 1/19 [>.............................] - ETA: 0s - loss: 0.4996 - accuracy: 0.8125\n",
            "Epoch 160: saving model to model/keypoint_classifier\\keypoint_classifier.hdf5\n",
            "19/19 [==============================] - 0s 5ms/step - loss: 0.4361 - accuracy: 0.8299 - val_loss: 0.1949 - val_accuracy: 0.9709\n",
            "Epoch 161/1000\n",
            " 1/19 [>.............................] - ETA: 0s - loss: 0.4796 - accuracy: 0.8125\n",
            "Epoch 161: saving model to model/keypoint_classifier\\keypoint_classifier.hdf5\n",
            "19/19 [==============================] - 0s 5ms/step - loss: 0.4713 - accuracy: 0.8189 - val_loss: 0.1890 - val_accuracy: 0.9709\n",
            "Epoch 162/1000\n",
            " 1/19 [>.............................] - ETA: 0s - loss: 0.3728 - accuracy: 0.8906\n",
            "Epoch 162: saving model to model/keypoint_classifier\\keypoint_classifier.hdf5\n",
            "19/19 [==============================] - 0s 5ms/step - loss: 0.4337 - accuracy: 0.8396 - val_loss: 0.1842 - val_accuracy: 0.9747\n",
            "Epoch 163/1000\n",
            " 1/19 [>.............................] - ETA: 0s - loss: 0.3838 - accuracy: 0.8984\n",
            "Epoch 163: saving model to model/keypoint_classifier\\keypoint_classifier.hdf5\n",
            "19/19 [==============================] - 0s 5ms/step - loss: 0.4365 - accuracy: 0.8345 - val_loss: 0.1684 - val_accuracy: 0.9734\n",
            "Epoch 164/1000\n",
            "11/19 [================>.............] - ETA: 0s - loss: 0.4173 - accuracy: 0.8395\n",
            "Epoch 164: saving model to model/keypoint_classifier\\keypoint_classifier.hdf5\n",
            "19/19 [==============================] - 0s 8ms/step - loss: 0.4368 - accuracy: 0.8320 - val_loss: 0.1805 - val_accuracy: 0.9722\n",
            "Epoch 165/1000\n",
            " 1/19 [>.............................] - ETA: 0s - loss: 0.4796 - accuracy: 0.7891\n",
            "Epoch 165: saving model to model/keypoint_classifier\\keypoint_classifier.hdf5\n",
            "19/19 [==============================] - 0s 5ms/step - loss: 0.4044 - accuracy: 0.8455 - val_loss: 0.1719 - val_accuracy: 0.9747\n",
            "Epoch 166/1000\n",
            " 1/19 [>.............................] - ETA: 0s - loss: 0.2984 - accuracy: 0.9219\n",
            "Epoch 166: saving model to model/keypoint_classifier\\keypoint_classifier.hdf5\n",
            "19/19 [==============================] - 0s 5ms/step - loss: 0.4516 - accuracy: 0.8244 - val_loss: 0.1746 - val_accuracy: 0.9734\n",
            "Epoch 167/1000\n",
            " 1/19 [>.............................] - ETA: 0s - loss: 0.4994 - accuracy: 0.8281\n",
            "Epoch 167: saving model to model/keypoint_classifier\\keypoint_classifier.hdf5\n",
            "19/19 [==============================] - 0s 5ms/step - loss: 0.4388 - accuracy: 0.8320 - val_loss: 0.1839 - val_accuracy: 0.9734\n",
            "Epoch 168/1000\n",
            " 1/19 [>.............................] - ETA: 0s - loss: 0.4221 - accuracy: 0.8203\n",
            "Epoch 168: saving model to model/keypoint_classifier\\keypoint_classifier.hdf5\n",
            "19/19 [==============================] - 0s 5ms/step - loss: 0.4610 - accuracy: 0.8219 - val_loss: 0.1806 - val_accuracy: 0.9734\n",
            "Epoch 169/1000\n",
            " 1/19 [>.............................] - ETA: 0s - loss: 0.5253 - accuracy: 0.8281\n",
            "Epoch 169: saving model to model/keypoint_classifier\\keypoint_classifier.hdf5\n",
            "19/19 [==============================] - 0s 5ms/step - loss: 0.4437 - accuracy: 0.8282 - val_loss: 0.1842 - val_accuracy: 0.9747\n",
            "Epoch 170/1000\n",
            " 1/19 [>.............................] - ETA: 0s - loss: 0.3987 - accuracy: 0.8594\n",
            "Epoch 170: saving model to model/keypoint_classifier\\keypoint_classifier.hdf5\n",
            "19/19 [==============================] - 0s 5ms/step - loss: 0.4724 - accuracy: 0.8248 - val_loss: 0.1831 - val_accuracy: 0.9747\n",
            "Epoch 171/1000\n",
            " 1/19 [>.............................] - ETA: 0s - loss: 0.4109 - accuracy: 0.8281\n",
            "Epoch 171: saving model to model/keypoint_classifier\\keypoint_classifier.hdf5\n",
            "19/19 [==============================] - 0s 5ms/step - loss: 0.4293 - accuracy: 0.8358 - val_loss: 0.1733 - val_accuracy: 0.9759\n",
            "Epoch 172/1000\n",
            " 1/19 [>.............................] - ETA: 0s - loss: 0.4939 - accuracy: 0.8047\n",
            "Epoch 172: saving model to model/keypoint_classifier\\keypoint_classifier.hdf5\n",
            "19/19 [==============================] - 0s 6ms/step - loss: 0.4356 - accuracy: 0.8366 - val_loss: 0.1709 - val_accuracy: 0.9797\n",
            "Epoch 173/1000\n",
            " 1/19 [>.............................] - ETA: 0s - loss: 0.5237 - accuracy: 0.7812\n",
            "Epoch 173: saving model to model/keypoint_classifier\\keypoint_classifier.hdf5\n",
            "19/19 [==============================] - 0s 5ms/step - loss: 0.4422 - accuracy: 0.8320 - val_loss: 0.1696 - val_accuracy: 0.9759\n",
            "Epoch 174/1000\n",
            " 1/19 [>.............................] - ETA: 0s - loss: 0.4245 - accuracy: 0.8438\n",
            "Epoch 174: saving model to model/keypoint_classifier\\keypoint_classifier.hdf5\n",
            "19/19 [==============================] - 0s 6ms/step - loss: 0.4384 - accuracy: 0.8286 - val_loss: 0.1716 - val_accuracy: 0.9759\n",
            "Epoch 175/1000\n",
            " 1/19 [>.............................] - ETA: 0s - loss: 0.4048 - accuracy: 0.8750\n",
            "Epoch 175: saving model to model/keypoint_classifier\\keypoint_classifier.hdf5\n",
            "19/19 [==============================] - 0s 6ms/step - loss: 0.4382 - accuracy: 0.8316 - val_loss: 0.1780 - val_accuracy: 0.9759\n",
            "Epoch 176/1000\n",
            " 1/19 [>.............................] - ETA: 0s - loss: 0.4918 - accuracy: 0.8281\n",
            "Epoch 176: saving model to model/keypoint_classifier\\keypoint_classifier.hdf5\n",
            "19/19 [==============================] - 0s 6ms/step - loss: 0.4375 - accuracy: 0.8383 - val_loss: 0.1749 - val_accuracy: 0.9759\n",
            "Epoch 177/1000\n",
            " 1/19 [>.............................] - ETA: 0s - loss: 0.3751 - accuracy: 0.8438\n",
            "Epoch 177: saving model to model/keypoint_classifier\\keypoint_classifier.hdf5\n",
            "19/19 [==============================] - 0s 5ms/step - loss: 0.4635 - accuracy: 0.8265 - val_loss: 0.1797 - val_accuracy: 0.9747\n",
            "Epoch 178/1000\n",
            " 1/19 [>.............................] - ETA: 0s - loss: 0.4061 - accuracy: 0.8516\n",
            "Epoch 178: saving model to model/keypoint_classifier\\keypoint_classifier.hdf5\n",
            "19/19 [==============================] - 0s 5ms/step - loss: 0.4263 - accuracy: 0.8358 - val_loss: 0.1774 - val_accuracy: 0.9709\n",
            "Epoch 179/1000\n",
            " 1/19 [>.............................] - ETA: 0s - loss: 0.4319 - accuracy: 0.8594\n",
            "Epoch 179: saving model to model/keypoint_classifier\\keypoint_classifier.hdf5\n",
            "19/19 [==============================] - 0s 5ms/step - loss: 0.4327 - accuracy: 0.8392 - val_loss: 0.1854 - val_accuracy: 0.9709\n",
            "Epoch 180/1000\n",
            " 1/19 [>.............................] - ETA: 0s - loss: 0.5474 - accuracy: 0.8203\n",
            "Epoch 180: saving model to model/keypoint_classifier\\keypoint_classifier.hdf5\n",
            "19/19 [==============================] - 0s 5ms/step - loss: 0.4447 - accuracy: 0.8375 - val_loss: 0.1711 - val_accuracy: 0.9785\n",
            "Epoch 181/1000\n",
            " 1/19 [>.............................] - ETA: 0s - loss: 0.4020 - accuracy: 0.8906\n",
            "Epoch 181: saving model to model/keypoint_classifier\\keypoint_classifier.hdf5\n",
            "19/19 [==============================] - 0s 5ms/step - loss: 0.4242 - accuracy: 0.8476 - val_loss: 0.1725 - val_accuracy: 0.9759\n",
            "Epoch 182/1000\n",
            " 1/19 [>.............................] - ETA: 0s - loss: 0.4821 - accuracy: 0.8594\n",
            "Epoch 182: saving model to model/keypoint_classifier\\keypoint_classifier.hdf5\n",
            "19/19 [==============================] - 0s 5ms/step - loss: 0.4212 - accuracy: 0.8417 - val_loss: 0.1718 - val_accuracy: 0.9747\n",
            "Epoch 183/1000\n",
            " 1/19 [>.............................] - ETA: 0s - loss: 0.4214 - accuracy: 0.8359\n",
            "Epoch 183: saving model to model/keypoint_classifier\\keypoint_classifier.hdf5\n",
            "19/19 [==============================] - 0s 5ms/step - loss: 0.4329 - accuracy: 0.8337 - val_loss: 0.1715 - val_accuracy: 0.9747\n",
            "Epoch 183: early stopping\n"
          ]
        },
        {
          "data": {
            "text/plain": [
              "<keras.callbacks.History at 0x24d441ffca0>"
            ]
          },
          "execution_count": 121,
          "metadata": {},
          "output_type": "execute_result"
        }
      ],
      "source": [
        "model.fit(\n",
        "    X_train,\n",
        "    y_train,\n",
        "    epochs=1000,\n",
        "    batch_size=128,\n",
        "    validation_data=(X_test, y_test),\n",
        "    callbacks=[cp_callback, es_callback]\n",
        ")"
      ]
    },
    {
      "cell_type": "code",
      "execution_count": 122,
      "metadata": {
        "colab": {
          "base_uri": "https://localhost:8080/"
        },
        "id": "pxvb2Y299hE3",
        "outputId": "59eb3185-2e37-4b9e-bc9d-ab1b8ac29b7f"
      },
      "outputs": [
        {
          "name": "stdout",
          "output_type": "stream",
          "text": [
            "7/7 [==============================] - 0s 1ms/step - loss: 0.1715 - accuracy: 0.9747\n"
          ]
        }
      ],
      "source": [
        "# Model evaluation\n",
        "val_loss, val_acc = model.evaluate(X_test, y_test, batch_size=128)"
      ]
    },
    {
      "cell_type": "code",
      "execution_count": 123,
      "metadata": {
        "id": "RBkmDeUW9hE4"
      },
      "outputs": [],
      "source": [
        "# Loading the saved model\n",
        "model = tf.keras.models.load_model(model_save_path)"
      ]
    },
    {
      "cell_type": "code",
      "execution_count": 124,
      "metadata": {
        "colab": {
          "base_uri": "https://localhost:8080/"
        },
        "id": "tFz9Tb0I9hE4",
        "outputId": "1c3b3528-54ae-4ee2-ab04-77429211cbef"
      },
      "outputs": [
        {
          "name": "stdout",
          "output_type": "stream",
          "text": [
            "1/1 [==============================] - 0s 64ms/step\n",
            "[5.59023678e-01 1.08514345e-04 8.90763749e-06 3.47801694e-03\n",
            " 4.36783105e-01 5.72843692e-06 5.92042576e-04]\n",
            "0\n"
          ]
        }
      ],
      "source": [
        "# Inference test\n",
        "predict_result = model.predict(np.array([X_test[0]]))\n",
        "print(np.squeeze(predict_result))\n",
        "print(np.argmax(np.squeeze(predict_result)))"
      ]
    },
    {
      "cell_type": "markdown",
      "metadata": {
        "id": "S3U4yNWx9hE4"
      },
      "source": [
        "# Confusion matrix"
      ]
    },
    {
      "cell_type": "code",
      "execution_count": 125,
      "metadata": {
        "colab": {
          "base_uri": "https://localhost:8080/",
          "height": 582
        },
        "id": "AP1V6SCk9hE5",
        "outputId": "08e41a80-7a4a-4619-8125-ecc371368d19"
      },
      "outputs": [
        {
          "name": "stdout",
          "output_type": "stream",
          "text": [
            "25/25 [==============================] - 0s 1ms/step\n"
          ]
        },
        {
          "data": {
            "image/png": "[encoded data removed]",
            "text/plain": [
              "<Figure size 700x600 with 2 Axes>"
            ]
          },
          "metadata": {},
          "output_type": "display_data"
        },
        {
          "name": "stdout",
          "output_type": "stream",
          "text": [
            "Classification Report\n",
            "              precision    recall  f1-score   support\n",
            "\n",
            "           0       0.96      1.00      0.98       437\n",
            "           1       1.00      0.92      0.96        26\n",
            "           2       1.00      0.98      0.99        63\n",
            "           3       0.97      1.00      0.99        78\n",
            "           4       0.97      0.69      0.80        51\n",
            "           5       1.00      1.00      1.00        79\n",
            "           6       1.00      1.00      1.00        56\n",
            "\n",
            "    accuracy                           0.97       790\n",
            "   macro avg       0.99      0.94      0.96       790\n",
            "weighted avg       0.97      0.97      0.97       790\n",
            "\n"
          ]
        }
      ],
      "source": [
        "import pandas as pd\n",
        "import seaborn as sns\n",
        "import matplotlib.pyplot as plt\n",
        "from sklearn.metrics import confusion_matrix, classification_report\n",
        "\n",
        "def print_confusion_matrix(y_true, y_pred, report=True):\n",
        "    labels = sorted(list(set(y_true)))\n",
        "    cmx_data = confusion_matrix(y_true, y_pred, labels=labels)\n",
        "    \n",
        "    df_cmx = pd.DataFrame(cmx_data, index=labels, columns=labels)\n",
        " \n",
        "    fig, ax = plt.subplots(figsize=(7, 6))\n",
        "    sns.heatmap(df_cmx, annot=True, fmt='g' ,square=False)\n",
        "    ax.set_ylim(len(set(y_true)), 0)\n",
        "    plt.show()\n",
        "    \n",
        "    if report:\n",
        "        print('Classification Report')\n",
        "        print(classification_report(y_test, y_pred))\n",
        "\n",
        "Y_pred = model.predict(X_test)\n",
        "y_pred = np.argmax(Y_pred, axis=1)\n",
        "\n",
        "print_confusion_matrix(y_test, y_pred)"
      ]
    },
    {
      "cell_type": "markdown",
      "metadata": {
        "id": "FNP6aqzc9hE5"
      },
      "source": [
        "# Convert to model for Tensorflow-Lite"
      ]
    },
    {
      "cell_type": "code",
      "execution_count": 126,
      "metadata": {
        "id": "ODjnYyld9hE6"
      },
      "outputs": [],
      "source": [
        "# Save as a model dedicated to inference\n",
        "model.save(model_save_path, include_optimizer=False)"
      ]
    },
    {
      "cell_type": "code",
      "execution_count": 127,
      "metadata": {
        "colab": {
          "base_uri": "https://localhost:8080/"
        },
        "id": "zRfuK8Y59hE6",
        "outputId": "a4ca585c-b5d5-4244-8291-8674063209bb"
      },
      "outputs": [
        {
          "name": "stderr",
          "output_type": "stream",
          "text": [
            "WARNING:absl:Found untraced functions such as _update_step_xla while saving (showing 1 of 1). These functions will not be directly callable after loading.\n"
          ]
        },
        {
          "name": "stdout",
          "output_type": "stream",
          "text": [
            "INFO:tensorflow:Assets written to: C:\\Users\\thoma\\AppData\\Local\\Temp\\tmp3p0fwh67\\assets\n"
          ]
        },
        {
          "name": "stderr",
          "output_type": "stream",
          "text": [
            "INFO:tensorflow:Assets written to: C:\\Users\\thoma\\AppData\\Local\\Temp\\tmp3p0fwh67\\assets\n"
          ]
        },
        {
          "data": {
            "text/plain": [
              "6740"
            ]
          },
          "execution_count": 127,
          "metadata": {},
          "output_type": "execute_result"
        }
      ],
      "source": [
        "# Transform model (quantization)\n",
        "\n",
        "converter = tf.lite.TFLiteConverter.from_keras_model(model)\n",
        "converter.optimizations = [tf.lite.Optimize.DEFAULT]\n",
        "tflite_quantized_model = converter.convert()\n",
        "\n",
        "open(tflite_save_path, 'wb').write(tflite_quantized_model)"
      ]
    },
    {
      "cell_type": "markdown",
      "metadata": {
        "id": "CHBPBXdx9hE6"
      },
      "source": [
        "# Inference test"
      ]
    },
    {
      "cell_type": "code",
      "execution_count": 128,
      "metadata": {
        "id": "mGAzLocO9hE7"
      },
      "outputs": [],
      "source": [
        "interpreter = tf.lite.Interpreter(model_path=tflite_save_path)\n",
        "interpreter.allocate_tensors()"
      ]
    },
    {
      "cell_type": "code",
      "execution_count": 129,
      "metadata": {
        "id": "oQuDK8YS9hE7"
      },
      "outputs": [],
      "source": [
        "# Get I / O tensor\n",
        "input_details = interpreter.get_input_details()\n",
        "output_details = interpreter.get_output_details()"
      ]
    },
    {
      "cell_type": "code",
      "execution_count": 130,
      "metadata": {
        "id": "2_ixAf_l9hE7"
      },
      "outputs": [],
      "source": [
        "interpreter.set_tensor(input_details[0]['index'], np.array([X_test[0]]))"
      ]
    },
    {
      "cell_type": "code",
      "execution_count": 131,
      "metadata": {
        "colab": {
          "base_uri": "https://localhost:8080/"
        },
        "id": "s4FoAnuc9hE7",
        "outputId": "91f18257-8d8b-4ef3-c558-e9b5f94fabbf",
        "scrolled": true
      },
      "outputs": [
        {
          "name": "stdout",
          "output_type": "stream",
          "text": [
            "CPU times: total: 0 ns\n",
            "Wall time: 0 ns\n"
          ]
        }
      ],
      "source": [
        "%%time\n",
        "# Inference implementation\n",
        "interpreter.invoke()\n",
        "tflite_results = interpreter.get_tensor(output_details[0]['index'])"
      ]
    },
    {
      "cell_type": "code",
      "execution_count": 132,
      "metadata": {
        "colab": {
          "base_uri": "https://localhost:8080/"
        },
        "id": "vONjp19J9hE8",
        "outputId": "77205e24-fd00-42c4-f7b6-e06e527c2cba"
      },
      "outputs": [
        {
          "name": "stdout",
          "output_type": "stream",
          "text": [
            "[5.59023738e-01 1.08514345e-04 8.90764659e-06 3.47801880e-03\n",
            " 4.36783046e-01 5.72844374e-06 5.92043158e-04]\n",
            "0\n"
          ]
        }
      ],
      "source": [
        "print(np.squeeze(tflite_results))\n",
        "print(np.argmax(np.squeeze(tflite_results)))"
      ]
    }
  ],
  "metadata": {
    "accelerator": "GPU",
    "colab": {
      "collapsed_sections": [],
      "name": "keypoint_classification_EN.ipynb",
      "provenance": [],
      "toc_visible": true
    },
    "kernelspec": {
      "display_name": "Python 3.10.8 ('gestease')",
      "language": "python",
      "name": "python3"
    },
    "language_info": {
      "codemirror_mode": {
        "name": "ipython",
        "version": 3
      },
      "file_extension": ".py",
      "mimetype": "text/x-python",
      "name": "python",
      "nbconvert_exporter": "python",
      "pygments_lexer": "ipython3",
      "version": "3.10.8"
    },
    "vscode": {
      "interpreter": {
        "hash": "2319d00656a3dc26f5fb3ceb93566d71328eb5ea427ca50564efcb3787d96b22"
      }
    }
  },
  "nbformat": 4,
  "nbformat_minor": 0
}
