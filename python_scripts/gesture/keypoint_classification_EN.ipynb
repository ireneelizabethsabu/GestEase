{
  "cells": [
    {
      "cell_type": "code",
      "execution_count": 1,
      "metadata": {
        "id": "igMyGnjE9hEp"
      },
      "outputs": [],
      "source": [
        "import csv\n",
        "\n",
        "import numpy as np\n",
        "import tensorflow as tf\n",
        "from sklearn.model_selection import train_test_split\n",
        "\n",
        "RANDOM_SEED = 42"
      ]
    },
    {
      "cell_type": "markdown",
      "metadata": {
        "id": "t2HDvhIu9hEr"
      },
      "source": [
        "# Specify each path"
      ]
    },
    {
      "cell_type": "code",
      "execution_count": 2,
      "metadata": {
        "id": "9NvZP2Zn9hEy"
      },
      "outputs": [],
      "source": [
        "dataset = 'model/keypoint_classifier/keypoint.csv'\n",
        "model_save_path = 'model/keypoint_classifier/keypoint_classifier.hdf5'\n",
        "tflite_save_path = 'model/keypoint_classifier/keypoint_classifier.tflite'"
      ]
    },
    {
      "cell_type": "markdown",
      "metadata": {
        "id": "s5oMH7x19hEz"
      },
      "source": [
        "# Set number of classes"
      ]
    },
    {
      "cell_type": "code",
      "execution_count": 3,
      "metadata": {
        "id": "du4kodXL9hEz"
      },
      "outputs": [],
      "source": [
        "NUM_CLASSES = 7 #increment when adding the gestures"
      ]
    },
    {
      "cell_type": "markdown",
      "metadata": {
        "id": "XjnL0uso9hEz"
      },
      "source": [
        "# Dataset reading"
      ]
    },
    {
      "cell_type": "code",
      "execution_count": 4,
      "metadata": {
        "id": "QT5ZqtEz9hE0"
      },
      "outputs": [],
      "source": [
        "X_dataset = np.loadtxt(dataset, delimiter=',', dtype='float32', usecols=list(range(1, (21 * 2) + 1)))"
      ]
    },
    {
      "cell_type": "code",
      "execution_count": 5,
      "metadata": {
        "id": "QmoKFsp49hE0"
      },
      "outputs": [],
      "source": [
        "y_dataset = np.loadtxt(dataset, delimiter=',', dtype='int32', usecols=(0))"
      ]
    },
    {
      "cell_type": "code",
      "execution_count": 6,
      "metadata": {
        "id": "xQU7JTZ_9hE0"
      },
      "outputs": [],
      "source": [
        "X_train, X_test, y_train, y_test = train_test_split(X_dataset, y_dataset, train_size=0.75, random_state=RANDOM_SEED)"
      ]
    },
    {
      "cell_type": "markdown",
      "metadata": {
        "id": "mxK_lETT9hE0"
      },
      "source": [
        "# Model building"
      ]
    },
    {
      "cell_type": "code",
      "execution_count": 7,
      "metadata": {
        "id": "vHBmUf1t9hE1"
      },
      "outputs": [],
      "source": [
        "model = tf.keras.models.Sequential([\n",
        "    tf.keras.layers.Input((21 * 2, )),\n",
        "    tf.keras.layers.Dropout(0.2),\n",
        "    tf.keras.layers.Dense(20, activation='relu'),\n",
        "    tf.keras.layers.Dropout(0.4),\n",
        "    tf.keras.layers.Dense(10, activation='relu'),\n",
        "    tf.keras.layers.Dense(NUM_CLASSES, activation='softmax')\n",
        "])"
      ]
    },
    {
      "cell_type": "code",
      "execution_count": 8,
      "metadata": {
        "colab": {
          "base_uri": "https://localhost:8080/"
        },
        "id": "ypqky9tc9hE1",
        "outputId": "5db082bb-30e3-4110-bf63-a1ee777ecd46"
      },
      "outputs": [
        {
          "name": "stdout",
          "output_type": "stream",
          "text": [
            "Model: \"sequential\"\n",
            "_________________________________________________________________\n",
            " Layer (type)                Output Shape              Param #   \n",
            "=================================================================\n",
            " dropout (Dropout)           (None, 42)                0         \n",
            "                                                                 \n",
            " dense (Dense)               (None, 20)                860       \n",
            "                                                                 \n",
            " dropout_1 (Dropout)         (None, 20)                0         \n",
            "                                                                 \n",
            " dense_1 (Dense)             (None, 10)                210       \n",
            "                                                                 \n",
            " dense_2 (Dense)             (None, 7)                 77        \n",
            "                                                                 \n",
            "=================================================================\n",
            "Total params: 1,147\n",
            "Trainable params: 1,147\n",
            "Non-trainable params: 0\n",
            "_________________________________________________________________\n"
          ]
        }
      ],
      "source": [
        "model.summary()  # tf.keras.utils.plot_model(model, show_shapes=True)"
      ]
    },
    {
      "cell_type": "code",
      "execution_count": 9,
      "metadata": {
        "id": "MbMjOflQ9hE1"
      },
      "outputs": [],
      "source": [
        "# Model checkpoint callback\n",
        "cp_callback = tf.keras.callbacks.ModelCheckpoint(\n",
        "    model_save_path, verbose=1, save_weights_only=False)\n",
        "# Callback for early stopping\n",
        "es_callback = tf.keras.callbacks.EarlyStopping(patience=20, verbose=1)"
      ]
    },
    {
      "cell_type": "code",
      "execution_count": 10,
      "metadata": {
        "id": "c3Dac0M_9hE2"
      },
      "outputs": [],
      "source": [
        "# Model compilation\n",
        "model.compile(\n",
        "    optimizer='adam',\n",
        "    loss='sparse_categorical_crossentropy',\n",
        "    metrics=['accuracy']\n",
        ")"
      ]
    },
    {
      "cell_type": "markdown",
      "metadata": {
        "id": "7XI0j1Iu9hE2"
      },
      "source": [
        "# Model training"
      ]
    },
    {
      "cell_type": "code",
      "execution_count": 11,
      "metadata": {
        "colab": {
          "base_uri": "https://localhost:8080/"
        },
        "id": "WirBl-JE9hE3",
        "outputId": "71b30ca2-8294-4d9d-8aa2-800d90d399de",
        "scrolled": true
      },
      "outputs": [
        {
          "name": "stdout",
          "output_type": "stream",
          "text": [
            "Epoch 1/1000\n",
            "14/20 [====================>.........] - ETA: 0s - loss: 1.7578 - accuracy: 0.4157 \n",
            "Epoch 1: saving model to model/keypoint_classifier\\keypoint_classifier.hdf5\n",
            "20/20 [==============================] - 4s 61ms/step - loss: 1.7213 - accuracy: 0.4395 - val_loss: 1.6004 - val_accuracy: 0.5650\n",
            "Epoch 2/1000\n",
            "19/20 [===========================>..] - ETA: 0s - loss: 1.5720 - accuracy: 0.4918\n",
            "Epoch 2: saving model to model/keypoint_classifier\\keypoint_classifier.hdf5\n",
            "20/20 [==============================] - 0s 13ms/step - loss: 1.5719 - accuracy: 0.4918 - val_loss: 1.4233 - val_accuracy: 0.5564\n",
            "Epoch 3/1000\n",
            "13/20 [==================>...........] - ETA: 0s - loss: 1.4738 - accuracy: 0.5024\n",
            "Epoch 3: saving model to model/keypoint_classifier\\keypoint_classifier.hdf5\n",
            "20/20 [==============================] - 0s 13ms/step - loss: 1.4567 - accuracy: 0.5057 - val_loss: 1.3028 - val_accuracy: 0.5502\n",
            "Epoch 4/1000\n",
            "17/20 [========================>.....] - ETA: 0s - loss: 1.3965 - accuracy: 0.5078\n",
            "Epoch 4: saving model to model/keypoint_classifier\\keypoint_classifier.hdf5\n",
            "20/20 [==============================] - 0s 23ms/step - loss: 1.3894 - accuracy: 0.5110 - val_loss: 1.2308 - val_accuracy: 0.5502\n",
            "Epoch 5/1000\n",
            "19/20 [===========================>..] - ETA: 0s - loss: 1.3300 - accuracy: 0.5070\n",
            "Epoch 5: saving model to model/keypoint_classifier\\keypoint_classifier.hdf5\n",
            "20/20 [==============================] - 0s 14ms/step - loss: 1.3299 - accuracy: 0.5070 - val_loss: 1.1745 - val_accuracy: 0.5502\n",
            "Epoch 6/1000\n",
            "14/20 [====================>.........] - ETA: 0s - loss: 1.3032 - accuracy: 0.4944\n",
            "Epoch 6: saving model to model/keypoint_classifier\\keypoint_classifier.hdf5\n",
            "20/20 [==============================] - 0s 15ms/step - loss: 1.2866 - accuracy: 0.5020 - val_loss: 1.1269 - val_accuracy: 0.5502\n",
            "Epoch 7/1000\n",
            "20/20 [==============================] - ETA: 0s - loss: 1.2522 - accuracy: 0.5139\n",
            "Epoch 7: saving model to model/keypoint_classifier\\keypoint_classifier.hdf5\n",
            "20/20 [==============================] - 0s 15ms/step - loss: 1.2522 - accuracy: 0.5139 - val_loss: 1.1070 - val_accuracy: 0.5576\n",
            "Epoch 8/1000\n",
            "11/20 [===============>..............] - ETA: 0s - loss: 1.2167 - accuracy: 0.5142\n",
            "Epoch 8: saving model to model/keypoint_classifier\\keypoint_classifier.hdf5\n",
            "20/20 [==============================] - 0s 15ms/step - loss: 1.2280 - accuracy: 0.5143 - val_loss: 1.0750 - val_accuracy: 0.5809\n",
            "Epoch 9/1000\n",
            "20/20 [==============================] - ETA: 0s - loss: 1.1942 - accuracy: 0.5258\n",
            "Epoch 9: saving model to model/keypoint_classifier\\keypoint_classifier.hdf5\n",
            "20/20 [==============================] - 0s 15ms/step - loss: 1.1942 - accuracy: 0.5258 - val_loss: 1.0544 - val_accuracy: 0.5919\n",
            "Epoch 10/1000\n",
            "20/20 [==============================] - ETA: 0s - loss: 1.1763 - accuracy: 0.5233\n",
            "Epoch 10: saving model to model/keypoint_classifier\\keypoint_classifier.hdf5\n",
            "20/20 [==============================] - 0s 15ms/step - loss: 1.1763 - accuracy: 0.5233 - val_loss: 1.0334 - val_accuracy: 0.6422\n",
            "Epoch 11/1000\n",
            "13/20 [==================>...........] - ETA: 0s - loss: 1.1525 - accuracy: 0.5288\n",
            "Epoch 11: saving model to model/keypoint_classifier\\keypoint_classifier.hdf5\n",
            "20/20 [==============================] - 0s 13ms/step - loss: 1.1523 - accuracy: 0.5319 - val_loss: 1.0143 - val_accuracy: 0.6667\n",
            "Epoch 12/1000\n",
            "13/20 [==================>...........] - ETA: 0s - loss: 1.1513 - accuracy: 0.5294\n",
            "Epoch 12: saving model to model/keypoint_classifier\\keypoint_classifier.hdf5\n",
            "20/20 [==============================] - 0s 13ms/step - loss: 1.1538 - accuracy: 0.5290 - val_loss: 0.9983 - val_accuracy: 0.6814\n",
            "Epoch 13/1000\n",
            "19/20 [===========================>..] - ETA: 0s - loss: 1.1245 - accuracy: 0.5350\n",
            "Epoch 13: saving model to model/keypoint_classifier\\keypoint_classifier.hdf5\n",
            "20/20 [==============================] - 0s 21ms/step - loss: 1.1255 - accuracy: 0.5348 - val_loss: 0.9856 - val_accuracy: 0.6875\n",
            "Epoch 14/1000\n",
            "19/20 [===========================>..] - ETA: 0s - loss: 1.1190 - accuracy: 0.5469\n",
            "Epoch 14: saving model to model/keypoint_classifier\\keypoint_classifier.hdf5\n",
            "20/20 [==============================] - 0s 18ms/step - loss: 1.1165 - accuracy: 0.5487 - val_loss: 0.9688 - val_accuracy: 0.6838\n",
            "Epoch 15/1000\n",
            "11/20 [===============>..............] - ETA: 0s - loss: 1.1017 - accuracy: 0.5526\n",
            "Epoch 15: saving model to model/keypoint_classifier\\keypoint_classifier.hdf5\n",
            "20/20 [==============================] - 0s 20ms/step - loss: 1.1016 - accuracy: 0.5609 - val_loss: 0.9529 - val_accuracy: 0.6924\n",
            "Epoch 16/1000\n",
            "10/20 [==============>...............] - ETA: 0s - loss: 1.1191 - accuracy: 0.5523\n",
            "Epoch 16: saving model to model/keypoint_classifier\\keypoint_classifier.hdf5\n",
            "20/20 [==============================] - 0s 12ms/step - loss: 1.0938 - accuracy: 0.5613 - val_loss: 0.9347 - val_accuracy: 0.7022\n",
            "Epoch 17/1000\n",
            "13/20 [==================>...........] - ETA: 0s - loss: 1.0772 - accuracy: 0.5721\n",
            "Epoch 17: saving model to model/keypoint_classifier\\keypoint_classifier.hdf5\n",
            "20/20 [==============================] - 0s 15ms/step - loss: 1.0685 - accuracy: 0.5732 - val_loss: 0.9193 - val_accuracy: 0.6998\n",
            "Epoch 18/1000\n",
            "11/20 [===============>..............] - ETA: 0s - loss: 1.0471 - accuracy: 0.5866\n",
            "Epoch 18: saving model to model/keypoint_classifier\\keypoint_classifier.hdf5\n",
            "20/20 [==============================] - 0s 15ms/step - loss: 1.0554 - accuracy: 0.5822 - val_loss: 0.8983 - val_accuracy: 0.6998\n",
            "Epoch 19/1000\n",
            "11/20 [===============>..............] - ETA: 0s - loss: 1.0817 - accuracy: 0.5696\n",
            "Epoch 19: saving model to model/keypoint_classifier\\keypoint_classifier.hdf5\n",
            "20/20 [==============================] - 0s 16ms/step - loss: 1.0568 - accuracy: 0.5814 - val_loss: 0.8893 - val_accuracy: 0.7169\n",
            "Epoch 20/1000\n",
            "12/20 [=================>............] - ETA: 0s - loss: 1.0251 - accuracy: 0.6042\n",
            "Epoch 20: saving model to model/keypoint_classifier\\keypoint_classifier.hdf5\n",
            "20/20 [==============================] - 0s 13ms/step - loss: 1.0282 - accuracy: 0.6026 - val_loss: 0.8696 - val_accuracy: 0.7267\n",
            "Epoch 21/1000\n",
            "12/20 [=================>............] - ETA: 0s - loss: 1.0215 - accuracy: 0.5990\n",
            "Epoch 21: saving model to model/keypoint_classifier\\keypoint_classifier.hdf5\n",
            "20/20 [==============================] - 0s 14ms/step - loss: 1.0137 - accuracy: 0.5981 - val_loss: 0.8474 - val_accuracy: 0.7426\n",
            "Epoch 22/1000\n",
            "19/20 [===========================>..] - ETA: 0s - loss: 0.9990 - accuracy: 0.6061\n",
            "Epoch 22: saving model to model/keypoint_classifier\\keypoint_classifier.hdf5\n",
            "20/20 [==============================] - 0s 22ms/step - loss: 0.9986 - accuracy: 0.6063 - val_loss: 0.8213 - val_accuracy: 0.7647\n",
            "Epoch 23/1000\n",
            "13/20 [==================>...........] - ETA: 0s - loss: 0.9768 - accuracy: 0.6148\n",
            "Epoch 23: saving model to model/keypoint_classifier\\keypoint_classifier.hdf5\n",
            "20/20 [==============================] - 0s 13ms/step - loss: 0.9844 - accuracy: 0.6120 - val_loss: 0.8023 - val_accuracy: 0.7696\n",
            "Epoch 24/1000\n",
            "15/20 [=====================>........] - ETA: 0s - loss: 1.0011 - accuracy: 0.6016\n",
            "Epoch 24: saving model to model/keypoint_classifier\\keypoint_classifier.hdf5\n",
            "20/20 [==============================] - 0s 15ms/step - loss: 0.9834 - accuracy: 0.6112 - val_loss: 0.7929 - val_accuracy: 0.7733\n",
            "Epoch 25/1000\n",
            "11/20 [===============>..............] - ETA: 0s - loss: 0.9566 - accuracy: 0.6186\n",
            "Epoch 25: saving model to model/keypoint_classifier\\keypoint_classifier.hdf5\n",
            "20/20 [==============================] - 0s 13ms/step - loss: 0.9468 - accuracy: 0.6288 - val_loss: 0.7596 - val_accuracy: 0.7672\n",
            "Epoch 26/1000\n",
            "12/20 [=================>............] - ETA: 0s - loss: 0.9284 - accuracy: 0.6341\n",
            "Epoch 26: saving model to model/keypoint_classifier\\keypoint_classifier.hdf5\n",
            "20/20 [==============================] - 0s 15ms/step - loss: 0.9301 - accuracy: 0.6374 - val_loss: 0.7501 - val_accuracy: 0.7904\n",
            "Epoch 27/1000\n",
            "18/20 [==========================>...] - ETA: 0s - loss: 0.9274 - accuracy: 0.6376\n",
            "Epoch 27: saving model to model/keypoint_classifier\\keypoint_classifier.hdf5\n",
            "20/20 [==============================] - 0s 22ms/step - loss: 0.9251 - accuracy: 0.6382 - val_loss: 0.7284 - val_accuracy: 0.7917\n",
            "Epoch 28/1000\n",
            "19/20 [===========================>..] - ETA: 0s - loss: 0.9111 - accuracy: 0.6488\n",
            "Epoch 28: saving model to model/keypoint_classifier\\keypoint_classifier.hdf5\n",
            "20/20 [==============================] - 0s 13ms/step - loss: 0.9142 - accuracy: 0.6464 - val_loss: 0.7034 - val_accuracy: 0.7831\n",
            "Epoch 29/1000\n",
            "13/20 [==================>...........] - ETA: 0s - loss: 0.9136 - accuracy: 0.6412\n",
            "Epoch 29: saving model to model/keypoint_classifier\\keypoint_classifier.hdf5\n",
            "20/20 [==============================] - 0s 12ms/step - loss: 0.9015 - accuracy: 0.6521 - val_loss: 0.6947 - val_accuracy: 0.7868\n",
            "Epoch 30/1000\n",
            "17/20 [========================>.....] - ETA: 0s - loss: 0.9090 - accuracy: 0.6365\n",
            "Epoch 30: saving model to model/keypoint_classifier\\keypoint_classifier.hdf5\n",
            "20/20 [==============================] - 0s 25ms/step - loss: 0.9109 - accuracy: 0.6357 - val_loss: 0.6698 - val_accuracy: 0.7929\n",
            "Epoch 31/1000\n",
            "13/20 [==================>...........] - ETA: 0s - loss: 0.8807 - accuracy: 0.6562\n",
            "Epoch 31: saving model to model/keypoint_classifier\\keypoint_classifier.hdf5\n",
            "20/20 [==============================] - 0s 24ms/step - loss: 0.8796 - accuracy: 0.6537 - val_loss: 0.6536 - val_accuracy: 0.8015\n",
            "Epoch 32/1000\n",
            "16/20 [=======================>......] - ETA: 0s - loss: 0.8584 - accuracy: 0.6602\n",
            "Epoch 32: saving model to model/keypoint_classifier\\keypoint_classifier.hdf5\n",
            "20/20 [==============================] - 0s 16ms/step - loss: 0.8665 - accuracy: 0.6545 - val_loss: 0.6424 - val_accuracy: 0.8407\n",
            "Epoch 33/1000\n",
            "20/20 [==============================] - ETA: 0s - loss: 0.8632 - accuracy: 0.6672\n",
            "Epoch 33: saving model to model/keypoint_classifier\\keypoint_classifier.hdf5\n",
            "20/20 [==============================] - 0s 14ms/step - loss: 0.8632 - accuracy: 0.6672 - val_loss: 0.6122 - val_accuracy: 0.8235\n",
            "Epoch 34/1000\n",
            "13/20 [==================>...........] - ETA: 0s - loss: 0.8473 - accuracy: 0.6599\n",
            "Epoch 34: saving model to model/keypoint_classifier\\keypoint_classifier.hdf5\n",
            "20/20 [==============================] - 0s 14ms/step - loss: 0.8502 - accuracy: 0.6627 - val_loss: 0.6042 - val_accuracy: 0.8297\n",
            "Epoch 35/1000\n",
            "11/20 [===============>..............] - ETA: 0s - loss: 0.8437 - accuracy: 0.6612\n",
            "Epoch 35: saving model to model/keypoint_classifier\\keypoint_classifier.hdf5\n",
            "20/20 [==============================] - 0s 15ms/step - loss: 0.8397 - accuracy: 0.6656 - val_loss: 0.5852 - val_accuracy: 0.8444\n",
            "Epoch 36/1000\n",
            "13/20 [==================>...........] - ETA: 0s - loss: 0.8197 - accuracy: 0.6695\n",
            "Epoch 36: saving model to model/keypoint_classifier\\keypoint_classifier.hdf5\n",
            "20/20 [==============================] - 0s 13ms/step - loss: 0.8204 - accuracy: 0.6701 - val_loss: 0.5792 - val_accuracy: 0.8444\n",
            "Epoch 37/1000\n",
            "13/20 [==================>...........] - ETA: 0s - loss: 0.8271 - accuracy: 0.6695\n",
            "Epoch 37: saving model to model/keypoint_classifier\\keypoint_classifier.hdf5\n",
            "20/20 [==============================] - 0s 13ms/step - loss: 0.8217 - accuracy: 0.6758 - val_loss: 0.5727 - val_accuracy: 0.8566\n",
            "Epoch 38/1000\n",
            "13/20 [==================>...........] - ETA: 0s - loss: 0.8052 - accuracy: 0.6797\n",
            "Epoch 38: saving model to model/keypoint_classifier\\keypoint_classifier.hdf5\n",
            "20/20 [==============================] - 0s 13ms/step - loss: 0.8013 - accuracy: 0.6848 - val_loss: 0.5490 - val_accuracy: 0.8468\n",
            "Epoch 39/1000\n",
            "14/20 [====================>.........] - ETA: 0s - loss: 0.8117 - accuracy: 0.6735\n",
            "Epoch 39: saving model to model/keypoint_classifier\\keypoint_classifier.hdf5\n",
            "20/20 [==============================] - 0s 12ms/step - loss: 0.8056 - accuracy: 0.6795 - val_loss: 0.5338 - val_accuracy: 0.8787\n",
            "Epoch 40/1000\n",
            "12/20 [=================>............] - ETA: 0s - loss: 0.7671 - accuracy: 0.6986\n",
            "Epoch 40: saving model to model/keypoint_classifier\\keypoint_classifier.hdf5\n",
            "20/20 [==============================] - 0s 15ms/step - loss: 0.7751 - accuracy: 0.6971 - val_loss: 0.5186 - val_accuracy: 0.8689\n",
            "Epoch 41/1000\n",
            "11/20 [===============>..............] - ETA: 0s - loss: 0.7727 - accuracy: 0.6932\n",
            "Epoch 41: saving model to model/keypoint_classifier\\keypoint_classifier.hdf5\n",
            "20/20 [==============================] - 0s 14ms/step - loss: 0.7767 - accuracy: 0.6893 - val_loss: 0.5027 - val_accuracy: 0.8480\n",
            "Epoch 42/1000\n",
            "12/20 [=================>............] - ETA: 0s - loss: 0.7755 - accuracy: 0.6803\n",
            "Epoch 42: saving model to model/keypoint_classifier\\keypoint_classifier.hdf5\n",
            "20/20 [==============================] - 0s 16ms/step - loss: 0.7602 - accuracy: 0.6877 - val_loss: 0.5008 - val_accuracy: 0.8897\n",
            "Epoch 43/1000\n",
            "19/20 [===========================>..] - ETA: 0s - loss: 0.7523 - accuracy: 0.7031\n",
            "Epoch 43: saving model to model/keypoint_classifier\\keypoint_classifier.hdf5\n",
            "20/20 [==============================] - 0s 22ms/step - loss: 0.7530 - accuracy: 0.7024 - val_loss: 0.4827 - val_accuracy: 0.8517\n",
            "Epoch 44/1000\n",
            "10/20 [==============>...............] - ETA: 0s - loss: 0.7294 - accuracy: 0.7195\n",
            "Epoch 44: saving model to model/keypoint_classifier\\keypoint_classifier.hdf5\n",
            "20/20 [==============================] - 0s 14ms/step - loss: 0.7359 - accuracy: 0.7077 - val_loss: 0.4675 - val_accuracy: 0.8652\n",
            "Epoch 45/1000\n",
            "20/20 [==============================] - ETA: 0s - loss: 0.7608 - accuracy: 0.6946\n",
            "Epoch 45: saving model to model/keypoint_classifier\\keypoint_classifier.hdf5\n",
            "20/20 [==============================] - 0s 13ms/step - loss: 0.7608 - accuracy: 0.6946 - val_loss: 0.4660 - val_accuracy: 0.8946\n",
            "Epoch 46/1000\n",
            "12/20 [=================>............] - ETA: 0s - loss: 0.7211 - accuracy: 0.7207\n",
            "Epoch 46: saving model to model/keypoint_classifier\\keypoint_classifier.hdf5\n",
            "20/20 [==============================] - 0s 17ms/step - loss: 0.7291 - accuracy: 0.7126 - val_loss: 0.4531 - val_accuracy: 0.9069\n",
            "Epoch 47/1000\n",
            "12/20 [=================>............] - ETA: 0s - loss: 0.7110 - accuracy: 0.7148\n",
            "Epoch 47: saving model to model/keypoint_classifier\\keypoint_classifier.hdf5\n",
            "20/20 [==============================] - 0s 13ms/step - loss: 0.7179 - accuracy: 0.7159 - val_loss: 0.4287 - val_accuracy: 0.8971\n",
            "Epoch 48/1000\n",
            "13/20 [==================>...........] - ETA: 0s - loss: 0.7402 - accuracy: 0.7067\n",
            "Epoch 48: saving model to model/keypoint_classifier\\keypoint_classifier.hdf5\n",
            "20/20 [==============================] - 0s 13ms/step - loss: 0.7281 - accuracy: 0.7122 - val_loss: 0.4307 - val_accuracy: 0.9191\n",
            "Epoch 49/1000\n",
            "11/20 [===============>..............] - ETA: 0s - loss: 0.7274 - accuracy: 0.6989\n",
            "Epoch 49: saving model to model/keypoint_classifier\\keypoint_classifier.hdf5\n",
            "20/20 [==============================] - 0s 15ms/step - loss: 0.7013 - accuracy: 0.7208 - val_loss: 0.4242 - val_accuracy: 0.9007\n",
            "Epoch 50/1000\n",
            "13/20 [==================>...........] - ETA: 0s - loss: 0.6988 - accuracy: 0.7350\n",
            "Epoch 50: saving model to model/keypoint_classifier\\keypoint_classifier.hdf5\n",
            "20/20 [==============================] - 0s 12ms/step - loss: 0.7010 - accuracy: 0.7249 - val_loss: 0.4119 - val_accuracy: 0.9277\n",
            "Epoch 51/1000\n",
            "12/20 [=================>............] - ETA: 0s - loss: 0.6778 - accuracy: 0.7305\n",
            "Epoch 51: saving model to model/keypoint_classifier\\keypoint_classifier.hdf5\n",
            "20/20 [==============================] - 0s 14ms/step - loss: 0.7000 - accuracy: 0.7175 - val_loss: 0.4040 - val_accuracy: 0.9301\n",
            "Epoch 52/1000\n",
            "17/20 [========================>.....] - ETA: 0s - loss: 0.6899 - accuracy: 0.7165\n",
            "Epoch 52: saving model to model/keypoint_classifier\\keypoint_classifier.hdf5\n",
            "20/20 [==============================] - 0s 17ms/step - loss: 0.6880 - accuracy: 0.7138 - val_loss: 0.3972 - val_accuracy: 0.9387\n",
            "Epoch 53/1000\n",
            "17/20 [========================>.....] - ETA: 0s - loss: 0.7137 - accuracy: 0.7050\n",
            "Epoch 53: saving model to model/keypoint_classifier\\keypoint_classifier.hdf5\n",
            "20/20 [==============================] - 0s 18ms/step - loss: 0.7123 - accuracy: 0.7052 - val_loss: 0.3889 - val_accuracy: 0.9179\n",
            "Epoch 54/1000\n",
            "11/20 [===============>..............] - ETA: 0s - loss: 0.7142 - accuracy: 0.7067\n",
            "Epoch 54: saving model to model/keypoint_classifier\\keypoint_classifier.hdf5\n",
            "20/20 [==============================] - 0s 13ms/step - loss: 0.7014 - accuracy: 0.7159 - val_loss: 0.3991 - val_accuracy: 0.9301\n",
            "Epoch 55/1000\n",
            "12/20 [=================>............] - ETA: 0s - loss: 0.6897 - accuracy: 0.7214\n",
            "Epoch 55: saving model to model/keypoint_classifier\\keypoint_classifier.hdf5\n",
            "20/20 [==============================] - 0s 15ms/step - loss: 0.6759 - accuracy: 0.7285 - val_loss: 0.3866 - val_accuracy: 0.9461\n",
            "Epoch 56/1000\n",
            "12/20 [=================>............] - ETA: 0s - loss: 0.7177 - accuracy: 0.7109\n",
            "Epoch 56: saving model to model/keypoint_classifier\\keypoint_classifier.hdf5\n",
            "20/20 [==============================] - 0s 14ms/step - loss: 0.6843 - accuracy: 0.7265 - val_loss: 0.3775 - val_accuracy: 0.9510\n",
            "Epoch 57/1000\n",
            "11/20 [===============>..............] - ETA: 0s - loss: 0.6781 - accuracy: 0.7330\n",
            "Epoch 57: saving model to model/keypoint_classifier\\keypoint_classifier.hdf5\n",
            "20/20 [==============================] - 0s 17ms/step - loss: 0.6820 - accuracy: 0.7326 - val_loss: 0.3810 - val_accuracy: 0.9400\n",
            "Epoch 58/1000\n",
            "12/20 [=================>............] - ETA: 0s - loss: 0.7089 - accuracy: 0.7025\n",
            "Epoch 58: saving model to model/keypoint_classifier\\keypoint_classifier.hdf5\n",
            "20/20 [==============================] - 0s 11ms/step - loss: 0.6868 - accuracy: 0.7171 - val_loss: 0.3719 - val_accuracy: 0.9571\n",
            "Epoch 59/1000\n",
            "16/20 [=======================>......] - ETA: 0s - loss: 0.6730 - accuracy: 0.7246\n",
            "Epoch 59: saving model to model/keypoint_classifier\\keypoint_classifier.hdf5\n",
            "20/20 [==============================] - 0s 14ms/step - loss: 0.6682 - accuracy: 0.7257 - val_loss: 0.3559 - val_accuracy: 0.9461\n",
            "Epoch 60/1000\n",
            "15/20 [=====================>........] - ETA: 0s - loss: 0.6720 - accuracy: 0.7266\n",
            "Epoch 60: saving model to model/keypoint_classifier\\keypoint_classifier.hdf5\n",
            "20/20 [==============================] - 0s 20ms/step - loss: 0.6694 - accuracy: 0.7269 - val_loss: 0.3567 - val_accuracy: 0.9583\n",
            "Epoch 61/1000\n",
            "12/20 [=================>............] - ETA: 0s - loss: 0.6740 - accuracy: 0.7272\n",
            "Epoch 61: saving model to model/keypoint_classifier\\keypoint_classifier.hdf5\n",
            "20/20 [==============================] - 0s 19ms/step - loss: 0.6701 - accuracy: 0.7298 - val_loss: 0.3631 - val_accuracy: 0.9534\n",
            "Epoch 62/1000\n",
            "15/20 [=====================>........] - ETA: 0s - loss: 0.6551 - accuracy: 0.7437\n",
            "Epoch 62: saving model to model/keypoint_classifier\\keypoint_classifier.hdf5\n",
            "20/20 [==============================] - 0s 15ms/step - loss: 0.6446 - accuracy: 0.7478 - val_loss: 0.3454 - val_accuracy: 0.9424\n",
            "Epoch 63/1000\n",
            "13/20 [==================>...........] - ETA: 0s - loss: 0.6529 - accuracy: 0.7308\n",
            "Epoch 63: saving model to model/keypoint_classifier\\keypoint_classifier.hdf5\n",
            "20/20 [==============================] - 0s 16ms/step - loss: 0.6487 - accuracy: 0.7367 - val_loss: 0.3417 - val_accuracy: 0.9498\n",
            "Epoch 64/1000\n",
            "20/20 [==============================] - ETA: 0s - loss: 0.6402 - accuracy: 0.7465\n",
            "Epoch 64: saving model to model/keypoint_classifier\\keypoint_classifier.hdf5\n",
            "20/20 [==============================] - 0s 20ms/step - loss: 0.6402 - accuracy: 0.7465 - val_loss: 0.3322 - val_accuracy: 0.9571\n",
            "Epoch 65/1000\n",
            "19/20 [===========================>..] - ETA: 0s - loss: 0.6376 - accuracy: 0.7451\n",
            "Epoch 65: saving model to model/keypoint_classifier\\keypoint_classifier.hdf5\n",
            "20/20 [==============================] - 0s 22ms/step - loss: 0.6376 - accuracy: 0.7457 - val_loss: 0.3312 - val_accuracy: 0.9473\n",
            "Epoch 66/1000\n",
            "20/20 [==============================] - ETA: 0s - loss: 0.6205 - accuracy: 0.7543\n",
            "Epoch 66: saving model to model/keypoint_classifier\\keypoint_classifier.hdf5\n",
            "20/20 [==============================] - 0s 18ms/step - loss: 0.6205 - accuracy: 0.7543 - val_loss: 0.3444 - val_accuracy: 0.9583\n",
            "Epoch 67/1000\n",
            "12/20 [=================>............] - ETA: 0s - loss: 0.6107 - accuracy: 0.7565\n",
            "Epoch 67: saving model to model/keypoint_classifier\\keypoint_classifier.hdf5\n",
            "20/20 [==============================] - 0s 17ms/step - loss: 0.6180 - accuracy: 0.7543 - val_loss: 0.3304 - val_accuracy: 0.9632\n",
            "Epoch 68/1000\n",
            "17/20 [========================>.....] - ETA: 0s - loss: 0.6346 - accuracy: 0.7440\n",
            "Epoch 68: saving model to model/keypoint_classifier\\keypoint_classifier.hdf5\n",
            "20/20 [==============================] - 0s 19ms/step - loss: 0.6320 - accuracy: 0.7433 - val_loss: 0.3129 - val_accuracy: 0.9596\n",
            "Epoch 69/1000\n",
            "19/20 [===========================>..] - ETA: 0s - loss: 0.6053 - accuracy: 0.7586\n",
            "Epoch 69: saving model to model/keypoint_classifier\\keypoint_classifier.hdf5\n",
            "20/20 [==============================] - 0s 19ms/step - loss: 0.6058 - accuracy: 0.7576 - val_loss: 0.3052 - val_accuracy: 0.9620\n",
            "Epoch 70/1000\n",
            "12/20 [=================>............] - ETA: 0s - loss: 0.6105 - accuracy: 0.7448\n",
            "Epoch 70: saving model to model/keypoint_classifier\\keypoint_classifier.hdf5\n",
            "20/20 [==============================] - 0s 15ms/step - loss: 0.6166 - accuracy: 0.7445 - val_loss: 0.3046 - val_accuracy: 0.9645\n",
            "Epoch 71/1000\n",
            "16/20 [=======================>......] - ETA: 0s - loss: 0.6089 - accuracy: 0.7588\n",
            "Epoch 71: saving model to model/keypoint_classifier\\keypoint_classifier.hdf5\n",
            "20/20 [==============================] - 0s 17ms/step - loss: 0.6036 - accuracy: 0.7612 - val_loss: 0.2983 - val_accuracy: 0.9743\n",
            "Epoch 72/1000\n",
            "14/20 [====================>.........] - ETA: 0s - loss: 0.6178 - accuracy: 0.7483\n",
            "Epoch 72: saving model to model/keypoint_classifier\\keypoint_classifier.hdf5\n",
            "20/20 [==============================] - 0s 14ms/step - loss: 0.6028 - accuracy: 0.7576 - val_loss: 0.2857 - val_accuracy: 0.9632\n",
            "Epoch 73/1000\n",
            "20/20 [==============================] - ETA: 0s - loss: 0.6017 - accuracy: 0.7531\n",
            "Epoch 73: saving model to model/keypoint_classifier\\keypoint_classifier.hdf5\n",
            "20/20 [==============================] - 0s 15ms/step - loss: 0.6017 - accuracy: 0.7531 - val_loss: 0.2967 - val_accuracy: 0.9718\n",
            "Epoch 74/1000\n",
            "16/20 [=======================>......] - ETA: 0s - loss: 0.6283 - accuracy: 0.7539\n",
            "Epoch 74: saving model to model/keypoint_classifier\\keypoint_classifier.hdf5\n",
            "20/20 [==============================] - 0s 24ms/step - loss: 0.6262 - accuracy: 0.7535 - val_loss: 0.2997 - val_accuracy: 0.9645\n",
            "Epoch 75/1000\n",
            "18/20 [==========================>...] - ETA: 0s - loss: 0.6032 - accuracy: 0.7591\n",
            "Epoch 75: saving model to model/keypoint_classifier\\keypoint_classifier.hdf5\n",
            "20/20 [==============================] - 0s 23ms/step - loss: 0.6019 - accuracy: 0.7588 - val_loss: 0.2855 - val_accuracy: 0.9596\n",
            "Epoch 76/1000\n",
            "17/20 [========================>.....] - ETA: 0s - loss: 0.6195 - accuracy: 0.7537\n",
            "Epoch 76: saving model to model/keypoint_classifier\\keypoint_classifier.hdf5\n",
            "20/20 [==============================] - 0s 20ms/step - loss: 0.6156 - accuracy: 0.7576 - val_loss: 0.2907 - val_accuracy: 0.9657\n",
            "Epoch 77/1000\n",
            "12/20 [=================>............] - ETA: 0s - loss: 0.5898 - accuracy: 0.7520\n",
            "Epoch 77: saving model to model/keypoint_classifier\\keypoint_classifier.hdf5\n",
            "20/20 [==============================] - 0s 11ms/step - loss: 0.5909 - accuracy: 0.7588 - val_loss: 0.2833 - val_accuracy: 0.9755\n",
            "Epoch 78/1000\n",
            "15/20 [=====================>........] - ETA: 0s - loss: 0.5861 - accuracy: 0.7667\n",
            "Epoch 78: saving model to model/keypoint_classifier\\keypoint_classifier.hdf5\n",
            "20/20 [==============================] - 0s 19ms/step - loss: 0.5891 - accuracy: 0.7698 - val_loss: 0.2761 - val_accuracy: 0.9816\n",
            "Epoch 79/1000\n",
            "16/20 [=======================>......] - ETA: 0s - loss: 0.5692 - accuracy: 0.7769\n",
            "Epoch 79: saving model to model/keypoint_classifier\\keypoint_classifier.hdf5\n",
            "20/20 [==============================] - 0s 21ms/step - loss: 0.5723 - accuracy: 0.7739 - val_loss: 0.2800 - val_accuracy: 0.9730\n",
            "Epoch 80/1000\n",
            "17/20 [========================>.....] - ETA: 0s - loss: 0.5917 - accuracy: 0.7656\n",
            "Epoch 80: saving model to model/keypoint_classifier\\keypoint_classifier.hdf5\n",
            "20/20 [==============================] - 0s 25ms/step - loss: 0.5931 - accuracy: 0.7625 - val_loss: 0.2735 - val_accuracy: 0.9681\n",
            "Epoch 81/1000\n",
            "16/20 [=======================>......] - ETA: 0s - loss: 0.5955 - accuracy: 0.7588\n",
            "Epoch 81: saving model to model/keypoint_classifier\\keypoint_classifier.hdf5\n",
            "20/20 [==============================] - 0s 20ms/step - loss: 0.5876 - accuracy: 0.7649 - val_loss: 0.2647 - val_accuracy: 0.9804\n",
            "Epoch 82/1000\n",
            "14/20 [====================>.........] - ETA: 0s - loss: 0.5756 - accuracy: 0.7706\n",
            "Epoch 82: saving model to model/keypoint_classifier\\keypoint_classifier.hdf5\n",
            "20/20 [==============================] - 0s 19ms/step - loss: 0.5726 - accuracy: 0.7694 - val_loss: 0.2634 - val_accuracy: 0.9792\n",
            "Epoch 83/1000\n",
            "19/20 [===========================>..] - ETA: 0s - loss: 0.5785 - accuracy: 0.7636\n",
            "Epoch 83: saving model to model/keypoint_classifier\\keypoint_classifier.hdf5\n",
            "20/20 [==============================] - 0s 15ms/step - loss: 0.5785 - accuracy: 0.7637 - val_loss: 0.2584 - val_accuracy: 0.9718\n",
            "Epoch 84/1000\n",
            "17/20 [========================>.....] - ETA: 0s - loss: 0.5504 - accuracy: 0.7688\n",
            "Epoch 84: saving model to model/keypoint_classifier\\keypoint_classifier.hdf5\n",
            "20/20 [==============================] - 0s 23ms/step - loss: 0.5540 - accuracy: 0.7686 - val_loss: 0.2565 - val_accuracy: 0.9804\n",
            "Epoch 85/1000\n",
            "17/20 [========================>.....] - ETA: 0s - loss: 0.5870 - accuracy: 0.7665\n",
            "Epoch 85: saving model to model/keypoint_classifier\\keypoint_classifier.hdf5\n",
            "20/20 [==============================] - 0s 22ms/step - loss: 0.5885 - accuracy: 0.7633 - val_loss: 0.2526 - val_accuracy: 0.9755\n",
            "Epoch 86/1000\n",
            "16/20 [=======================>......] - ETA: 0s - loss: 0.5738 - accuracy: 0.7725\n",
            "Epoch 86: saving model to model/keypoint_classifier\\keypoint_classifier.hdf5\n",
            "20/20 [==============================] - 0s 23ms/step - loss: 0.5678 - accuracy: 0.7751 - val_loss: 0.2527 - val_accuracy: 0.9767\n",
            "Epoch 87/1000\n",
            "19/20 [===========================>..] - ETA: 0s - loss: 0.5662 - accuracy: 0.7718\n",
            "Epoch 87: saving model to model/keypoint_classifier\\keypoint_classifier.hdf5\n",
            "20/20 [==============================] - 0s 13ms/step - loss: 0.5655 - accuracy: 0.7719 - val_loss: 0.2576 - val_accuracy: 0.9816\n",
            "Epoch 88/1000\n",
            "16/20 [=======================>......] - ETA: 0s - loss: 0.5779 - accuracy: 0.7812\n",
            "Epoch 88: saving model to model/keypoint_classifier\\keypoint_classifier.hdf5\n",
            "20/20 [==============================] - 0s 23ms/step - loss: 0.5632 - accuracy: 0.7845 - val_loss: 0.2542 - val_accuracy: 0.9816\n",
            "Epoch 89/1000\n",
            "17/20 [========================>.....] - ETA: 0s - loss: 0.5570 - accuracy: 0.7799\n",
            "Epoch 89: saving model to model/keypoint_classifier\\keypoint_classifier.hdf5\n",
            "20/20 [==============================] - 0s 25ms/step - loss: 0.5577 - accuracy: 0.7800 - val_loss: 0.2493 - val_accuracy: 0.9828\n",
            "Epoch 90/1000\n",
            "18/20 [==========================>...] - ETA: 0s - loss: 0.5570 - accuracy: 0.7799\n",
            "Epoch 90: saving model to model/keypoint_classifier\\keypoint_classifier.hdf5\n",
            "20/20 [==============================] - 0s 18ms/step - loss: 0.5593 - accuracy: 0.7788 - val_loss: 0.2487 - val_accuracy: 0.9792\n",
            "Epoch 91/1000\n",
            "20/20 [==============================] - ETA: 0s - loss: 0.5545 - accuracy: 0.7805\n",
            "Epoch 91: saving model to model/keypoint_classifier\\keypoint_classifier.hdf5\n",
            "20/20 [==============================] - 0s 15ms/step - loss: 0.5545 - accuracy: 0.7805 - val_loss: 0.2421 - val_accuracy: 0.9828\n",
            "Epoch 92/1000\n",
            "16/20 [=======================>......] - ETA: 0s - loss: 0.5477 - accuracy: 0.7817\n",
            "Epoch 92: saving model to model/keypoint_classifier\\keypoint_classifier.hdf5\n",
            "20/20 [==============================] - 0s 21ms/step - loss: 0.5545 - accuracy: 0.7768 - val_loss: 0.2439 - val_accuracy: 0.9804\n",
            "Epoch 93/1000\n",
            "19/20 [===========================>..] - ETA: 0s - loss: 0.5609 - accuracy: 0.7747\n",
            "Epoch 93: saving model to model/keypoint_classifier\\keypoint_classifier.hdf5\n",
            "20/20 [==============================] - 2s 82ms/step - loss: 0.5598 - accuracy: 0.7751 - val_loss: 0.2501 - val_accuracy: 0.9816\n",
            "Epoch 94/1000\n",
            "14/20 [====================>.........] - ETA: 0s - loss: 0.5358 - accuracy: 0.7985\n",
            "Epoch 94: saving model to model/keypoint_classifier\\keypoint_classifier.hdf5\n",
            "20/20 [==============================] - 0s 12ms/step - loss: 0.5610 - accuracy: 0.7829 - val_loss: 0.2478 - val_accuracy: 0.9779\n",
            "Epoch 95/1000\n",
            "13/20 [==================>...........] - ETA: 0s - loss: 0.5430 - accuracy: 0.7837\n",
            "Epoch 95: saving model to model/keypoint_classifier\\keypoint_classifier.hdf5\n",
            "20/20 [==============================] - 0s 18ms/step - loss: 0.5589 - accuracy: 0.7772 - val_loss: 0.2375 - val_accuracy: 0.9841\n",
            "Epoch 96/1000\n",
            "20/20 [==============================] - ETA: 0s - loss: 0.5467 - accuracy: 0.7850\n",
            "Epoch 96: saving model to model/keypoint_classifier\\keypoint_classifier.hdf5\n",
            "20/20 [==============================] - 0s 15ms/step - loss: 0.5467 - accuracy: 0.7850 - val_loss: 0.2404 - val_accuracy: 0.9841\n",
            "Epoch 97/1000\n",
            "14/20 [====================>.........] - ETA: 0s - loss: 0.5235 - accuracy: 0.7924\n",
            "Epoch 97: saving model to model/keypoint_classifier\\keypoint_classifier.hdf5\n",
            "20/20 [==============================] - 0s 13ms/step - loss: 0.5360 - accuracy: 0.7845 - val_loss: 0.2297 - val_accuracy: 0.9841\n",
            "Epoch 98/1000\n",
            "20/20 [==============================] - ETA: 0s - loss: 0.5545 - accuracy: 0.7788\n",
            "Epoch 98: saving model to model/keypoint_classifier\\keypoint_classifier.hdf5\n",
            "20/20 [==============================] - 1s 28ms/step - loss: 0.5545 - accuracy: 0.7788 - val_loss: 0.2279 - val_accuracy: 0.9804\n",
            "Epoch 99/1000\n",
            "19/20 [===========================>..] - ETA: 0s - loss: 0.5510 - accuracy: 0.7837\n",
            "Epoch 99: saving model to model/keypoint_classifier\\keypoint_classifier.hdf5\n",
            "20/20 [==============================] - 0s 24ms/step - loss: 0.5523 - accuracy: 0.7829 - val_loss: 0.2343 - val_accuracy: 0.9816\n",
            "Epoch 100/1000\n",
            "15/20 [=====================>........] - ETA: 0s - loss: 0.5508 - accuracy: 0.7844\n",
            "Epoch 100: saving model to model/keypoint_classifier\\keypoint_classifier.hdf5\n",
            "20/20 [==============================] - 0s 11ms/step - loss: 0.5621 - accuracy: 0.7805 - val_loss: 0.2297 - val_accuracy: 0.9853\n",
            "Epoch 101/1000\n",
            "14/20 [====================>.........] - ETA: 0s - loss: 0.5278 - accuracy: 0.7829\n",
            "Epoch 101: saving model to model/keypoint_classifier\\keypoint_classifier.hdf5\n",
            "20/20 [==============================] - 0s 17ms/step - loss: 0.5338 - accuracy: 0.7841 - val_loss: 0.2305 - val_accuracy: 0.9828\n",
            "Epoch 102/1000\n",
            "16/20 [=======================>......] - ETA: 0s - loss: 0.5382 - accuracy: 0.7881\n",
            "Epoch 102: saving model to model/keypoint_classifier\\keypoint_classifier.hdf5\n",
            "20/20 [==============================] - 0s 21ms/step - loss: 0.5417 - accuracy: 0.7854 - val_loss: 0.2303 - val_accuracy: 0.9828\n",
            "Epoch 103/1000\n",
            "15/20 [=====================>........] - ETA: 0s - loss: 0.5214 - accuracy: 0.7880\n",
            "Epoch 103: saving model to model/keypoint_classifier\\keypoint_classifier.hdf5\n",
            "20/20 [==============================] - 0s 18ms/step - loss: 0.5258 - accuracy: 0.7874 - val_loss: 0.2340 - val_accuracy: 0.9841\n",
            "Epoch 104/1000\n",
            "17/20 [========================>.....] - ETA: 0s - loss: 0.5125 - accuracy: 0.7849\n",
            "Epoch 104: saving model to model/keypoint_classifier\\keypoint_classifier.hdf5\n",
            "20/20 [==============================] - 0s 14ms/step - loss: 0.5172 - accuracy: 0.7833 - val_loss: 0.2202 - val_accuracy: 0.9828\n",
            "Epoch 105/1000\n",
            "20/20 [==============================] - ETA: 0s - loss: 0.5425 - accuracy: 0.7751\n",
            "Epoch 105: saving model to model/keypoint_classifier\\keypoint_classifier.hdf5\n",
            "20/20 [==============================] - 0s 21ms/step - loss: 0.5425 - accuracy: 0.7751 - val_loss: 0.2216 - val_accuracy: 0.9841\n",
            "Epoch 106/1000\n",
            "16/20 [=======================>......] - ETA: 0s - loss: 0.5243 - accuracy: 0.8037\n",
            "Epoch 106: saving model to model/keypoint_classifier\\keypoint_classifier.hdf5\n",
            "20/20 [==============================] - 0s 24ms/step - loss: 0.5360 - accuracy: 0.7939 - val_loss: 0.2326 - val_accuracy: 0.9841\n",
            "Epoch 107/1000\n",
            "20/20 [==============================] - ETA: 0s - loss: 0.5130 - accuracy: 0.7956\n",
            "Epoch 107: saving model to model/keypoint_classifier\\keypoint_classifier.hdf5\n",
            "20/20 [==============================] - 0s 14ms/step - loss: 0.5130 - accuracy: 0.7956 - val_loss: 0.2264 - val_accuracy: 0.9841\n",
            "Epoch 108/1000\n",
            "18/20 [==========================>...] - ETA: 0s - loss: 0.5131 - accuracy: 0.7860\n",
            "Epoch 108: saving model to model/keypoint_classifier\\keypoint_classifier.hdf5\n",
            "20/20 [==============================] - 0s 10ms/step - loss: 0.5120 - accuracy: 0.7866 - val_loss: 0.2214 - val_accuracy: 0.9841\n",
            "Epoch 109/1000\n",
            "15/20 [=====================>........] - ETA: 0s - loss: 0.5216 - accuracy: 0.7922\n",
            "Epoch 109: saving model to model/keypoint_classifier\\keypoint_classifier.hdf5\n",
            "20/20 [==============================] - 0s 18ms/step - loss: 0.5232 - accuracy: 0.7919 - val_loss: 0.2151 - val_accuracy: 0.9828\n",
            "Epoch 110/1000\n",
            "11/20 [===============>..............] - ETA: 0s - loss: 0.5133 - accuracy: 0.7869\n",
            "Epoch 110: saving model to model/keypoint_classifier\\keypoint_classifier.hdf5\n",
            "20/20 [==============================] - 0s 15ms/step - loss: 0.5258 - accuracy: 0.7800 - val_loss: 0.2127 - val_accuracy: 0.9841\n",
            "Epoch 111/1000\n",
            "17/20 [========================>.....] - ETA: 0s - loss: 0.4974 - accuracy: 0.8015\n",
            "Epoch 111: saving model to model/keypoint_classifier\\keypoint_classifier.hdf5\n",
            "20/20 [==============================] - 0s 21ms/step - loss: 0.5001 - accuracy: 0.7984 - val_loss: 0.2077 - val_accuracy: 0.9841\n",
            "Epoch 112/1000\n",
            "16/20 [=======================>......] - ETA: 0s - loss: 0.5138 - accuracy: 0.7959\n",
            "Epoch 112: saving model to model/keypoint_classifier\\keypoint_classifier.hdf5\n",
            "20/20 [==============================] - 1s 30ms/step - loss: 0.5253 - accuracy: 0.7915 - val_loss: 0.2134 - val_accuracy: 0.9841\n",
            "Epoch 113/1000\n",
            "16/20 [=======================>......] - ETA: 0s - loss: 0.5218 - accuracy: 0.7935\n",
            "Epoch 113: saving model to model/keypoint_classifier\\keypoint_classifier.hdf5\n",
            "20/20 [==============================] - 0s 18ms/step - loss: 0.5230 - accuracy: 0.7939 - val_loss: 0.2086 - val_accuracy: 0.9841\n",
            "Epoch 114/1000\n",
            " 1/20 [>.............................] - ETA: 0s - loss: 0.3904 - accuracy: 0.8594\n",
            "Epoch 114: saving model to model/keypoint_classifier\\keypoint_classifier.hdf5\n",
            "20/20 [==============================] - 0s 10ms/step - loss: 0.5008 - accuracy: 0.7939 - val_loss: 0.2078 - val_accuracy: 0.9841\n",
            "Epoch 115/1000\n",
            "17/20 [========================>.....] - ETA: 0s - loss: 0.5389 - accuracy: 0.7932\n",
            "Epoch 115: saving model to model/keypoint_classifier\\keypoint_classifier.hdf5\n",
            "20/20 [==============================] - 0s 22ms/step - loss: 0.5380 - accuracy: 0.7939 - val_loss: 0.2176 - val_accuracy: 0.9804\n",
            "Epoch 116/1000\n",
            "16/20 [=======================>......] - ETA: 0s - loss: 0.5411 - accuracy: 0.7920\n",
            "Epoch 116: saving model to model/keypoint_classifier\\keypoint_classifier.hdf5\n",
            "20/20 [==============================] - 0s 19ms/step - loss: 0.5379 - accuracy: 0.7952 - val_loss: 0.2128 - val_accuracy: 0.9841\n",
            "Epoch 117/1000\n",
            "18/20 [==========================>...] - ETA: 0s - loss: 0.5135 - accuracy: 0.8003\n",
            "Epoch 117: saving model to model/keypoint_classifier\\keypoint_classifier.hdf5\n",
            "20/20 [==============================] - 0s 15ms/step - loss: 0.5166 - accuracy: 0.8001 - val_loss: 0.2059 - val_accuracy: 0.9828\n",
            "Epoch 118/1000\n",
            "16/20 [=======================>......] - ETA: 0s - loss: 0.4975 - accuracy: 0.8037\n",
            "Epoch 118: saving model to model/keypoint_classifier\\keypoint_classifier.hdf5\n",
            "20/20 [==============================] - 0s 25ms/step - loss: 0.5006 - accuracy: 0.7993 - val_loss: 0.2084 - val_accuracy: 0.9841\n",
            "Epoch 119/1000\n",
            "17/20 [========================>.....] - ETA: 0s - loss: 0.4937 - accuracy: 0.7973\n",
            "Epoch 119: saving model to model/keypoint_classifier\\keypoint_classifier.hdf5\n",
            "20/20 [==============================] - 0s 25ms/step - loss: 0.4912 - accuracy: 0.8021 - val_loss: 0.2008 - val_accuracy: 0.9853\n",
            "Epoch 120/1000\n",
            "16/20 [=======================>......] - ETA: 0s - loss: 0.4965 - accuracy: 0.8022\n",
            "Epoch 120: saving model to model/keypoint_classifier\\keypoint_classifier.hdf5\n",
            "20/20 [==============================] - 0s 24ms/step - loss: 0.5098 - accuracy: 0.7944 - val_loss: 0.2026 - val_accuracy: 0.9841\n",
            "Epoch 121/1000\n",
            "16/20 [=======================>......] - ETA: 0s - loss: 0.4908 - accuracy: 0.8047\n",
            "Epoch 121: saving model to model/keypoint_classifier\\keypoint_classifier.hdf5\n",
            "20/20 [==============================] - 0s 25ms/step - loss: 0.4854 - accuracy: 0.8054 - val_loss: 0.2002 - val_accuracy: 0.9841\n",
            "Epoch 122/1000\n",
            "16/20 [=======================>......] - ETA: 0s - loss: 0.4941 - accuracy: 0.8052\n",
            "Epoch 122: saving model to model/keypoint_classifier\\keypoint_classifier.hdf5\n",
            "20/20 [==============================] - 0s 21ms/step - loss: 0.4945 - accuracy: 0.8066 - val_loss: 0.2020 - val_accuracy: 0.9841\n",
            "Epoch 123/1000\n",
            "15/20 [=====================>........] - ETA: 0s - loss: 0.5006 - accuracy: 0.8005\n",
            "Epoch 123: saving model to model/keypoint_classifier\\keypoint_classifier.hdf5\n",
            "20/20 [==============================] - 0s 12ms/step - loss: 0.4951 - accuracy: 0.8038 - val_loss: 0.1939 - val_accuracy: 0.9841\n",
            "Epoch 124/1000\n",
            "16/20 [=======================>......] - ETA: 0s - loss: 0.5164 - accuracy: 0.7939\n",
            "Epoch 124: saving model to model/keypoint_classifier\\keypoint_classifier.hdf5\n",
            "20/20 [==============================] - 1s 27ms/step - loss: 0.5111 - accuracy: 0.8009 - val_loss: 0.2052 - val_accuracy: 0.9841\n",
            "Epoch 125/1000\n",
            "19/20 [===========================>..] - ETA: 0s - loss: 0.4781 - accuracy: 0.8113\n",
            "Epoch 125: saving model to model/keypoint_classifier\\keypoint_classifier.hdf5\n",
            "20/20 [==============================] - 0s 14ms/step - loss: 0.4767 - accuracy: 0.8119 - val_loss: 0.2038 - val_accuracy: 0.9828\n",
            "Epoch 126/1000\n",
            "14/20 [====================>.........] - ETA: 0s - loss: 0.5179 - accuracy: 0.7930\n",
            "Epoch 126: saving model to model/keypoint_classifier\\keypoint_classifier.hdf5\n",
            "20/20 [==============================] - 0s 17ms/step - loss: 0.5058 - accuracy: 0.7964 - val_loss: 0.1978 - val_accuracy: 0.9841\n",
            "Epoch 127/1000\n",
            "17/20 [========================>.....] - ETA: 0s - loss: 0.5275 - accuracy: 0.7904\n",
            "Epoch 127: saving model to model/keypoint_classifier\\keypoint_classifier.hdf5\n",
            "20/20 [==============================] - 0s 21ms/step - loss: 0.5198 - accuracy: 0.7923 - val_loss: 0.2023 - val_accuracy: 0.9841\n",
            "Epoch 128/1000\n",
            "16/20 [=======================>......] - ETA: 0s - loss: 0.5024 - accuracy: 0.7959\n",
            "Epoch 128: saving model to model/keypoint_classifier\\keypoint_classifier.hdf5\n",
            "20/20 [==============================] - 0s 19ms/step - loss: 0.5073 - accuracy: 0.7944 - val_loss: 0.1970 - val_accuracy: 0.9853\n",
            "Epoch 129/1000\n",
            "11/20 [===============>..............] - ETA: 0s - loss: 0.4820 - accuracy: 0.8146\n",
            "Epoch 129: saving model to model/keypoint_classifier\\keypoint_classifier.hdf5\n",
            "20/20 [==============================] - 0s 14ms/step - loss: 0.4874 - accuracy: 0.8021 - val_loss: 0.1946 - val_accuracy: 0.9841\n",
            "Epoch 130/1000\n",
            "16/20 [=======================>......] - ETA: 0s - loss: 0.5010 - accuracy: 0.8057\n",
            "Epoch 130: saving model to model/keypoint_classifier\\keypoint_classifier.hdf5\n",
            "20/20 [==============================] - 0s 21ms/step - loss: 0.4944 - accuracy: 0.8095 - val_loss: 0.1976 - val_accuracy: 0.9853\n",
            "Epoch 131/1000\n",
            "11/20 [===============>..............] - ETA: 0s - loss: 0.5142 - accuracy: 0.7919\n",
            "Epoch 131: saving model to model/keypoint_classifier\\keypoint_classifier.hdf5\n",
            "20/20 [==============================] - 0s 17ms/step - loss: 0.5063 - accuracy: 0.7919 - val_loss: 0.2000 - val_accuracy: 0.9841\n",
            "Epoch 132/1000\n",
            "18/20 [==========================>...] - ETA: 0s - loss: 0.5161 - accuracy: 0.7943\n",
            "Epoch 132: saving model to model/keypoint_classifier\\keypoint_classifier.hdf5\n",
            "20/20 [==============================] - 0s 20ms/step - loss: 0.5128 - accuracy: 0.7964 - val_loss: 0.2017 - val_accuracy: 0.9841\n",
            "Epoch 133/1000\n",
            "16/20 [=======================>......] - ETA: 0s - loss: 0.5150 - accuracy: 0.7861\n",
            "Epoch 133: saving model to model/keypoint_classifier\\keypoint_classifier.hdf5\n",
            "20/20 [==============================] - 0s 24ms/step - loss: 0.5024 - accuracy: 0.7935 - val_loss: 0.2079 - val_accuracy: 0.9828\n",
            "Epoch 134/1000\n",
            "16/20 [=======================>......] - ETA: 0s - loss: 0.4651 - accuracy: 0.8193\n",
            "Epoch 134: saving model to model/keypoint_classifier\\keypoint_classifier.hdf5\n",
            "20/20 [==============================] - 0s 23ms/step - loss: 0.4698 - accuracy: 0.8128 - val_loss: 0.1963 - val_accuracy: 0.9841\n",
            "Epoch 135/1000\n",
            "16/20 [=======================>......] - ETA: 0s - loss: 0.4772 - accuracy: 0.8091\n",
            "Epoch 135: saving model to model/keypoint_classifier\\keypoint_classifier.hdf5\n",
            "20/20 [==============================] - 0s 22ms/step - loss: 0.4868 - accuracy: 0.8042 - val_loss: 0.1886 - val_accuracy: 0.9841\n",
            "Epoch 136/1000\n",
            "16/20 [=======================>......] - ETA: 0s - loss: 0.4960 - accuracy: 0.8076\n",
            "Epoch 136: saving model to model/keypoint_classifier\\keypoint_classifier.hdf5\n",
            "20/20 [==============================] - 0s 21ms/step - loss: 0.5027 - accuracy: 0.8017 - val_loss: 0.1867 - val_accuracy: 0.9853\n",
            "Epoch 137/1000\n",
            "16/20 [=======================>......] - ETA: 0s - loss: 0.4888 - accuracy: 0.8066\n",
            "Epoch 137: saving model to model/keypoint_classifier\\keypoint_classifier.hdf5\n",
            "20/20 [==============================] - 1s 27ms/step - loss: 0.4825 - accuracy: 0.8091 - val_loss: 0.1851 - val_accuracy: 0.9853\n",
            "Epoch 138/1000\n",
            "17/20 [========================>.....] - ETA: 0s - loss: 0.4705 - accuracy: 0.8051\n",
            "Epoch 138: saving model to model/keypoint_classifier\\keypoint_classifier.hdf5\n",
            "20/20 [==============================] - 0s 25ms/step - loss: 0.4769 - accuracy: 0.8034 - val_loss: 0.1976 - val_accuracy: 0.9828\n",
            "Epoch 139/1000\n",
            "19/20 [===========================>..] - ETA: 0s - loss: 0.4772 - accuracy: 0.8076\n",
            "Epoch 139: saving model to model/keypoint_classifier\\keypoint_classifier.hdf5\n",
            "20/20 [==============================] - 0s 14ms/step - loss: 0.4767 - accuracy: 0.8078 - val_loss: 0.1943 - val_accuracy: 0.9841\n",
            "Epoch 140/1000\n",
            "16/20 [=======================>......] - ETA: 0s - loss: 0.4863 - accuracy: 0.8027\n",
            "Epoch 140: saving model to model/keypoint_classifier\\keypoint_classifier.hdf5\n",
            "20/20 [==============================] - 0s 20ms/step - loss: 0.4887 - accuracy: 0.8034 - val_loss: 0.1929 - val_accuracy: 0.9853\n",
            "Epoch 141/1000\n",
            "16/20 [=======================>......] - ETA: 0s - loss: 0.5121 - accuracy: 0.7871\n",
            "Epoch 141: saving model to model/keypoint_classifier\\keypoint_classifier.hdf5\n",
            "20/20 [==============================] - 1s 27ms/step - loss: 0.4998 - accuracy: 0.7972 - val_loss: 0.1978 - val_accuracy: 0.9865\n",
            "Epoch 142/1000\n",
            "17/20 [========================>.....] - ETA: 0s - loss: 0.4785 - accuracy: 0.7983\n",
            "Epoch 142: saving model to model/keypoint_classifier\\keypoint_classifier.hdf5\n",
            "20/20 [==============================] - 0s 22ms/step - loss: 0.4795 - accuracy: 0.8001 - val_loss: 0.1839 - val_accuracy: 0.9865\n",
            "Epoch 143/1000\n",
            "16/20 [=======================>......] - ETA: 0s - loss: 0.4891 - accuracy: 0.7954\n",
            "Epoch 143: saving model to model/keypoint_classifier\\keypoint_classifier.hdf5\n",
            "20/20 [==============================] - 0s 25ms/step - loss: 0.4827 - accuracy: 0.7976 - val_loss: 0.1837 - val_accuracy: 0.9853\n",
            "Epoch 144/1000\n",
            "19/20 [===========================>..] - ETA: 0s - loss: 0.4833 - accuracy: 0.8084\n",
            "Epoch 144: saving model to model/keypoint_classifier\\keypoint_classifier.hdf5\n",
            "20/20 [==============================] - 0s 19ms/step - loss: 0.4820 - accuracy: 0.8095 - val_loss: 0.1893 - val_accuracy: 0.9841\n",
            "Epoch 145/1000\n",
            "16/20 [=======================>......] - ETA: 0s - loss: 0.4721 - accuracy: 0.8096\n",
            "Epoch 145: saving model to model/keypoint_classifier\\keypoint_classifier.hdf5\n",
            "20/20 [==============================] - 0s 13ms/step - loss: 0.4675 - accuracy: 0.8123 - val_loss: 0.1885 - val_accuracy: 0.9841\n",
            "Epoch 146/1000\n",
            "15/20 [=====================>........] - ETA: 0s - loss: 0.4581 - accuracy: 0.8302\n",
            "Epoch 146: saving model to model/keypoint_classifier\\keypoint_classifier.hdf5\n",
            "20/20 [==============================] - 0s 15ms/step - loss: 0.4685 - accuracy: 0.8246 - val_loss: 0.1797 - val_accuracy: 0.9853\n",
            "Epoch 147/1000\n",
            "14/20 [====================>.........] - ETA: 0s - loss: 0.4608 - accuracy: 0.8164\n",
            "Epoch 147: saving model to model/keypoint_classifier\\keypoint_classifier.hdf5\n",
            "20/20 [==============================] - 0s 14ms/step - loss: 0.4548 - accuracy: 0.8173 - val_loss: 0.1760 - val_accuracy: 0.9853\n",
            "Epoch 148/1000\n",
            "17/20 [========================>.....] - ETA: 0s - loss: 0.5109 - accuracy: 0.7895\n",
            "Epoch 148: saving model to model/keypoint_classifier\\keypoint_classifier.hdf5\n",
            "20/20 [==============================] - 0s 21ms/step - loss: 0.5101 - accuracy: 0.7927 - val_loss: 0.1843 - val_accuracy: 0.9865\n",
            "Epoch 149/1000\n",
            "15/20 [=====================>........] - ETA: 0s - loss: 0.5020 - accuracy: 0.8042\n",
            "Epoch 149: saving model to model/keypoint_classifier\\keypoint_classifier.hdf5\n",
            "20/20 [==============================] - 0s 19ms/step - loss: 0.4913 - accuracy: 0.8070 - val_loss: 0.1905 - val_accuracy: 0.9841\n",
            "Epoch 150/1000\n",
            "16/20 [=======================>......] - ETA: 0s - loss: 0.4912 - accuracy: 0.8120\n",
            "Epoch 150: saving model to model/keypoint_classifier\\keypoint_classifier.hdf5\n",
            "20/20 [==============================] - 1s 29ms/step - loss: 0.4872 - accuracy: 0.8136 - val_loss: 0.1873 - val_accuracy: 0.9853\n",
            "Epoch 151/1000\n",
            "17/20 [========================>.....] - ETA: 0s - loss: 0.4637 - accuracy: 0.8217\n",
            "Epoch 151: saving model to model/keypoint_classifier\\keypoint_classifier.hdf5\n",
            "20/20 [==============================] - 0s 21ms/step - loss: 0.4636 - accuracy: 0.8209 - val_loss: 0.1775 - val_accuracy: 0.9865\n",
            "Epoch 152/1000\n",
            "12/20 [=================>............] - ETA: 0s - loss: 0.4782 - accuracy: 0.8092\n",
            "Epoch 152: saving model to model/keypoint_classifier\\keypoint_classifier.hdf5\n",
            "20/20 [==============================] - 0s 12ms/step - loss: 0.4636 - accuracy: 0.8140 - val_loss: 0.1790 - val_accuracy: 0.9865\n",
            "Epoch 153/1000\n",
            "15/20 [=====================>........] - ETA: 0s - loss: 0.4730 - accuracy: 0.8193\n",
            "Epoch 153: saving model to model/keypoint_classifier\\keypoint_classifier.hdf5\n",
            "20/20 [==============================] - 0s 9ms/step - loss: 0.4793 - accuracy: 0.8144 - val_loss: 0.1847 - val_accuracy: 0.9841\n",
            "Epoch 154/1000\n",
            "15/20 [=====================>........] - ETA: 0s - loss: 0.4656 - accuracy: 0.8125\n",
            "Epoch 154: saving model to model/keypoint_classifier\\keypoint_classifier.hdf5\n",
            "20/20 [==============================] - 0s 9ms/step - loss: 0.4673 - accuracy: 0.8115 - val_loss: 0.1827 - val_accuracy: 0.9841\n",
            "Epoch 155/1000\n",
            "19/20 [===========================>..] - ETA: 0s - loss: 0.4648 - accuracy: 0.8117\n",
            "Epoch 155: saving model to model/keypoint_classifier\\keypoint_classifier.hdf5\n",
            "20/20 [==============================] - 0s 12ms/step - loss: 0.4645 - accuracy: 0.8123 - val_loss: 0.1825 - val_accuracy: 0.9841\n",
            "Epoch 156/1000\n",
            "16/20 [=======================>......] - ETA: 0s - loss: 0.4880 - accuracy: 0.8008\n",
            "Epoch 156: saving model to model/keypoint_classifier\\keypoint_classifier.hdf5\n",
            "20/20 [==============================] - 0s 20ms/step - loss: 0.4806 - accuracy: 0.8034 - val_loss: 0.1915 - val_accuracy: 0.9890\n",
            "Epoch 157/1000\n",
            "16/20 [=======================>......] - ETA: 0s - loss: 0.4651 - accuracy: 0.8169\n",
            "Epoch 157: saving model to model/keypoint_classifier\\keypoint_classifier.hdf5\n",
            "20/20 [==============================] - 0s 21ms/step - loss: 0.4622 - accuracy: 0.8164 - val_loss: 0.1825 - val_accuracy: 0.9877\n",
            "Epoch 158/1000\n",
            "14/20 [====================>.........] - ETA: 0s - loss: 0.4815 - accuracy: 0.8164\n",
            "Epoch 158: saving model to model/keypoint_classifier\\keypoint_classifier.hdf5\n",
            "20/20 [==============================] - 0s 20ms/step - loss: 0.4687 - accuracy: 0.8217 - val_loss: 0.1789 - val_accuracy: 0.9865\n",
            "Epoch 159/1000\n",
            "17/20 [========================>.....] - ETA: 0s - loss: 0.4991 - accuracy: 0.8015\n",
            "Epoch 159: saving model to model/keypoint_classifier\\keypoint_classifier.hdf5\n",
            "20/20 [==============================] - 0s 22ms/step - loss: 0.4961 - accuracy: 0.7997 - val_loss: 0.1759 - val_accuracy: 0.9865\n",
            "Epoch 160/1000\n",
            "17/20 [========================>.....] - ETA: 0s - loss: 0.4590 - accuracy: 0.8051\n",
            "Epoch 160: saving model to model/keypoint_classifier\\keypoint_classifier.hdf5\n",
            "20/20 [==============================] - 0s 17ms/step - loss: 0.4603 - accuracy: 0.8074 - val_loss: 0.1765 - val_accuracy: 0.9865\n",
            "Epoch 161/1000\n",
            "12/20 [=================>............] - ETA: 0s - loss: 0.4642 - accuracy: 0.8197\n",
            "Epoch 161: saving model to model/keypoint_classifier\\keypoint_classifier.hdf5\n",
            "20/20 [==============================] - 0s 14ms/step - loss: 0.4709 - accuracy: 0.8119 - val_loss: 0.1897 - val_accuracy: 0.9853\n",
            "Epoch 162/1000\n",
            "14/20 [====================>.........] - ETA: 0s - loss: 0.4824 - accuracy: 0.8103\n",
            "Epoch 162: saving model to model/keypoint_classifier\\keypoint_classifier.hdf5\n",
            "20/20 [==============================] - 0s 13ms/step - loss: 0.4685 - accuracy: 0.8132 - val_loss: 0.1741 - val_accuracy: 0.9865\n",
            "Epoch 163/1000\n",
            "14/20 [====================>.........] - ETA: 0s - loss: 0.4389 - accuracy: 0.8304\n",
            "Epoch 163: saving model to model/keypoint_classifier\\keypoint_classifier.hdf5\n",
            "20/20 [==============================] - 0s 11ms/step - loss: 0.4421 - accuracy: 0.8250 - val_loss: 0.1642 - val_accuracy: 0.9865\n",
            "Epoch 164/1000\n",
            "19/20 [===========================>..] - ETA: 0s - loss: 0.4546 - accuracy: 0.8121\n",
            "Epoch 164: saving model to model/keypoint_classifier\\keypoint_classifier.hdf5\n",
            "20/20 [==============================] - 0s 24ms/step - loss: 0.4557 - accuracy: 0.8115 - val_loss: 0.1619 - val_accuracy: 0.9890\n",
            "Epoch 165/1000\n",
            "11/20 [===============>..............] - ETA: 0s - loss: 0.4519 - accuracy: 0.8175\n",
            "Epoch 165: saving model to model/keypoint_classifier\\keypoint_classifier.hdf5\n",
            "20/20 [==============================] - 0s 16ms/step - loss: 0.4548 - accuracy: 0.8201 - val_loss: 0.1738 - val_accuracy: 0.9890\n",
            "Epoch 166/1000\n",
            "19/20 [===========================>..] - ETA: 0s - loss: 0.4508 - accuracy: 0.8178\n",
            "Epoch 166: saving model to model/keypoint_classifier\\keypoint_classifier.hdf5\n",
            "20/20 [==============================] - 0s 16ms/step - loss: 0.4507 - accuracy: 0.8181 - val_loss: 0.1778 - val_accuracy: 0.9877\n",
            "Epoch 167/1000\n",
            "11/20 [===============>..............] - ETA: 0s - loss: 0.4555 - accuracy: 0.8175\n",
            "Epoch 167: saving model to model/keypoint_classifier\\keypoint_classifier.hdf5\n",
            "20/20 [==============================] - 0s 22ms/step - loss: 0.4472 - accuracy: 0.8238 - val_loss: 0.1709 - val_accuracy: 0.9902\n",
            "Epoch 168/1000\n",
            "19/20 [===========================>..] - ETA: 0s - loss: 0.4632 - accuracy: 0.8137\n",
            "Epoch 168: saving model to model/keypoint_classifier\\keypoint_classifier.hdf5\n",
            "20/20 [==============================] - 0s 17ms/step - loss: 0.4618 - accuracy: 0.8144 - val_loss: 0.1657 - val_accuracy: 0.9890\n",
            "Epoch 169/1000\n",
            "18/20 [==========================>...] - ETA: 0s - loss: 0.4714 - accuracy: 0.8108\n",
            "Epoch 169: saving model to model/keypoint_classifier\\keypoint_classifier.hdf5\n",
            "20/20 [==============================] - 0s 13ms/step - loss: 0.4723 - accuracy: 0.8099 - val_loss: 0.1736 - val_accuracy: 0.9890\n",
            "Epoch 170/1000\n",
            "14/20 [====================>.........] - ETA: 0s - loss: 0.4402 - accuracy: 0.8287\n",
            "Epoch 170: saving model to model/keypoint_classifier\\keypoint_classifier.hdf5\n",
            "20/20 [==============================] - 0s 15ms/step - loss: 0.4528 - accuracy: 0.8258 - val_loss: 0.1770 - val_accuracy: 0.9902\n",
            "Epoch 171/1000\n",
            "19/20 [===========================>..] - ETA: 0s - loss: 0.4519 - accuracy: 0.8100\n",
            "Epoch 171: saving model to model/keypoint_classifier\\keypoint_classifier.hdf5\n",
            "20/20 [==============================] - 0s 16ms/step - loss: 0.4535 - accuracy: 0.8095 - val_loss: 0.1732 - val_accuracy: 0.9890\n",
            "Epoch 172/1000\n",
            "16/20 [=======================>......] - ETA: 0s - loss: 0.4697 - accuracy: 0.8130\n",
            "Epoch 172: saving model to model/keypoint_classifier\\keypoint_classifier.hdf5\n",
            "20/20 [==============================] - 0s 14ms/step - loss: 0.4739 - accuracy: 0.8152 - val_loss: 0.1826 - val_accuracy: 0.9890\n",
            "Epoch 173/1000\n",
            "18/20 [==========================>...] - ETA: 0s - loss: 0.4541 - accuracy: 0.8234\n",
            "Epoch 173: saving model to model/keypoint_classifier\\keypoint_classifier.hdf5\n",
            "20/20 [==============================] - 0s 22ms/step - loss: 0.4549 - accuracy: 0.8217 - val_loss: 0.2012 - val_accuracy: 0.9779\n",
            "Epoch 174/1000\n",
            "12/20 [=================>............] - ETA: 0s - loss: 0.4742 - accuracy: 0.8164\n",
            "Epoch 174: saving model to model/keypoint_classifier\\keypoint_classifier.hdf5\n",
            "20/20 [==============================] - 0s 16ms/step - loss: 0.4627 - accuracy: 0.8173 - val_loss: 0.1741 - val_accuracy: 0.9853\n",
            "Epoch 175/1000\n",
            "17/20 [========================>.....] - ETA: 0s - loss: 0.4382 - accuracy: 0.8267\n",
            "Epoch 175: saving model to model/keypoint_classifier\\keypoint_classifier.hdf5\n",
            "20/20 [==============================] - 0s 19ms/step - loss: 0.4360 - accuracy: 0.8279 - val_loss: 0.1799 - val_accuracy: 0.9890\n",
            "Epoch 176/1000\n",
            "12/20 [=================>............] - ETA: 0s - loss: 0.4620 - accuracy: 0.8079\n",
            "Epoch 176: saving model to model/keypoint_classifier\\keypoint_classifier.hdf5\n",
            "20/20 [==============================] - 0s 18ms/step - loss: 0.4524 - accuracy: 0.8213 - val_loss: 0.1683 - val_accuracy: 0.9902\n",
            "Epoch 177/1000\n",
            "17/20 [========================>.....] - ETA: 0s - loss: 0.4603 - accuracy: 0.8185\n",
            "Epoch 177: saving model to model/keypoint_classifier\\keypoint_classifier.hdf5\n",
            "20/20 [==============================] - 0s 23ms/step - loss: 0.4570 - accuracy: 0.8168 - val_loss: 0.1748 - val_accuracy: 0.9902\n",
            "Epoch 178/1000\n",
            "16/20 [=======================>......] - ETA: 0s - loss: 0.4677 - accuracy: 0.8110\n",
            "Epoch 178: saving model to model/keypoint_classifier\\keypoint_classifier.hdf5\n",
            "20/20 [==============================] - 0s 21ms/step - loss: 0.4763 - accuracy: 0.8066 - val_loss: 0.1774 - val_accuracy: 0.9853\n",
            "Epoch 179/1000\n",
            "18/20 [==========================>...] - ETA: 0s - loss: 0.4651 - accuracy: 0.7990\n",
            "Epoch 179: saving model to model/keypoint_classifier\\keypoint_classifier.hdf5\n",
            "20/20 [==============================] - 0s 16ms/step - loss: 0.4673 - accuracy: 0.7993 - val_loss: 0.1738 - val_accuracy: 0.9877\n",
            "Epoch 180/1000\n",
            "13/20 [==================>...........] - ETA: 0s - loss: 0.4446 - accuracy: 0.8233\n",
            "Epoch 180: saving model to model/keypoint_classifier\\keypoint_classifier.hdf5\n",
            "20/20 [==============================] - 0s 14ms/step - loss: 0.4547 - accuracy: 0.8177 - val_loss: 0.1827 - val_accuracy: 0.9914\n",
            "Epoch 181/1000\n",
            "19/20 [===========================>..] - ETA: 0s - loss: 0.4497 - accuracy: 0.8240\n",
            "Epoch 181: saving model to model/keypoint_classifier\\keypoint_classifier.hdf5\n",
            "20/20 [==============================] - 0s 25ms/step - loss: 0.4505 - accuracy: 0.8226 - val_loss: 0.1779 - val_accuracy: 0.9890\n",
            "Epoch 182/1000\n",
            "14/20 [====================>.........] - ETA: 0s - loss: 0.4401 - accuracy: 0.8287\n",
            "Epoch 182: saving model to model/keypoint_classifier\\keypoint_classifier.hdf5\n",
            "20/20 [==============================] - 0s 11ms/step - loss: 0.4524 - accuracy: 0.8217 - val_loss: 0.1839 - val_accuracy: 0.9816\n",
            "Epoch 183/1000\n",
            "17/20 [========================>.....] - ETA: 0s - loss: 0.4516 - accuracy: 0.8222\n",
            "Epoch 183: saving model to model/keypoint_classifier\\keypoint_classifier.hdf5\n",
            "20/20 [==============================] - 0s 9ms/step - loss: 0.4452 - accuracy: 0.8271 - val_loss: 0.1681 - val_accuracy: 0.9914\n",
            "Epoch 184/1000\n",
            "16/20 [=======================>......] - ETA: 0s - loss: 0.4459 - accuracy: 0.8247\n",
            "Epoch 184: saving model to model/keypoint_classifier\\keypoint_classifier.hdf5\n",
            "20/20 [==============================] - 0s 17ms/step - loss: 0.4536 - accuracy: 0.8234 - val_loss: 0.1659 - val_accuracy: 0.9914\n",
            "Epoch 184: early stopping\n"
          ]
        },
        {
          "data": {
            "text/plain": [
              "<keras.callbacks.History at 0x25d904c6260>"
            ]
          },
          "execution_count": 11,
          "metadata": {},
          "output_type": "execute_result"
        }
      ],
      "source": [
        "model.fit(\n",
        "    X_train,\n",
        "    y_train,\n",
        "    epochs=1000,\n",
        "    batch_size=128,\n",
        "    validation_data=(X_test, y_test),\n",
        "    callbacks=[cp_callback, es_callback]\n",
        ")"
      ]
    },
    {
      "cell_type": "code",
      "execution_count": 12,
      "metadata": {
        "colab": {
          "base_uri": "https://localhost:8080/"
        },
        "id": "pxvb2Y299hE3",
        "outputId": "59eb3185-2e37-4b9e-bc9d-ab1b8ac29b7f"
      },
      "outputs": [
        {
          "name": "stdout",
          "output_type": "stream",
          "text": [
            "7/7 [==============================] - 0s 4ms/step - loss: 0.1659 - accuracy: 0.9914\n"
          ]
        }
      ],
      "source": [
        "# Model evaluation\n",
        "val_loss, val_acc = model.evaluate(X_test, y_test, batch_size=128)"
      ]
    },
    {
      "cell_type": "code",
      "execution_count": 13,
      "metadata": {
        "id": "RBkmDeUW9hE4"
      },
      "outputs": [],
      "source": [
        "# Loading the saved model\n",
        "model = tf.keras.models.load_model(model_save_path)"
      ]
    },
    {
      "cell_type": "code",
      "execution_count": 14,
      "metadata": {
        "colab": {
          "base_uri": "https://localhost:8080/"
        },
        "id": "tFz9Tb0I9hE4",
        "outputId": "1c3b3528-54ae-4ee2-ab04-77429211cbef"
      },
      "outputs": [
        {
          "name": "stdout",
          "output_type": "stream",
          "text": [
            "1/1 [==============================] - 0s 213ms/step\n",
            "[1.2590288e-02 6.4174868e-03 9.8611778e-08 9.6133775e-01 3.0182891e-03\n",
            " 4.6034734e-07 1.6635710e-02]\n",
            "3\n"
          ]
        }
      ],
      "source": [
        "# Inference test\n",
        "predict_result = model.predict(np.array([X_test[0]]))\n",
        "print(np.squeeze(predict_result))\n",
        "print(np.argmax(np.squeeze(predict_result)))"
      ]
    },
    {
      "cell_type": "markdown",
      "metadata": {
        "id": "S3U4yNWx9hE4"
      },
      "source": [
        "# Confusion matrix"
      ]
    },
    {
      "cell_type": "code",
      "execution_count": 15,
      "metadata": {
        "colab": {
          "base_uri": "https://localhost:8080/",
          "height": 582
        },
        "id": "AP1V6SCk9hE5",
        "outputId": "08e41a80-7a4a-4619-8125-ecc371368d19"
      },
      "outputs": [
        {
          "name": "stdout",
          "output_type": "stream",
          "text": [
            "26/26 [==============================] - 0s 1ms/step\n"
          ]
        },
        {
          "data": {
            "image/png": "[encoded data removed]",
            "text/plain": [
              "<Figure size 700x600 with 2 Axes>"
            ]
          },
          "metadata": {},
          "output_type": "display_data"
        },
        {
          "name": "stdout",
          "output_type": "stream",
          "text": [
            "Classification Report\n",
            "              precision    recall  f1-score   support\n",
            "\n",
            "           0       0.99      1.00      0.99       449\n",
            "           1       1.00      0.96      0.98        23\n",
            "           2       1.00      1.00      1.00        62\n",
            "           3       0.99      1.00      0.99        75\n",
            "           4       1.00      0.96      0.98        75\n",
            "           5       1.00      0.96      0.98        77\n",
            "           6       1.00      1.00      1.00        55\n",
            "\n",
            "    accuracy                           0.99       816\n",
            "   macro avg       1.00      0.98      0.99       816\n",
            "weighted avg       0.99      0.99      0.99       816\n",
            "\n"
          ]
        }
      ],
      "source": [
        "import pandas as pd\n",
        "import seaborn as sns\n",
        "import matplotlib.pyplot as plt\n",
        "from sklearn.metrics import confusion_matrix, classification_report\n",
        "\n",
        "def print_confusion_matrix(y_true, y_pred, report=True):\n",
        "    labels = sorted(list(set(y_true)))\n",
        "    cmx_data = confusion_matrix(y_true, y_pred, labels=labels)\n",
        "    \n",
        "    df_cmx = pd.DataFrame(cmx_data, index=labels, columns=labels)\n",
        " \n",
        "    fig, ax = plt.subplots(figsize=(7, 6))\n",
        "    sns.heatmap(df_cmx, annot=True, fmt='g' ,square=False)\n",
        "    ax.set_ylim(len(set(y_true)), 0)\n",
        "    plt.show()\n",
        "    \n",
        "    if report:\n",
        "        print('Classification Report')\n",
        "        print(classification_report(y_test, y_pred))\n",
        "\n",
        "Y_pred = model.predict(X_test)\n",
        "y_pred = np.argmax(Y_pred, axis=1)\n",
        "\n",
        "print_confusion_matrix(y_test, y_pred)"
      ]
    },
    {
      "cell_type": "markdown",
      "metadata": {
        "id": "FNP6aqzc9hE5"
      },
      "source": [
        "# Convert to model for Tensorflow-Lite"
      ]
    },
    {
      "cell_type": "code",
      "execution_count": 16,
      "metadata": {
        "id": "ODjnYyld9hE6"
      },
      "outputs": [],
      "source": [
        "# Save as a model dedicated to inference\n",
        "model.save(model_save_path, include_optimizer=False)"
      ]
    },
    {
      "cell_type": "code",
      "execution_count": 17,
      "metadata": {
        "colab": {
          "base_uri": "https://localhost:8080/"
        },
        "id": "zRfuK8Y59hE6",
        "outputId": "a4ca585c-b5d5-4244-8291-8674063209bb"
      },
      "outputs": [
        {
          "name": "stdout",
          "output_type": "stream",
          "text": [
            "INFO:tensorflow:Assets written to: C:\\Users\\irene\\AppData\\Local\\Temp\\tmp89vrtzez\\assets\n"
          ]
        },
        {
          "data": {
            "text/plain": [
              "6676"
            ]
          },
          "execution_count": 17,
          "metadata": {},
          "output_type": "execute_result"
        }
      ],
      "source": [
        "# Transform model (quantization)\n",
        "\n",
        "converter = tf.lite.TFLiteConverter.from_keras_model(model)\n",
        "converter.optimizations = [tf.lite.Optimize.DEFAULT]\n",
        "tflite_quantized_model = converter.convert()\n",
        "\n",
        "open(tflite_save_path, 'wb').write(tflite_quantized_model)"
      ]
    },
    {
      "cell_type": "markdown",
      "metadata": {
        "id": "CHBPBXdx9hE6"
      },
      "source": [
        "# Inference test"
      ]
    },
    {
      "cell_type": "code",
      "execution_count": 18,
      "metadata": {
        "id": "mGAzLocO9hE7"
      },
      "outputs": [],
      "source": [
        "interpreter = tf.lite.Interpreter(model_path=tflite_save_path)\n",
        "interpreter.allocate_tensors()"
      ]
    },
    {
      "cell_type": "code",
      "execution_count": 19,
      "metadata": {
        "id": "oQuDK8YS9hE7"
      },
      "outputs": [],
      "source": [
        "# Get I / O tensor\n",
        "input_details = interpreter.get_input_details()\n",
        "output_details = interpreter.get_output_details()"
      ]
    },
    {
      "cell_type": "code",
      "execution_count": 20,
      "metadata": {
        "id": "2_ixAf_l9hE7"
      },
      "outputs": [],
      "source": [
        "interpreter.set_tensor(input_details[0]['index'], np.array([X_test[0]]))"
      ]
    },
    {
      "cell_type": "code",
      "execution_count": 21,
      "metadata": {
        "colab": {
          "base_uri": "https://localhost:8080/"
        },
        "id": "s4FoAnuc9hE7",
        "outputId": "91f18257-8d8b-4ef3-c558-e9b5f94fabbf",
        "scrolled": true
      },
      "outputs": [
        {
          "name": "stdout",
          "output_type": "stream",
          "text": [
            "CPU times: total: 0 ns\n",
            "Wall time: 1.05 ms\n"
          ]
        }
      ],
      "source": [
        "%%time\n",
        "# Inference implementation\n",
        "interpreter.invoke()\n",
        "tflite_results = interpreter.get_tensor(output_details[0]['index'])"
      ]
    },
    {
      "cell_type": "code",
      "execution_count": 22,
      "metadata": {
        "colab": {
          "base_uri": "https://localhost:8080/"
        },
        "id": "vONjp19J9hE8",
        "outputId": "77205e24-fd00-42c4-f7b6-e06e527c2cba"
      },
      "outputs": [
        {
          "name": "stdout",
          "output_type": "stream",
          "text": [
            "[1.2590284e-02 6.4174882e-03 9.8611757e-08 9.6133763e-01 3.0182914e-03\n",
            " 4.6034771e-07 1.6635723e-02]\n",
            "3\n"
          ]
        }
      ],
      "source": [
        "print(np.squeeze(tflite_results))\n",
        "print(np.argmax(np.squeeze(tflite_results)))"
      ]
    }
  ],
  "metadata": {
    "accelerator": "GPU",
    "colab": {
      "collapsed_sections": [],
      "name": "keypoint_classification_EN.ipynb",
      "provenance": [],
      "toc_visible": true
    },
    "kernelspec": {
      "display_name": "opencv-gestease",
      "language": "python",
      "name": "python3"
    },
    "language_info": {
      "codemirror_mode": {
        "name": "ipython",
        "version": 3
      },
      "file_extension": ".py",
      "mimetype": "text/x-python",
      "name": "python",
      "nbconvert_exporter": "python",
      "pygments_lexer": "ipython3",
      "version": "3.10.6"
    },
    "vscode": {
      "interpreter": {
        "hash": "e859f7a07f054177d83908d3c9149e0b10e36d884a4e4953e203639a3996460f"
      }
    }
  },
  "nbformat": 4,
  "nbformat_minor": 0
}
